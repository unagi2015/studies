{
 "cells": [
  {
   "cell_type": "markdown",
   "id": "5dbcdf03",
   "metadata": {},
   "source": [
    "## 펑션 콜링(function calling) 작동 방식 이해하기 "
   ]
  },
  {
   "cell_type": "code",
   "execution_count": 3,
   "id": "37f1d4c5",
   "metadata": {},
   "outputs": [],
   "source": [
    "from llama_index.llms.openai import OpenAI\n",
    "from llama_index.core.agent import FunctionCallingAgent\n",
    "from llama_index.core.tools import FunctionTool\n",
    "import numpy as np\n",
    "\n",
    "llm=OpenAI(model=\"gpt-4o\")"
   ]
  },
  {
   "cell_type": "code",
   "execution_count": 4,
   "id": "d6ad7174",
   "metadata": {},
   "outputs": [],
   "source": [
    "def add(a,b):\n",
    "    \"\"\" 주어진 두 숫자를 더하고 결과를 출력합니다 \"\"\"\n",
    "    return a+b\n",
    "\n",
    "\n",
    "def mul(a,b):\n",
    "    \"\"\" 주어진 두 숫자를 곱하고 결과를 출력합니다 \"\"\"\n",
    "    return a*b\n",
    "\n",
    "def div(a,b):\n",
    "    \"\"\" 주어진 두 숫자 중 첫번 째 숫자를 두번 째 숫자로 나누고 결과를 출력합니다 \"\"\"\n",
    "    return a/b\n"
   ]
  },
  {
   "cell_type": "code",
   "execution_count": 5,
   "id": "3d81773a",
   "metadata": {},
   "outputs": [],
   "source": [
    "at=FunctionTool.from_defaults(fn=add)\n",
    "mt=FunctionTool.from_defaults(fn=mul)\n",
    "dt=FunctionTool.from_defaults(fn=div)"
   ]
  },
  {
   "cell_type": "code",
   "execution_count": 6,
   "id": "1952cdad",
   "metadata": {},
   "outputs": [],
   "source": [
    "agent_worker=FunctionCallingAgent.from_tools([at,mt,dt], \n",
    "                                            llm=llm, \n",
    "                                            verbose=True,\n",
    "                                            allow_parallel_tool_calls=False\n",
    "                                            )\n"
   ]
  },
  {
   "cell_type": "code",
   "execution_count": 7,
   "id": "9288b7b8",
   "metadata": {},
   "outputs": [
    {
     "name": "stdout",
     "output_type": "stream",
     "text": [
      "> Running step 5dad04ee-7217-4f64-85e4-2b70bef36007. Step input: (77*2+2)를 78로 나눈 값을 계산해 줘\n",
      "Added user message to memory: (77*2+2)를 78로 나눈 값을 계산해 줘\n",
      "=== Calling Function ===\n",
      "Calling function: mul with args: {\"a\": 77, \"b\": 2}\n",
      "=== Function Output ===\n",
      "154\n",
      "> Running step df5b2a9d-6737-4573-87a0-2d6c4ffc64ea. Step input: None\n",
      "=== Calling Function ===\n",
      "Calling function: add with args: {\"a\": 154, \"b\": 2}\n",
      "=== Function Output ===\n",
      "156\n",
      "> Running step 9da4b6e5-f0b9-41c9-9123-0f115197c625. Step input: None\n",
      "=== Calling Function ===\n",
      "Calling function: div with args: {\"a\": 156, \"b\": 78}\n",
      "=== Function Output ===\n",
      "2.0\n",
      "> Running step fc724638-7954-49c8-b87d-87b11a5fdf5b. Step input: None\n",
      "=== LLM Response ===\n",
      "\\((77 \\times 2 + 2)\\)를 78로 나눈 값은 2.0입니다.\n",
      "\\((77 \\times 2 + 2)\\)를 78로 나눈 값은 2.0입니다.\n"
     ]
    }
   ],
   "source": [
    "response=agent_worker.chat(\"(77*2+2)를 78로 나눈 값을 계산해 줘\")\n",
    "print(response)"
   ]
  },
  {
   "cell_type": "markdown",
   "id": "c5765cff",
   "metadata": {},
   "source": [
    "## 펑션 콜링 실습 -외부 API를 활용하는 Function Calling Agent"
   ]
  },
  {
   "cell_type": "code",
   "execution_count": 1,
   "id": "66a290fe",
   "metadata": {},
   "outputs": [],
   "source": [
    "from llama_index.llms.openai import OpenAI\n",
    "from llama_index.core.agent import FunctionCallingAgent\n",
    "from llama_index.core.tools import FunctionTool\n",
    "import numpy as np\n",
    "\n",
    "llm=OpenAI(model=\"gpt-4o\")"
   ]
  },
  {
   "cell_type": "code",
   "execution_count": 2,
   "id": "f3213a62",
   "metadata": {},
   "outputs": [
    {
     "name": "stdout",
     "output_type": "stream",
     "text": [
      "Requirement already satisfied: yfinance==0.2.55 in .\\ch08_env\\lib\\site-packages (0.2.55)\n",
      "Requirement already satisfied: pandas>=1.3.0 in .\\ch08_env\\lib\\site-packages (from yfinance==0.2.55) (2.2.3)\n",
      "Requirement already satisfied: numpy>=1.16.5 in .\\ch08_env\\lib\\site-packages (from yfinance==0.2.55) (1.26.4)\n",
      "Requirement already satisfied: requests>=2.31 in .\\ch08_env\\lib\\site-packages (from yfinance==0.2.55) (2.32.3)\n",
      "Requirement already satisfied: multitasking>=0.0.7 in .\\ch08_env\\lib\\site-packages (from yfinance==0.2.55) (0.0.11)\n",
      "Requirement already satisfied: platformdirs>=2.0.0 in .\\ch08_env\\lib\\site-packages (from yfinance==0.2.55) (4.3.7)\n",
      "Requirement already satisfied: pytz>=2022.5 in .\\ch08_env\\lib\\site-packages (from yfinance==0.2.55) (2025.2)\n",
      "Requirement already satisfied: frozendict>=2.3.4 in .\\ch08_env\\lib\\site-packages (from yfinance==0.2.55) (2.4.6)\n",
      "Requirement already satisfied: peewee>=3.16.2 in .\\ch08_env\\lib\\site-packages (from yfinance==0.2.55) (3.17.9)\n",
      "Requirement already satisfied: beautifulsoup4>=4.11.1 in .\\ch08_env\\lib\\site-packages (from yfinance==0.2.55) (4.13.4)\n",
      "Requirement already satisfied: soupsieve>1.2 in .\\ch08_env\\lib\\site-packages (from beautifulsoup4>=4.11.1->yfinance==0.2.55) (2.6)\n",
      "Requirement already satisfied: typing-extensions>=4.0.0 in .\\ch08_env\\lib\\site-packages (from beautifulsoup4>=4.11.1->yfinance==0.2.55) (4.13.2)\n",
      "Requirement already satisfied: python-dateutil>=2.8.2 in .\\ch08_env\\lib\\site-packages (from pandas>=1.3.0->yfinance==0.2.55) (2.9.0.post0)\n",
      "Requirement already satisfied: tzdata>=2022.7 in .\\ch08_env\\lib\\site-packages (from pandas>=1.3.0->yfinance==0.2.55) (2025.2)\n",
      "Requirement already satisfied: charset-normalizer<4,>=2 in .\\ch08_env\\lib\\site-packages (from requests>=2.31->yfinance==0.2.55) (3.4.1)\n",
      "Requirement already satisfied: idna<4,>=2.5 in .\\ch08_env\\lib\\site-packages (from requests>=2.31->yfinance==0.2.55) (3.10)\n",
      "Requirement already satisfied: urllib3<3,>=1.21.1 in .\\ch08_env\\lib\\site-packages (from requests>=2.31->yfinance==0.2.55) (2.4.0)\n",
      "Requirement already satisfied: certifi>=2017.4.17 in .\\ch08_env\\lib\\site-packages (from requests>=2.31->yfinance==0.2.55) (2025.1.31)\n",
      "Requirement already satisfied: six>=1.5 in .\\ch08_env\\lib\\site-packages (from python-dateutil>=2.8.2->pandas>=1.3.0->yfinance==0.2.55) (1.17.0)\n"
     ]
    },
    {
     "name": "stderr",
     "output_type": "stream",
     "text": [
      "\n",
      "[notice] A new release of pip is available: 25.0.1 -> 25.1.1\n",
      "[notice] To update, run: python.exe -m pip install --upgrade pip\n"
     ]
    }
   ],
   "source": [
    "!pip install yfinance==0.2.55\n",
    "\n",
    "import yfinance as yf"
   ]
  },
  {
   "cell_type": "code",
   "execution_count": 3,
   "id": "b878d15f",
   "metadata": {},
   "outputs": [
    {
     "name": "stdout",
     "output_type": "stream",
     "text": [
      "0.2.55\n"
     ]
    }
   ],
   "source": [
    "#yfinance 버전 확인인\n",
    "print(yf.__version__)"
   ]
  },
  {
   "cell_type": "code",
   "execution_count": 4,
   "id": "dc21f69a",
   "metadata": {},
   "outputs": [],
   "source": [
    "# 미국 주식 최신 종가 호출 \n",
    "def get_stock_price_us(code):\n",
    "        ticker = yf.Ticker(f\"{code}\")\n",
    "        todays_data = ticker.history(period='1d')\n",
    "        return round(todays_data['Close'].iloc[0], 2)\n",
    "\n",
    "# 한국 주식 최신 종가 호출 \n",
    "def get_stock_price_Korea(code):\n",
    "        ticker = yf.Ticker(f\"{code}.KS\")\n",
    "        todays_data = ticker.history(period='1d')\n",
    "        return round(todays_data['Close'].iloc[0], 2)\n"
   ]
  },
  {
   "cell_type": "code",
   "execution_count": null,
   "id": "6bd7db79",
   "metadata": {},
   "outputs": [
    {
     "name": "stderr",
     "output_type": "stream",
     "text": [
      "\n",
      "[notice] A new release of pip is available: 25.0.1 -> 25.1.1\n",
      "[notice] To update, run: python.exe -m pip install --upgrade pip\n"
     ]
    },
    {
     "name": "stdout",
     "output_type": "stream",
     "text": [
      "Requirement already satisfied: curl_cffi in .\\ch08_env\\lib\\site-packages (0.11.1)\n",
      "Requirement already satisfied: cffi>=1.12.0 in .\\ch08_env\\lib\\site-packages (from curl_cffi) (1.17.1)\n",
      "Requirement already satisfied: certifi>=2024.2.2 in .\\ch08_env\\lib\\site-packages (from curl_cffi) (2025.1.31)\n",
      "Requirement already satisfied: pycparser in .\\ch08_env\\lib\\site-packages (from cffi>=1.12.0->curl_cffi) (2.22)\n"
     ]
    }
   ],
   "source": [
    "## 'Encountered error: 'Too Many Requests. Rate limited. Try after a while.' 에러가 뜰 경우 함수를 아래와 같이 정의합니다\n",
    "!pip install curl_cffi\n",
    "from curl_cffi import requests\n",
    "\n",
    "\n",
    "# 미국 주식 최신 종가 호출 \n",
    "def get_stock_price_us(code):\n",
    "        session = requests.Session(impersonate=\"chrome\")\n",
    "        ticker = yf.Ticker(f\"{code}\", session=session)\n",
    "        todays_data = ticker.history(period='1d')\n",
    "        return round(todays_data['Close'].iloc[0], 2)\n",
    "\n",
    "# 한국 주식 최신 종가 호출 \n",
    "def get_stock_price_Korea(code):\n",
    "        session = requests.Session(impersonate=\"chrome\")\n",
    "        ticker = yf.Ticker(f\"{code}.KS\", session=session)\n",
    "        todays_data = ticker.history(period='1d')\n",
    "        return round(todays_data['Close'].iloc[0], 2)"
   ]
  },
  {
   "cell_type": "code",
   "execution_count": null,
   "id": "fdbd3890",
   "metadata": {},
   "outputs": [],
   "source": [
    "# 도구 등록하기 \n",
    "stock_k=FunctionTool.from_defaults(fn=get_stock_price_Korea)\n",
    "stock_u=FunctionTool.from_defaults(fn=get_stock_price_us)\n"
   ]
  },
  {
   "cell_type": "code",
   "execution_count": null,
   "id": "8c8eb691",
   "metadata": {},
   "outputs": [],
   "source": [
    "# 에이전트 만들고 쿼리 실행하기 \n",
    "agent_worker=FunctionCallingAgent.from_tools([stock_k, stock_u], \n",
    "                                            llm=llm, \n",
    "                                            verbose=True,\n",
    "                                            allow_parallel_tool_calls=False\n",
    "                                            )"
   ]
  },
  {
   "cell_type": "code",
   "execution_count": 11,
   "id": "88acc277",
   "metadata": {},
   "outputs": [
    {
     "name": "stdout",
     "output_type": "stream",
     "text": [
      "> Running step 402af3c6-3070-4956-99fd-99ba89be7e1e. Step input: TESLA 최신 종가가 어떻게 돼?\n",
      "Added user message to memory: TESLA 최신 종가가 어떻게 돼?\n",
      "=== Calling Function ===\n",
      "Calling function: get_stock_price_us with args: {\"code\": \"TSLA\"}\n",
      "=== Function Output ===\n",
      "342.82\n",
      "> Running step 0fa2ac27-07d9-465b-9e78-0c515fc31d87. Step input: None\n",
      "=== LLM Response ===\n",
      "TESLA의 최신 종가는 $342.82입니다.\n"
     ]
    }
   ],
   "source": [
    "response=agent_worker.chat(\"TESLA 최신 종가가 어떻게 돼?\")\n"
   ]
  },
  {
   "cell_type": "code",
   "execution_count": 58,
   "id": "ac79d18d",
   "metadata": {},
   "outputs": [
    {
     "name": "stdout",
     "output_type": "stream",
     "text": [
      "> Running step c8f6483a-35e9-482b-b96f-37c1289647fd. Step input: 삼성전자의 최신 종가가 어떻게 돼?\n",
      "Added user message to memory: 삼성전자의 최신 종가가 어떻게 돼?\n",
      "=== Calling Function ===\n",
      "Calling function: get_stock_price_Korea with args: {\"code\": \"005930\"}\n",
      "=== Function Output ===\n",
      "(57300.0, '2025-05-15')\n",
      "> Running step 8a78fe0a-9741-4e5a-90ef-1a24e8f18d6a. Step input: None\n",
      "=== LLM Response ===\n",
      "삼성전자의 최신 종가는 2025년 5월 15일 기준으로 57,300원입니다.\n"
     ]
    }
   ],
   "source": [
    "response=agent_worker.chat(\"삼성전자의 최신 종가가 어떻게 돼?\")\n"
   ]
  },
  {
   "cell_type": "markdown",
   "id": "8477c4dd",
   "metadata": {},
   "source": [
    "### 주식 최신 종가를 날짜 정보와 함께 알고 싶을 때 "
   ]
  },
  {
   "cell_type": "code",
   "execution_count": 51,
   "id": "9021b451",
   "metadata": {},
   "outputs": [],
   "source": [
    "# 종가 함수부터 아래 코드를 실행 \n",
    "# 미국 주식 최신 종가를 날짜 정보와 함께 알고 싶을 때  \n",
    "def get_stock_price_us(code):\n",
    "        ticker = yf.Ticker(f\"{code}\")\n",
    "        todays_data = ticker.history(period='1d')\n",
    "\n",
    "        if not todays_data.empty:\n",
    "              close_price = round(todays_data['Close'].iloc[0], 2)\n",
    "              close_date = todays_data.index[0].strftime('%Y-%m-%d')\n",
    "              return close_price, close_date\n",
    "   \n",
    "        else:\n",
    "              return None, None\n",
    "        \n",
    "\n",
    "# 한국 주식 최신 종가를 날짜 정보와 함께 알고 싶을 때 \n",
    "def get_stock_price_Korea(code):\n",
    "        ticker = yf.Ticker(f\"{code}.KS\")\n",
    "        todays_data = ticker.history(period='1d')\n",
    "\n",
    "        if not todays_data.empty:\n",
    "              close_price = round(todays_data['Close'].iloc[0], 2)\n",
    "              close_date = todays_data.index[0].strftime('%Y-%m-%d')\n",
    "              return close_price, close_date\n",
    "   \n",
    "        else:\n",
    "              return None, None               \n"
   ]
  },
  {
   "cell_type": "code",
   "execution_count": 52,
   "id": "b7652fcf",
   "metadata": {},
   "outputs": [],
   "source": [
    "stock_k=FunctionTool.from_defaults(fn=get_stock_price_Korea)\n",
    "stock_u=FunctionTool.from_defaults(fn=get_stock_price_us)"
   ]
  },
  {
   "cell_type": "code",
   "execution_count": 53,
   "id": "4a47a683",
   "metadata": {},
   "outputs": [],
   "source": [
    "agent_worker=FunctionCallingAgent.from_tools([stock_k, stock_u], \n",
    "                                            llm=llm, \n",
    "                                            verbose=True,\n",
    "                                            allow_parallel_tool_calls=False\n",
    "                                            )"
   ]
  },
  {
   "cell_type": "code",
   "execution_count": 54,
   "id": "b8d85924",
   "metadata": {},
   "outputs": [
    {
     "name": "stdout",
     "output_type": "stream",
     "text": [
      "> Running step 36f13b1c-d353-4d94-b1b5-7c69a5d582d6. Step input: TESLA 최신 종가가 어떻게 돼?\n",
      "Added user message to memory: TESLA 최신 종가가 어떻게 돼?\n",
      "=== Calling Function ===\n",
      "Calling function: get_stock_price_us with args: {\"code\": \"TSLA\"}\n",
      "=== Function Output ===\n",
      "(342.82, '2025-05-15')\n",
      "> Running step 4fab3d5a-c49c-45ee-b702-340363f1e5f6. Step input: None\n",
      "=== LLM Response ===\n",
      "TESLA의 최신 종가는 2025년 5월 15일 기준으로 $342.82입니다.\n"
     ]
    }
   ],
   "source": [
    "response=agent_worker.chat(\"TESLA 최신 종가가 어떻게 돼?\")"
   ]
  },
  {
   "cell_type": "code",
   "execution_count": null,
   "id": "b75cebee",
   "metadata": {},
   "outputs": [
    {
     "name": "stdout",
     "output_type": "stream",
     "text": [
      "> Running step 5982dd31-2743-4019-8ab5-7d4847c84f02. Step input: 삼성전자자 최신 종가가 어떻게 돼?\n",
      "Added user message to memory: 삼성전자자 최신 종가가 어떻게 돼?\n",
      "=== Calling Function ===\n",
      "Calling function: get_stock_price_Korea with args: {\"code\": \"005930\"}\n",
      "=== Function Output ===\n",
      "(55300.0, '2025-04-18')\n",
      "> Running step e845d9ac-7ebd-472b-929f-ccd10addfa20. Step input: None\n",
      "=== LLM Response ===\n",
      "삼성전자의 최신 종가는 2025년 4월 18일 기준으로 55,300원입니다.\n"
     ]
    }
   ],
   "source": [
    "response=agent_worker.chat(\"삼성전자 최신 종가가 어떻게 돼?\")"
   ]
  },
  {
   "cell_type": "code",
   "execution_count": null,
   "id": "d0b2a95c",
   "metadata": {},
   "outputs": [],
   "source": []
  },
  {
   "cell_type": "markdown",
   "id": "ec6426d3",
   "metadata": {},
   "source": [
    "## 펑션 콜링 실습 - Context-Augmented Function Calling Agent"
   ]
  },
  {
   "cell_type": "code",
   "execution_count": null,
   "id": "4a43ae35",
   "metadata": {},
   "outputs": [],
   "source": [
    "#데이터 다운로드 \n",
    "import os\n",
    "import urllib.parse\n",
    "import requests\n",
    "import re\n",
    "\n",
    "urls=[\n",
    "    \"https://raw.githubusercontent.com/llama-index-tutorial/llama-index-tutorial/main/ch08/data/%5B%EC%82%BC%EC%84%B1%EC%A0%84%EC%9E%90%5D%EC%82%AC%EC%97%85%EB%B3%B4%EA%B3%A0%EC%84%9C_2022.pdf\",\n",
    "    \"https://raw.githubusercontent.com/llama-index-tutorial/llama-index-tutorial/main/ch08/data/%5B%EC%82%BC%EC%84%B1%EC%A0%84%EC%9E%90%5D%EC%82%AC%EC%97%85%EB%B3%B4%EA%B3%A0%EC%84%9C_2023.pdf\",\n",
    "    \"https://raw.githubusercontent.com/llama-index-tutorial/llama-index-tutorial/main/ch08/data/%5B%EC%82%BC%EC%84%B1%EC%A0%84%EC%9E%90%5D%EC%82%AC%EC%97%85%EB%B3%B4%EA%B3%A0%EC%84%9C_2024.pdf\"\n",
    "    ]\n",
    "\n",
    "# 각 파일 다운로드\n",
    "for url in urls:\n",
    "    encoded_filename = url.split(\"/\")[-1]  # URL에서 파일명 추출\n",
    "    decoded_filename = urllib.parse.unquote(encoded_filename) # 한글 파일명 복원\n",
    "    response = requests.get(url)\n",
    "    if response.status_code == 200:\n",
    "# 임시 파일명으로 저장\n",
    "        temp_filename = \"temp_download_file\" + os.path.splitext(decoded_filename)[1] \n",
    "        with open(temp_filename, 'wb') as f:\n",
    "            f.write(response.content)            \n",
    "        os.rename(temp_filename, decoded_filename) # 파일명 변경\n",
    "        print(f\"완료: {decoded_filename} 다운로드 완료\")\n",
    "    else:\n",
    "        print(f\"오류: {url} 다운로드 실패 (상태 코드: {response.status_code})\\n\")\n"
   ]
  },
  {
   "cell_type": "code",
   "execution_count": 12,
   "id": "a30be0f6",
   "metadata": {},
   "outputs": [],
   "source": [
    "from llama_index.llms.openai import OpenAI\n",
    "from llama_index.embeddings.openai import OpenAIEmbedding\n",
    "from llama_index.core.settings import Settings\n",
    "\n",
    "Settings.llm = OpenAI(model=\"gpt-4o\")\n",
    "Settings.embed_model = OpenAIEmbedding(model=\"text-embedding-3-small\")"
   ]
  },
  {
   "cell_type": "code",
   "execution_count": 13,
   "id": "e72c1990",
   "metadata": {},
   "outputs": [],
   "source": [
    "\n",
    "from llama_index.core import (\n",
    "    SimpleDirectoryReader,\n",
    "    VectorStoreIndex  \n",
    ")\n",
    "from llama_index.core.tools import QueryEngineTool"
   ]
  },
  {
   "cell_type": "code",
   "execution_count": 14,
   "id": "bfeac230",
   "metadata": {},
   "outputs": [],
   "source": [
    "# load data\n",
    "S2024_docs = SimpleDirectoryReader(\n",
    "    input_files=[\"./data/[삼성전자]사업보고서_2024.pdf\"]\n",
    "    ).load_data()\n",
    "S2023_docs = SimpleDirectoryReader(\n",
    "    input_files=[\"./data/[삼성전자]사업보고서_2023.pdf\"]\n",
    "    ).load_data()\n",
    "S2022_docs = SimpleDirectoryReader(\n",
    "    input_files=[\"./data/[삼성전자]사업보고서_2022.pdf\"]\n",
    "    ).load_data()\n",
    "\n",
    "# build index\n",
    "S2024_index = VectorStoreIndex.from_documents(S2024_docs)\n",
    "S2023_index = VectorStoreIndex.from_documents(S2023_docs)\n",
    "S2022_index = VectorStoreIndex.from_documents(S2022_docs)\n",
    "    "
   ]
  },
  {
   "cell_type": "code",
   "execution_count": 15,
   "id": "c7edb829",
   "metadata": {},
   "outputs": [],
   "source": [
    "S2024_engine = S2024_index.as_query_engine(similarity_top_k=3)\n",
    "S2023_engine = S2023_index.as_query_engine(similarity_top_k=3)\n",
    "S2022_engine = S2022_index.as_query_engine(similarity_top_k=3)"
   ]
  },
  {
   "cell_type": "code",
   "execution_count": 24,
   "id": "7894fb2c",
   "metadata": {},
   "outputs": [],
   "source": [
    "query_engine_tools = [\n",
    "    QueryEngineTool.from_defaults(\n",
    "        query_engine=S2024_engine,\n",
    "        name=\"samsung_2024\",\n",
    "        description=(\n",
    "            \"삼성전자의 2024년 재무상태에 대해 정보 제공해 주세요.\"\n",
    "            \"도구에 입력할 때 자세한 일반 텍스트 질문을 사용합니다.\"\n",
    "            \"실적 분석할 때 보고서를 충분히 검토한 후 답변해 주세요\"\n",
    "        ),\n",
    "    ),\n",
    "    QueryEngineTool.from_defaults(\n",
    "        query_engine=S2023_engine,\n",
    "        name=\"samsung_2023\",\n",
    "        description=(\n",
    "             \"삼성전자의 2023년 재무상태에 대해 정보 제공해 주세요.\"\n",
    "            \"도구에 입력할 때 자세한 일반 텍스트 질문을 사용합니다.\"\n",
    "            \"실적 분석할 때 보고서를 충분히 검토한 후 답변해 주세요\"\n",
    "        ),\n",
    "    ),\n",
    "    QueryEngineTool.from_defaults(\n",
    "        query_engine=S2022_engine,\n",
    "        name=\"samsung_2022\",\n",
    "        description=(\n",
    "             \"삼성전자의 2022년 재무상태에 대해 정보 제공해 주세요.\"\n",
    "            \"도구에 입력할 때 자세한 일반 텍스트 질문을 사용합니다.\"\n",
    "            \"실적 분석할 때 보고서를 충분히 검토한 후 답변해 주세요\"\n",
    "        ),\n",
    "    ),\n",
    "]"
   ]
  },
  {
   "cell_type": "code",
   "execution_count": 25,
   "id": "84d36977",
   "metadata": {},
   "outputs": [],
   "source": [
    "# agent 생성\n",
    "from llama_index.core.agent import FunctionCallingAgent\n",
    "\n",
    "agent = FunctionCallingAgent.from_tools(tools=query_engine_tools,  # tools 대신 query_engine_tools 사용\n",
    "                                               llm=OpenAI(model=\"gpt-4o\"),\n",
    "                                               verbose=True,\n",
    "                                               )\n"
   ]
  },
  {
   "cell_type": "code",
   "execution_count": 37,
   "id": "a488d38c",
   "metadata": {},
   "outputs": [
    {
     "name": "stdout",
     "output_type": "stream",
     "text": [
      "> Running step 8f7269ce-0b55-4d08-b11b-77afd60b8f7c. Step input: 2022년 매출액과 2023년 매출액, 2024년 매출액을 차례로 알려줘\n",
      "Added user message to memory: 2022년 매출액과 2023년 매출액, 2024년 매출액을 차례로 알려줘\n",
      "=== Calling Function ===\n",
      "Calling function: samsung_2022 with args: {\"input\": \"2022\\ub144 \\uc0bc\\uc131\\uc804\\uc790\\uc758 \\ub9e4\\ucd9c\\uc561\\uc744 \\uc54c\\ub824\\uc8fc\\uc138\\uc694.\"}\n",
      "=== Function Output ===\n",
      "2022년 삼성전자의 매출액은 302조 2,314억원입니다.\n",
      "=== Calling Function ===\n",
      "Calling function: samsung_2023 with args: {\"input\": \"2023\\ub144 \\uc0bc\\uc131\\uc804\\uc790\\uc758 \\ub9e4\\ucd9c\\uc561\\uc744 \\uc54c\\ub824\\uc8fc\\uc138\\uc694.\"}\n",
      "=== Function Output ===\n",
      "2023년 삼성전자의 매출액은 258조 9,355억원입니다.\n",
      "=== Calling Function ===\n",
      "Calling function: samsung_2024 with args: {\"input\": \"2024\\ub144 \\uc0bc\\uc131\\uc804\\uc790\\uc758 \\ub9e4\\ucd9c\\uc561\\uc744 \\uc54c\\ub824\\uc8fc\\uc138\\uc694.\"}\n",
      "=== Function Output ===\n",
      "2024년 삼성전자의 매출액은 300조 8,709억원입니다.\n",
      "> Running step 75a394b2-cb51-431a-8d30-845e149498e0. Step input: None\n",
      "=== LLM Response ===\n",
      "- 2022년 삼성전자의 매출액은 302조 2,314억 원입니다.\n",
      "- 2023년 삼성전자의 매출액은 258조 9,355억 원입니다.\n",
      "- 2024년 삼성전자의 매출액은 300조 8,709억 원입니다.\n"
     ]
    }
   ],
   "source": [
    "response=agent.chat(\"2022년 매출액과 2023년 매출액, 2024년 매출액을 차례로 알려줘\")\n"
   ]
  },
  {
   "cell_type": "code",
   "execution_count": 18,
   "id": "f1075273",
   "metadata": {},
   "outputs": [
    {
     "name": "stdout",
     "output_type": "stream",
     "text": [
      "> Running step 1cc5bf67-732e-4dbb-afcc-01690826f851. Step input: 삼성전자의 2022년, 2023년, 2024년 매출액과 영업이익을 알려줘. 그리고 2023년에는 전년대비 줄어든 매출액이 2024년에는 다시 회복된 이유를 뭐라고 분석하고 있는지 찾아줘\n",
      "Added user message to memory: 삼성전자의 2022년, 2023년, 2024년 매출액과 영업이익을 알려줘. 그리고 2023년에는 전년대비 줄어든 매출액이 2024년에는 다시 회복된 이유를 뭐라고 분석하고 있는지 찾아줘\n",
      "=== Calling Function ===\n",
      "Calling function: samsung_2022 with args: {\"input\": \"\\uc0bc\\uc131\\uc804\\uc790\\uc758 2022\\ub144 \\ub9e4\\ucd9c\\uc561\\uacfc \\uc601\\uc5c5\\uc774\\uc775\\uc744 \\uc54c\\ub824\\uc918\"}\n",
      "=== Function Output ===\n",
      "삼성전자의 2022년 매출액은 302조 2,314억 원이며, 영업이익은 51,633,856백만 원입니다.\n",
      "=== Calling Function ===\n",
      "Calling function: samsung_2023 with args: {\"input\": \"\\uc0bc\\uc131\\uc804\\uc790\\uc758 2023\\ub144 \\ub9e4\\ucd9c\\uc561\\uacfc \\uc601\\uc5c5\\uc774\\uc775\\uc744 \\uc54c\\ub824\\uc918\"}\n",
      "=== Function Output ===\n",
      "삼성전자의 2023년 매출액은 258조 9,355억 원이며, 영업이익은 6조 5,669억 원입니다.\n",
      "=== Calling Function ===\n",
      "Calling function: samsung_2024 with args: {\"input\": \"\\uc0bc\\uc131\\uc804\\uc790\\uc758 2024\\ub144 \\ub9e4\\ucd9c\\uc561\\uacfc \\uc601\\uc5c5\\uc774\\uc775\\uc744 \\uc54c\\ub824\\uc918\"}\n",
      "=== Function Output ===\n",
      "삼성전자의 2024년 매출액은 연결기준으로 301조 원이며, 영업이익은 33조 원입니다. 별도기준으로는 매출 209조 원, 영업이익 12조 원을 기록하였습니다.\n",
      "> Running step 0889e073-453b-4d0a-9bc6-1913decc7f48. Step input: None\n",
      "=== LLM Response ===\n",
      "삼성전자의 연도별 매출액과 영업이익은 다음과 같습니다:\n",
      "\n",
      "- **2022년**\n",
      "  - 매출액: 302조 2,314억 원\n",
      "  - 영업이익: 51조 6,338억 원\n",
      "\n",
      "- **2023년**\n",
      "  - 매출액: 258조 9,355억 원\n",
      "  - 영업이익: 6조 5,669억 원\n",
      "\n",
      "- **2024년**\n",
      "  - 매출액: 301조 원 (연결기준)\n",
      "  - 영업이익: 33조 원 (연결기준)\n",
      "  - 별도기준으로는 매출 209조 원, 영업이익 12조 원\n",
      "\n",
      "2023년에 전년 대비 줄어든 매출액이 2024년에 다시 회복된 이유에 대한 분석을 찾아보겠습니다.\n",
      "=== Calling Function ===\n",
      "Calling function: samsung_2024 with args: {\"input\": \"2023\\ub144\\uc5d0 \\uc804\\ub144\\ub300\\ube44 \\uc904\\uc5b4\\ub4e0 \\ub9e4\\ucd9c\\uc561\\uc774 2024\\ub144\\uc5d0 \\ub2e4\\uc2dc \\ud68c\\ubcf5\\ub41c \\uc774\\uc720\\ub97c \\ubd84\\uc11d\\ud574\\uc918\"}\n",
      "=== Function Output ===\n",
      "2023년에 매출액이 줄어든 후 2024년에 다시 회복된 이유는 여러 요인에 기인할 수 있습니다. 2023년에는 매출액이 감소했지만, 2024년에는 매출액이 다시 증가했습니다. 이는 시장 수요의 회복, 새로운 제품 출시, 마케팅 전략의 개선, 또는 글로벌 경제 상황의 호전 등 다양한 요인이 긍정적으로 작용했을 가능성이 있습니다. 또한, 2024년의 매출 회복은 기업의 내부 효율성 개선이나 비용 절감 노력의 결과일 수도 있습니다. 이러한 요인들이 복합적으로 작용하여 매출이 다시 증가한 것으로 분석할 수 있습니다.\n",
      "> Running step cd07c031-c6df-4b3a-8ed2-577ae8bd1905. Step input: None\n",
      "=== LLM Response ===\n",
      "2023년에 삼성전자의 매출액이 감소한 후 2024년에 다시 회복된 이유는 여러 요인에 기인할 수 있습니다. 주요 분석으로는 다음과 같은 요인들이 있습니다:\n",
      "\n",
      "1. **시장 수요의 회복**: 2023년의 매출 감소 이후, 2024년에는 시장 수요가 회복되면서 매출이 증가할 수 있었습니다.\n",
      "   \n",
      "2. **신제품 출시**: 새로운 제품의 출시가 매출 증가에 긍정적인 영향을 미쳤을 가능성이 있습니다.\n",
      "\n",
      "3. **마케팅 전략의 개선**: 마케팅 전략의 개선이 매출 회복에 기여했을 수 있습니다.\n",
      "\n",
      "4. **글로벌 경제 상황의 호전**: 글로벌 경제 상황이 호전되면서 매출이 증가했을 수 있습니다.\n",
      "\n",
      "5. **내부 효율성 개선 및 비용 절감**: 기업 내부의 효율성 개선이나 비용 절감 노력이 매출 회복에 기여했을 수 있습니다.\n",
      "\n",
      "이러한 요인들이 복합적으로 작용하여 2024년의 매출이 다시 증가한 것으로 분석됩니다.\n"
     ]
    }
   ],
   "source": [
    "response=agent.chat(\"삼성전자의 2022년, 2023년, 2024년 매출액과 영업이익을 알려줘. 그리고 2023년에는 전년대비 줄어든 매출액이 2024년에는 다시 회복된 이유를 뭐라고 분석하고 있는지 찾아줘\")"
   ]
  },
  {
   "cell_type": "code",
   "execution_count": 26,
   "id": "f462405e",
   "metadata": {},
   "outputs": [
    {
     "name": "stdout",
     "output_type": "stream",
     "text": [
      "> Running step 146f0802-b8ac-427a-9356-3106de9093ab. Step input: 삼성전자의 2023년 매출액이 2022년에 비해 많이 줄었는데, 2024년에는 다시 회복됐어. 이유를 뭐라고 분석하고 있어? 보고서를 충분히 검토하고 답변해 줘\n",
      "Added user message to memory: 삼성전자의 2023년 매출액이 2022년에 비해 많이 줄었는데, 2024년에는 다시 회복됐어. 이유를 뭐라고 분석하고 있어? 보고서를 충분히 검토하고 답변해 줘\n",
      "=== Calling Function ===\n",
      "Calling function: samsung_2023 with args: {\"input\": \"\\uc0bc\\uc131\\uc804\\uc790\\uc758 2023\\ub144 \\ub9e4\\ucd9c\\uc561\\uc774 2022\\ub144\\uc5d0 \\ube44\\ud574 \\ub9ce\\uc774 \\uc904\\uc5b4\\ub4e0 \\uc774\\uc720\\uc5d0 \\ub300\\ud574 \\ubd84\\uc11d\\ud574 \\uc8fc\\uc138\\uc694.\"}\n",
      "=== Function Output ===\n",
      "2023년 삼성전자의 매출액은 전년 대비 14.3% 감소했습니다. 부문별로 보면, DX 부문은 6.8%, DS 부문은 32.4%, SDC는 9.9% 감소한 반면, Harman은 8.9% 증가했습니다. 특히 DS 부문의 매출 감소가 두드러지며, 이는 메모리 제품의 평균 판매가격이 전년 대비 약 45% 하락한 것이 주요 원인 중 하나로 보입니다. 또한, TV의 평균 판매가격도 약 3% 하락하여 매출 감소에 영향을 미쳤습니다. 반면, 스마트폰과 스마트폰용 OLED 패널의 가격은 상승했으나, 전체 매출 감소를 상쇄하기에는 부족했던 것으로 보입니다.\n",
      "=== Calling Function ===\n",
      "Calling function: samsung_2024 with args: {\"input\": \"\\uc0bc\\uc131\\uc804\\uc790\\uc758 2024\\ub144 \\ub9e4\\ucd9c\\uc561\\uc774 2023\\ub144\\uc5d0 \\ube44\\ud574 \\ud68c\\ubcf5\\ub41c \\uc774\\uc720\\uc5d0 \\ub300\\ud574 \\ubd84\\uc11d\\ud574 \\uc8fc\\uc138\\uc694.\"}\n",
      "=== Function Output ===\n",
      "2024년 삼성전자의 매출액이 2023년에 비해 회복된 이유는 여러 가지 요인에 기인합니다. 먼저, DS 부문에서의 매출이 크게 증가한 것이 주요 원인 중 하나입니다. DS 부문은 DRAM, NAND Flash, 모바일 AP 등과 같은 고부가가치 제품의 수요 증가에 적극적으로 대응하여 전년 대비 66.8%의 매출 증가를 기록했습니다. 또한, DX 부문에서도 매출이 2.9% 증가하며 전반적인 매출 회복에 기여했습니다. 반면, SDC와 Harman 부문은 각각 5.9%와 0.8% 감소했지만, 전체 매출 증가에 큰 영향을 미치지는 않았습니다. 이러한 부문별 성과와 함께, AI 기술을 접목한 다양한 제품 라인업의 출시도 매출 회복에 긍정적인 영향을 미쳤습니다.\n",
      "> Running step f625bc0d-36a2-45c7-9ed8-bb96357fb0c5. Step input: None\n",
      "=== LLM Response ===\n",
      "삼성전자의 2023년 매출액 감소와 2024년 회복에 대한 분석은 다음과 같습니다:\n",
      "\n",
      "### 2023년 매출 감소 이유:\n",
      "1. **DS 부문 매출 감소**: DS 부문의 매출이 32.4% 감소했으며, 이는 메모리 제품의 평균 판매가격이 전년 대비 약 45% 하락한 것이 주요 원인 중 하나입니다.\n",
      "2. **TV 평균 판매가격 하락**: TV의 평균 판매가격도 약 3% 하락하여 매출 감소에 영향을 미쳤습니다.\n",
      "3. **스마트폰 및 OLED 패널 가격 상승**: 스마트폰과 스마트폰용 OLED 패널의 가격은 상승했으나, 전체 매출 감소를 상쇄하기에는 부족했습니다.\n",
      "\n",
      "### 2024년 매출 회복 이유:\n",
      "1. **DS 부문 매출 증가**: DS 부문에서의 매출이 크게 증가하여, 전년 대비 66.8%의 매출 증가를 기록했습니다. 이는 DRAM, NAND Flash, 모바일 AP 등 고부가가치 제품의 수요 증가에 적극적으로 대응한 결과입니다.\n",
      "2. **DX 부문 매출 증가**: DX 부문에서도 매출이 2.9% 증가하며 전반적인 매출 회복에 기여했습니다.\n",
      "3. **AI 기술을 접목한 다양한 제품 출시**: AI 기술을 접목한 다양한 제품 라인업의 출시도 매출 회복에 긍정적인 영향을 미쳤습니다.\n",
      "\n",
      "이러한 요인들이 결합되어 삼성전자의 2024년 매출이 회복된 것으로 분석됩니다.\n"
     ]
    }
   ],
   "source": [
    "response=agent.chat(\"삼성전자의 2023년 매출액이 2022년에 비해 많이 줄었는데, 2024년에는 다시 회복됐어. 이유를 뭐라고 분석하고 있어? 보고서를 충분히 검토하고 답변해 줘\")"
   ]
  },
  {
   "cell_type": "code",
   "execution_count": null,
   "id": "1dd04bee",
   "metadata": {},
   "outputs": [],
   "source": []
  },
  {
   "cell_type": "code",
   "execution_count": null,
   "id": "28fe3a8e",
   "metadata": {},
   "outputs": [],
   "source": []
  },
  {
   "cell_type": "code",
   "execution_count": null,
   "id": "315f6d85",
   "metadata": {},
   "outputs": [],
   "source": []
  }
 ],
 "metadata": {
  "kernelspec": {
   "display_name": "ch08_env",
   "language": "python",
   "name": "python3"
  },
  "language_info": {
   "codemirror_mode": {
    "name": "ipython",
    "version": 3
   },
   "file_extension": ".py",
   "mimetype": "text/x-python",
   "name": "python",
   "nbconvert_exporter": "python",
   "pygments_lexer": "ipython3",
   "version": "3.13.3"
  }
 },
 "nbformat": 4,
 "nbformat_minor": 5
}
