{
 "cells": [
  {
   "cell_type": "code",
   "execution_count": 2,
   "id": "9eac3b0c-9c17-4b4f-9cf3-fb93617a936c",
   "metadata": {},
   "outputs": [
    {
     "name": "stdout",
     "output_type": "stream",
     "text": [
      "\n",
      "\u001b[1m[\u001b[0m\u001b[34;49mnotice\u001b[0m\u001b[1;39;49m]\u001b[0m\u001b[39;49m A new release of pip is available: \u001b[0m\u001b[31;49m25.0.1\u001b[0m\u001b[39;49m -> \u001b[0m\u001b[32;49m25.1.1\u001b[0m\n",
      "\u001b[1m[\u001b[0m\u001b[34;49mnotice\u001b[0m\u001b[1;39;49m]\u001b[0m\u001b[39;49m To update, run: \u001b[0m\u001b[32;49mpip install --upgrade pip\u001b[0m\n"
     ]
    }
   ],
   "source": [
    "!pip install llama-index-vector-stores-qdrant==0.3.0 -q"
   ]
  },
  {
   "cell_type": "markdown",
   "id": "1fdf8db8-6aa7-4ee7-934f-69f3df0b251c",
   "metadata": {},
   "source": [
    "### 3.4.1 라마인덱스 기반 답변 생성"
   ]
  },
  {
   "cell_type": "code",
   "execution_count": 3,
   "id": "0866b910-bd6f-43c0-be7f-ffe5cf4e720f",
   "metadata": {},
   "outputs": [],
   "source": [
    "from llama_index.core import VectorStoreIndex\n",
    "from llama_index.vector_stores.qdrant import QdrantVectorStore\n",
    "from qdrant_client import QdrantClient\n",
    "from qdrant_client.models import Distance, VectorParams\n",
    "from llama_index.core.schema import Document"
   ]
  },
  {
   "cell_type": "code",
   "execution_count": 4,
   "id": "c51b5726-e7f9-4429-b8c8-7c0539b5d791",
   "metadata": {},
   "outputs": [],
   "source": [
    "from qdrant_client import QdrantClient\n",
    "\n",
    "client = QdrantClient(\":memory:\")\n",
    "# 문서 데이터\n",
    "documents = [\n",
    "    \"고양이는 작은 육식동물로, 주로 애완동물로 기릅니다. 민첩하고 장난기 있는 행동으로 유명합니다.\",\n",
    "    \"강아지는 충성심이 강하고 친절한 동물로, 흔히 인간의 최고의 친구로 불립니다. 주로 애완동물로 기르고, 동반자로서 유명합니다.\",\n",
    "    \"고양이와 강아지는 전 세계적으로 인기 있는 애완동물로, 각각 독특한 특징을 가지고 있습니다.\"\n",
    "]\n",
    "ids = [\"doc1\", \"doc2\", \"doc3\"]\n",
    "\n",
    "# 문서를 Document 형식으로 변환\n",
    "documents = [Document(text=doc, id_=doc_id) for doc, doc_id in zip(documents, ids)]"
   ]
  },
  {
   "cell_type": "code",
   "execution_count": 5,
   "id": "475e3e21-e5c3-41d6-8b33-c12a07a75684",
   "metadata": {},
   "outputs": [],
   "source": [
    "# 특정 디렉토리에 저장 할 경우\n",
    "client = QdrantClient(path=\"./qdrant_db\")"
   ]
  },
  {
   "cell_type": "code",
   "execution_count": 10,
   "id": "f830cc29-3f0b-4f4b-85d3-f85f28b7f431",
   "metadata": {},
   "outputs": [],
   "source": [
    "collections = client.get_collections()\n",
    "collection_list = [collection.name for collection in collections.collections]"
   ]
  },
  {
   "cell_type": "code",
   "execution_count": 16,
   "id": "e5732ba9-6441-4d74-859e-680d77539549",
   "metadata": {
    "scrolled": true
   },
   "outputs": [],
   "source": [
    "# Qdrant에 새로운 컬렉션 생성\n",
    "collection_name = \"llama_index_qdrant\"\n",
    "\n",
    "if collection_name not in collection_list:\n",
    "    client.create_collection(\n",
    "        collection_name=collection_name,\n",
    "        vectors_config=VectorParams(size=768, distance=Distance.COSINE)\n",
    "    )"
   ]
  },
  {
   "cell_type": "code",
   "execution_count": 19,
   "id": "9d5fd56e-1a69-4bed-ac82-344b73e5db69",
   "metadata": {},
   "outputs": [],
   "source": [
    "# Qdrant 벡터 스토어 설정\n",
    "vector_store = QdrantVectorStore(client=client, collection_name=collection_name)\n",
    "# 인덱스 생성 및 저장\n",
    "index = VectorStoreIndex.from_documents(documents, vector_store=vector_store)"
   ]
  },
  {
   "cell_type": "code",
   "execution_count": 20,
   "id": "df3956a9-079d-4a59-8e52-39a1c2b39bd3",
   "metadata": {},
   "outputs": [
    {
     "name": "stdout",
     "output_type": "stream",
     "text": [
      "[질의 결과]\n",
      "고양이는 작은 육식동물로, 주로 애완동물로 기르며 민첩하고 장난기 있는 행동으로 유명합니다.\n",
      "\n",
      "[응답에 사용된 문서]\n",
      "1. 고양이는 작은 육식동물로, 주로 애완동물로 기릅니다. 민첩하고 장난기 있는 행동으로 유명합니다.\n",
      "\n",
      "2. 고양이와 강아지는 전 세계적으로 인기 있는 애완동물로, 각각 독특한 특징을 가지고 있습니다.\n",
      "\n"
     ]
    }
   ],
   "source": [
    "# 쿼리 엔진 생성 및 실행\n",
    "query_engine = index.as_query_engine()\n",
    "query_text = \"고양이\"\n",
    "response = query_engine.query(query_text)\n",
    "\n",
    "# 최종 응답 출력\n",
    "print(\"[질의 결과]\")\n",
    "print(response)\n",
    "\n",
    "# 응답 생성에 사용된 문서 확인\n",
    "print(\"\\n[응답에 사용된 문서]\")\n",
    "for i, node in enumerate(response.source_nodes, 1):\n",
    "    print(f\"{i}. {node.text}\\n\")"
   ]
  },
  {
   "cell_type": "markdown",
   "id": "63432c1b-2312-42a0-b9ae-14506b480b14",
   "metadata": {},
   "source": [
    "### 3.4.3 클라우드 기반 환경 설정"
   ]
  },
  {
   "cell_type": "code",
   "execution_count": null,
   "id": "a6a3d2a4-2ff6-4f2f-8489-185d9e6a4e7f",
   "metadata": {},
   "outputs": [],
   "source": [
    "from qdrant_client import QdrantClient\n",
    "from qdrant_client.models import Distance, VectorParams\n",
    "from llama_index.core.schema import Document\n",
    "\n",
    "# Qdrant 클라우드 서버에 연결 (API 키 사용)\n",
    "QDRANT_API_KEY = \"your_api_key\"\n",
    "QDRANT_HOST = \"your_host:6333\"\n",
    "client = QdrantClient(QDRANT_HOST, api_key=QDRANT_API_KEY)"
   ]
  },
  {
   "cell_type": "code",
   "execution_count": 28,
   "id": "dcf4caf5-9e1a-4580-889b-bb7f518edbd1",
   "metadata": {},
   "outputs": [
    {
     "name": "stdout",
     "output_type": "stream",
     "text": [
      "\n",
      "[질의 결과]\n",
      "고양이는 작은 육식동물로, 주로 애완동물로 기르며 민첩하고 장난기 있는 행동으로 유명합니다.\n",
      "\n",
      "[응답에 사용된 문서]\n",
      "1. 고양이는 작은 육식동물로, 주로 애완동물로 기릅니다. 민첩하고 장난기 있는 행동으로 유명합니다.\n",
      "\n",
      "2. 고양이와 강아지는 전 세계적으로 인기 있는 애완동물로, 각각 독특한 특징을 가지고 있습니다.\n",
      "\n"
     ]
    }
   ],
   "source": [
    "# Qdrant 벡터 스토어 설정\n",
    "vector_store = QdrantVectorStore(client=client, collection_name=collection_name)\n",
    "\n",
    "# 인덱스 생성 및 저장\n",
    "index = VectorStoreIndex.from_documents(documents, vector_store=vector_store)\n",
    "\n",
    "# 쿼리 엔진 생성 및 실행\n",
    "query_engine = index.as_query_engine()\n",
    "query_text = \"고양이\"\n",
    "response = query_engine.query(query_text)\n",
    "\n",
    "# 최종 응답 출력\n",
    "print(\"\\n[질의 결과]\")\n",
    "print(response)\n",
    "\n",
    "# 응답 생성에 사용된 문서 확인\n",
    "print(\"\\n[응답에 사용된 문서]\")\n",
    "for i, node in enumerate(response.source_nodes, 1):\n",
    "    print(f\"{i}. {node.text}\\n\")"
   ]
  },
  {
   "cell_type": "code",
   "execution_count": null,
   "id": "b005af6f-e2ae-4d3f-a622-a537b6802cae",
   "metadata": {},
   "outputs": [],
   "source": []
  }
 ],
 "metadata": {
  "kernelspec": {
   "display_name": "Python 3 (ipykernel)",
   "language": "python",
   "name": "python3"
  },
  "language_info": {
   "codemirror_mode": {
    "name": "ipython",
    "version": 3
   },
   "file_extension": ".py",
   "mimetype": "text/x-python",
   "name": "python",
   "nbconvert_exporter": "python",
   "pygments_lexer": "ipython3",
   "version": "3.10.12"
  }
 },
 "nbformat": 4,
 "nbformat_minor": 5
}
