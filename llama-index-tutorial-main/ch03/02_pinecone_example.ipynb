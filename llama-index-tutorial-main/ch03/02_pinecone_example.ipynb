{
 "cells": [
  {
   "cell_type": "markdown",
   "id": "66c9d11b-31d4-4b2a-9c17-2ccb8ed24202",
   "metadata": {},
   "source": [
    "### 3.3.1 파인콘 API 초기화"
   ]
  },
  {
   "cell_type": "code",
   "execution_count": 5,
   "id": "b90004e9-6be6-47f5-9ca6-3f0b371d4411",
   "metadata": {},
   "outputs": [],
   "source": [
    "from pinecone import Pinecone\n",
    "\n",
    "# Pinecone API 키 설정\n",
    "pc = Pinecone(api_key=os.environ[\"PINECONE_API_KEY\"])"
   ]
  },
  {
   "cell_type": "markdown",
   "id": "b6fabda8-f4bc-4955-a361-730be0dd79c4",
   "metadata": {},
   "source": [
    "### 3.3.2 벡터 데이터 추가"
   ]
  },
  {
   "cell_type": "code",
   "execution_count": 6,
   "id": "eab24aac-96b2-499f-b634-bcca805b68d0",
   "metadata": {},
   "outputs": [],
   "source": [
    "from pinecone import ServerlessSpec\n",
    "index_lists = [item.get(\"name\") for item in pc.list_indexes().get(\"indexes\")]\n",
    "\n",
    "index_name = \"my-index\"\n",
    "\n",
    "if index_name not in index_lists:\n",
    "    pc.create_index(\n",
    "        name=index_name,\n",
    "        dimension=3, # 벡터의 차원 수\n",
    "        metric=\"cosine\", # 유사도 측정 방식 (cosine, euclidean, dotproduct 중 선택)\n",
    "        spec=ServerlessSpec(\n",
    "            cloud=\"aws\", # 사용할 클라우드: aws 또는 gcp\n",
    "            region=\"us-east-1\" # 리전 설정 (free tier에서 지원되는 리전을 사용해야 함)\n",
    "        )\n",
    "    )"
   ]
  },
  {
   "cell_type": "code",
   "execution_count": 7,
   "id": "adf05521-4733-4199-a322-62a05a5d8948",
   "metadata": {},
   "outputs": [
    {
     "name": "stdout",
     "output_type": "stream",
     "text": [
      "아이템 임베딩을 인덱스에 추가했습니다.\n"
     ]
    }
   ],
   "source": [
    "index = pc.Index(index_name)\n",
    "\n",
    "# 벡터 데이터 삽입\n",
    "vectors = [\n",
    "    [0.1, 0.2, 0.3], # 첫 번째 데이터의 벡터\n",
    "    [0.4, 0.5, 0.6], # 두 번째 데이터의 벡터\n",
    "    [0.7, 0.8, 0.9], # 세 번째 데이터의 벡터\n",
    "]\n",
    "\n",
    "# 벡터를 인덱스에 추가\n",
    "ids = [\"doc1\", \"doc2\", \"doc3\"]\n",
    "index.upsert([(id, vector) for id, vector in zip(ids, vectors)])\n",
    "print(\"아이템 임베딩을 인덱스에 추가했습니다.\")"
   ]
  },
  {
   "cell_type": "markdown",
   "id": "ae633eed-a035-4599-8dfb-84ed36ceca0a",
   "metadata": {},
   "source": [
    "### 3.3.3 벡터 검색"
   ]
  },
  {
   "cell_type": "code",
   "execution_count": 8,
   "id": "335cc595-57cb-487e-8735-de8ec562183a",
   "metadata": {},
   "outputs": [
    {
     "name": "stdout",
     "output_type": "stream",
     "text": [
      "\n",
      "유사한 벡터 검색 결과:\n",
      "{\n",
      "    \"검색된 문서 ID\": \"doc1\",\n",
      "    \"유사도 거리\": 0.999999464\n",
      "}\n"
     ]
    }
   ],
   "source": [
    "import json\n",
    "\n",
    "# 유사 벡터 검색\n",
    "results = index.query(\n",
    "    vector=[[0.1, 0.2, 0.3]], # 검색할 쿼리 벡터\n",
    "    top_k=2, # 가장 유사한 2개의 벡터 반환\n",
    "    include_metadata=False\n",
    ")\n",
    "\n",
    "formatted_results = {\n",
    "    \"검색된 문서 ID\": results[\"matches\"][0][\"id\"],\n",
    "    \"유사도 거리\": results[\"matches\"][0][\"score\"]\n",
    "}\n",
    "print(\"\\n유사한 벡터 검색 결과:\")\n",
    "print(json.dumps(formatted_results, indent=4, ensure_ascii=False))"
   ]
  },
  {
   "cell_type": "code",
   "execution_count": 9,
   "id": "b925f5e1-485c-4ce7-b402-4dd4b28e372c",
   "metadata": {},
   "outputs": [
    {
     "data": {
      "text/plain": [
       "{'upserted_count': 3}"
      ]
     },
     "execution_count": 9,
     "metadata": {},
     "output_type": "execute_result"
    }
   ],
   "source": [
    "# 메타데이터와 함께 벡터 삽입\n",
    "vectors = [\n",
    "    ([0.1, 0.2, 0.3], {\"category\": \"A\", \"year\": 2020}),\n",
    "    ([0.4, 0.5, 0.6], {\"category\": \"B\", \"year\": 2021}),\n",
    "    ([0.7, 0.8, 0.9], {\"category\": \"A\", \"year\": 2022}),\n",
    "]\n",
    "\n",
    "ids = [\"doc1\", \"doc2\", \"doc3\"]\n",
    "index.upsert([(id, vector, metadata) for id, (vector, metadata) in zip(ids, vectors)])"
   ]
  },
  {
   "cell_type": "code",
   "execution_count": 10,
   "id": "ec95b96f-7f64-4ae0-8131-90fb452d8088",
   "metadata": {},
   "outputs": [],
   "source": [
    "# 검색 벡터\n",
    "query_vector = [0.1, 0.2, 0.25]\n",
    "\n",
    "# 메타데이터 필터링 조건\n",
    "filter_condition = {\n",
    "    \"category\": {\"$eq\": \"A\"},\n",
    "    \"year\": {\"$gt\": 2020}\n",
    "}\n",
    "\n",
    "# 검색\n",
    "query_result = index.query(\n",
    "    vector=query_vector,\n",
    "    top_k=2,\n",
    "    filter=filter_condition,\n",
    "    include_metadata=True\n",
    ")"
   ]
  },
  {
   "cell_type": "code",
   "execution_count": 11,
   "id": "a3eaeed0-5328-460e-84ce-fc722cedf28c",
   "metadata": {},
   "outputs": [
    {
     "name": "stdout",
     "output_type": "stream",
     "text": [
      "\n",
      "유사한 벡터 검색 결과:\n",
      "{\n",
      "    \"검색된 문서 ID\": \"doc3\",\n",
      "    \"메타데이터\": {\n",
      "        \"category\": \"A\",\n",
      "        \"year\": 2022.0\n",
      "    }\n",
      "}\n"
     ]
    }
   ],
   "source": [
    "formatted_results = {\n",
    "    \"검색된 문서 ID\": query_result[\"matches\"][0][\"id\"],\n",
    "    \"메타데이터\": query_result[\"matches\"][0][\"metadata\"]\n",
    "}\n",
    "print(\"\\n유사한 벡터 검색 결과:\")\n",
    "print(json.dumps(formatted_results, indent=4, ensure_ascii=False))"
   ]
  },
  {
   "cell_type": "markdown",
   "id": "3a71709d-5789-48a6-a1de-14ed41dc5902",
   "metadata": {},
   "source": [
    "### 3.3.5 임베딩 기반 라마인덱스 답변 생성"
   ]
  },
  {
   "cell_type": "code",
   "execution_count": 24,
   "id": "07b81353-6902-4104-a3eb-c7c962ae8cbb",
   "metadata": {},
   "outputs": [
    {
     "name": "stdout",
     "output_type": "stream",
     "text": [
      "\n",
      "\u001b[1m[\u001b[0m\u001b[34;49mnotice\u001b[0m\u001b[1;39;49m]\u001b[0m\u001b[39;49m A new release of pip is available: \u001b[0m\u001b[31;49m25.0.1\u001b[0m\u001b[39;49m -> \u001b[0m\u001b[32;49m25.1.1\u001b[0m\n",
      "\u001b[1m[\u001b[0m\u001b[34;49mnotice\u001b[0m\u001b[1;39;49m]\u001b[0m\u001b[39;49m To update, run: \u001b[0m\u001b[32;49mpip install --upgrade pip\u001b[0m\n"
     ]
    }
   ],
   "source": [
    "!pip install llama-index==0.11.11 \\\n",
    "    llama-index-vector-stores-pinecone==0.3.0 \\\n",
    "    llama-index-embeddings-huggingface==0.3.0 -q"
   ]
  },
  {
   "cell_type": "code",
   "execution_count": 12,
   "id": "963828e4-7b82-4346-84af-1192518ab0b9",
   "metadata": {},
   "outputs": [],
   "source": [
    "from pinecone import Pinecone\n",
    "from llama_index.core.schema import Document\n",
    "from llama_index.vector_stores.pinecone import PineconeVectorStore\n",
    "from llama_index.core import VectorStoreIndex\n",
    "from llama_index.embeddings.huggingface import HuggingFaceEmbedding\n",
    "from llama_index.core.schema import Document\n",
    "import os"
   ]
  },
  {
   "cell_type": "code",
   "execution_count": 13,
   "id": "b9d5e283-1d33-4c64-9146-3298c23ba117",
   "metadata": {},
   "outputs": [],
   "source": [
    "api_key = os.environ.get(\"PINECONE_API_KEY\")\n",
    "pc = Pinecone(api_key=api_key)\n",
    "index_name = \"example\"\n",
    "spec = {\n",
    "    \"serverless\": {\n",
    "    \"cloud\": \"aws\",\n",
    "    \"region\": \"us-east-1\"\n",
    "    }\n",
    "}\n",
    "index_lists = [item.get(\"name\") for item in pc.list_indexes().get(\"indexes\")]\n",
    "if index_name not in index_lists:\n",
    "    pc.create_index(\n",
    "        name=index_name,\n",
    "        dimension=3,\n",
    "        metric=\"cosine\",\n",
    "        spec=spec\n",
    "    )\n",
    "index = pc.Index(index_name)\n",
    "\n",
    "# LlamaIndex에서 사용할 HuggingFace 임베딩 모델 설정\n",
    "embed_model = HuggingFaceEmbedding(model_name=\"all-MiniLM-L6-v2\")"
   ]
  },
  {
   "cell_type": "code",
   "execution_count": 14,
   "id": "20f5e43c-0ccb-4f5b-9903-d7fc3e52c185",
   "metadata": {},
   "outputs": [],
   "source": [
    "# 문서 데이터\n",
    "documents = [\n",
    "    \"고양이는 작은 육식동물로, 주로 애완동물로 기릅니다. 민첩하고 장난기 있는 행동으로 유명합니다.\",\n",
    "    \"강아지는 충성심이 강하고 친절한 동물로, 흔히 인간의 최고의 친구로 불립니다. 주로 애완동물로 기르고, 동반자로서 유명합니다.\",\n",
    "    \"고양이와 강아지는 전 세계적으로 인기 있는 애완동물로, 각각 독특한 특징을 가지고 있습니다.\"\n",
    "]\n",
    "ids = [\"doc1\", \"doc2\", \"doc3\"]\n",
    "\n",
    "# 문서를 Document 형식으로 변환\n",
    "nodes = [Document(text=doc, id_=doc_id) for doc, doc_id in zip(documents, ids)]\n",
    "\n",
    "# Pinecone 벡터 스토어 생성\n",
    "vector_store = PineconeVectorStore(pinecone_index=index)\n",
    "\n",
    "# LlamaIndex의 VectorStoreIndex 생성\n",
    "index = VectorStoreIndex.from_documents(nodes, vector_store=vector_store, embed_model= embed_model)"
   ]
  },
  {
   "cell_type": "code",
   "execution_count": 15,
   "id": "bb986590-8f97-4d7f-bdd2-fa5f372d9f1a",
   "metadata": {},
   "outputs": [
    {
     "name": "stdout",
     "output_type": "stream",
     "text": [
      "\n",
      "[질의 결과]\n",
      "고양이는 독립적이고 깨끗한 동물로 알려져 있습니다. 주로 자신의 영역을 지키는 경계심이 강하며, 쾌활하고 호기심 많은 성격을 가지고 있습니다. 일반적으로 강아지와는 다르게 냥이라고도 불리며, 사람들 사이에서는 고양이는 독립적이면서도 사랑스러운 애완동물로 인식되고 있습니다.\n"
     ]
    }
   ],
   "source": [
    "query_engine = index.as_query_engine()\n",
    "\n",
    "# 질의 수행\n",
    "query_text = \"고양이에 대해 알려줘\"\n",
    "response = query_engine.query(query_text)\n",
    "\n",
    "# 결과 출력\n",
    "print(\"\\n[질의 결과]\")\n",
    "print(response)"
   ]
  },
  {
   "cell_type": "markdown",
   "id": "b29ec2cc-a449-405c-8e29-c28f8bf51031",
   "metadata": {},
   "source": [
    "### 3.3.6 라마인덱스 기반 답변 생성(임베딩 생략)"
   ]
  },
  {
   "cell_type": "code",
   "execution_count": null,
   "id": "9e19afd5-12b1-46c9-b1a2-259e39f2a571",
   "metadata": {},
   "outputs": [],
   "source": [
    "vector_store = PineconeVectorStore(pinecone_index=index)\n",
    "\n",
    "# LlamaIndex의 VectorStoreIndex 생성\n",
    "index = VectorStoreIndex.from_documents(nodes, vector_store=vector_store)\n",
    "\n",
    "# 쿼리 엔진 생성\n",
    "query_engine = index.as_query_engine()\n",
    "\n",
    "# 질의 수행\n",
    "query_text = \"고양이에 대해 알려줘\"\n",
    "response = query_engine.query(query_text)\n",
    "\n",
    "# 최종 응답 출력\n",
    "print(\"[질의 결과]\")\n",
    "print(response)\n",
    "\n",
    "# 응답 생성에 사용된 문서 확인\n",
    "print(\"\\n[응답에 사용된 문서]\")\n",
    "for i, node in enumerate(response.source_nodes, 1):\n",
    "    print(f\"{i}. {node.text}\\n\")"
   ]
  },
  {
   "cell_type": "code",
   "execution_count": null,
   "id": "267f951d-a223-4a0c-b35f-e628f5f0401f",
   "metadata": {},
   "outputs": [],
   "source": []
  }
 ],
 "metadata": {
  "kernelspec": {
   "display_name": "Python 3 (ipykernel)",
   "language": "python",
   "name": "python3"
  },
  "language_info": {
   "codemirror_mode": {
    "name": "ipython",
    "version": 3
   },
   "file_extension": ".py",
   "mimetype": "text/x-python",
   "name": "python",
   "nbconvert_exporter": "python",
   "pygments_lexer": "ipython3",
   "version": "3.10.12"
  }
 },
 "nbformat": 4,
 "nbformat_minor": 5
}
