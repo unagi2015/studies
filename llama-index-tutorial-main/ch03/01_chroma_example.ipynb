{
 "cells": [
  {
   "cell_type": "markdown",
   "id": "b38d0d5d-d57f-497b-82e8-db5178e07eac",
   "metadata": {},
   "source": [
    "### 3.2.1 크로마 클라이언트 생성"
   ]
  },
  {
   "cell_type": "code",
   "execution_count": 1,
   "id": "2f7046c3-5187-4f8f-bb41-798e9172ef8e",
   "metadata": {},
   "outputs": [],
   "source": [
    "import chromadb\n",
    "\n",
    "# 크로마 클라이언트 생성\n",
    "client = chromadb.Client()"
   ]
  },
  {
   "cell_type": "markdown",
   "id": "f4c6771a-da0b-49e1-a306-6b43e9d29b61",
   "metadata": {},
   "source": [
    "### 3.2.2 컬렉션 생성"
   ]
  },
  {
   "cell_type": "code",
   "execution_count": 2,
   "id": "19786b98-e065-40bc-8bc8-ef208e038f29",
   "metadata": {},
   "outputs": [],
   "source": [
    "# 벡터 컬렉션 생성\n",
    "collection = client.create_collection(\"example_collection\")"
   ]
  },
  {
   "cell_type": "markdown",
   "id": "39051825-0870-4eb6-bcc6-55f239614c81",
   "metadata": {},
   "source": [
    "### 3.2.3 벡터 데이터 추가"
   ]
  },
  {
   "cell_type": "code",
   "execution_count": 3,
   "id": "c112e5ac-089f-47d0-99e3-6922f3d99f77",
   "metadata": {},
   "outputs": [
    {
     "name": "stdout",
     "output_type": "stream",
     "text": [
      "벡터 데이터를 컬렉션에 추가했습니다.\n"
     ]
    }
   ],
   "source": [
    "# 임베딩된 벡터 데이터 (예시로 임의 벡터 사용)\n",
    "vectors = [\n",
    "[0.1, 0.2, 0.3], # 첫 번째 데이터의 벡터\n",
    "[0.4, 0.5, 0.6], # 두 번째 데이터의 벡터\n",
    "[0.7, 0.8, 0.9], # 세 번째 데이터의 벡터\n",
    "]\n",
    "# 벡터와 연결된 임의 고유 ID (각 벡터마다 고유한 ID 필요)\n",
    "ids = [\"doc1\", \"doc2\", \"doc3\"]\n",
    "\n",
    "# 벡터 데이터 추가\n",
    "collection.add(ids=ids, embeddings=vectors)\n",
    "print(\"벡터 데이터를 컬렉션에 추가했습니다.\")"
   ]
  },
  {
   "cell_type": "markdown",
   "id": "1417dda9-4e42-4f34-99d0-0f7031061b1e",
   "metadata": {},
   "source": [
    "### 3.2.4 벡터 검색"
   ]
  },
  {
   "cell_type": "code",
   "execution_count": 4,
   "id": "e0018fc9-73a5-4dd1-bd24-a489e82948e4",
   "metadata": {},
   "outputs": [
    {
     "name": "stdout",
     "output_type": "stream",
     "text": [
      "\n",
      "유사한 벡터 검색 결과:\n",
      "{\n",
      "    \"검색된 문서 ID\": [\n",
      "        \"doc1\",\n",
      "        \"doc2\"\n",
      "    ],\n",
      "    \"유사도 거리\": [\n",
      "        0.002500001108273864,\n",
      "        0.30250000953674316\n",
      "    ]\n",
      "}\n"
     ]
    }
   ],
   "source": [
    "import json\n",
    "\n",
    "# 검색할 벡터 (예시로 임의 벡터 사용)\n",
    "query_vector = [0.1, 0.2, 0.25]\n",
    "\n",
    "# 벡터 컬렉션에서 유사한 벡터 검색\n",
    "results = collection.query(query_embeddings=[query_vector], n_results=2)\n",
    "formatted_results = {\n",
    "    \"검색된 문서 ID\": results[\"ids\"][0],\n",
    "    \"유사도 거리\": results[\"distances\"][0]\n",
    "}\n",
    "print(\"\\n유사한 벡터 검색 결과:\")\n",
    "print(json.dumps(formatted_results, indent=4, ensure_ascii=False))"
   ]
  },
  {
   "cell_type": "markdown",
   "id": "cf2684a1-c558-4f0f-9364-b28ce340efba",
   "metadata": {},
   "source": [
    "### 3.2.5 메타데이터 필터링"
   ]
  },
  {
   "cell_type": "code",
   "execution_count": 6,
   "id": "d43f9b19-c030-4d3a-90e5-7b0b70957a30",
   "metadata": {},
   "outputs": [
    {
     "name": "stdout",
     "output_type": "stream",
     "text": [
      "\n",
      "유사한 벡터 검색 결과:\n",
      "{\n",
      "    \"검색된 문서 ID\": [\n",
      "        \"doc1\"\n",
      "    ],\n",
      "    \"유사도 거리\": [\n",
      "        0.0\n",
      "    ],\n",
      "    \"메타데이터\": [\n",
      "        {\n",
      "            \"category\": \"A\",\n",
      "            \"name\": \"example\"\n",
      "        }\n",
      "    ]\n",
      "}\n"
     ]
    }
   ],
   "source": [
    "collection = client.create_collection(\"metadata_example_collection\")\n",
    "\n",
    "# 임베딩된 벡터 데이터 및 메타데이터 추가\n",
    "vectors = [\n",
    "    [0.1, 0.2, 0.3], # 첫 번째 데이터 벡터\n",
    "    [0.4, 0.5, 0.6], # 두 번째 데이터 벡터\n",
    "    [0.7, 0.8, 0.9], # 세 번째 데이터 벡터\n",
    "]\n",
    "ids = [\"doc1\", \"doc2\", \"doc3\"]\n",
    "\n",
    "metadatas = [\n",
    "    {\"name\": \"example\", \"category\": \"A\"}, # 첫 번째 문서의 메타데이터\n",
    "    {\"name\": \"sample\", \"category\": \"B\"}, # 두 번째 문서의 메타데이터\n",
    "    {\"name\": \"example\", \"category\": \"C\"} # 세 번째 문서의 메타데이터\n",
    "]\n",
    "\n",
    "# 벡터 데이터 추가 (메타데이터 포함)\n",
    "collection.add(ids=ids, embeddings=vectors, metadatas=metadatas)\n",
    "results = collection.query(\n",
    "    query_embeddings=[[0.1, 0.2, 0.3]],\n",
    "    n_results=1,\n",
    "    where={\"name\": \"example\"} # 메타데이터 필터 적용\n",
    ")\n",
    "\n",
    "# 검색 결과 정리\n",
    "formatted_results = {\n",
    "    \"검색된 문서 ID\": results[\"ids\"][0] if results[\"ids\"] else [],\n",
    "    \"유사도 거리\": results[\"distances\"][0] if results[\"distances\"] else [],\n",
    "    \"메타데이터\": results[\"metadatas\"][0] if results[\"metadatas\"] else []\n",
    "}\n",
    "\n",
    "print(\"\\n유사한 벡터 검색 결과:\")\n",
    "print(json.dumps(formatted_results, indent=4, ensure_ascii=False))"
   ]
  },
  {
   "cell_type": "markdown",
   "id": "4bd067a0-4609-45af-831a-627c2c6f5d86",
   "metadata": {},
   "source": [
    "### 3.2.6 임베딩 데이터 추가"
   ]
  },
  {
   "cell_type": "code",
   "execution_count": 7,
   "id": "b807b8d9-b954-4646-a0be-b74481407fb3",
   "metadata": {},
   "outputs": [
    {
     "name": "stdout",
     "output_type": "stream",
     "text": [
      "임베딩 결과: [-3.16611193e-02  9.91080776e-02  3.21414731e-02 -4.77655511e-03\n",
      "  2.06647776e-02 -4.26964350e-02  1.08513117e-01  5.91693483e-02\n",
      " -3.82519364e-02 -2.70917471e-02  1.10797681e-01 -3.27145718e-02\n",
      "  8.14444572e-02 -1.82766225e-02  3.63844149e-02 -3.83141339e-02\n",
      "  3.29665095e-02  3.95626463e-02 -2.65553873e-02 -3.17468010e-02\n",
      "  1.29391495e-02  2.19179057e-02  1.07889265e-01  1.24165015e-02\n",
      " -7.60592371e-02 -5.10003418e-02  3.95050012e-02  1.36653325e-02\n",
      "  8.86634737e-02 -4.19127084e-02  6.43826602e-03  4.20045443e-02\n",
      "  6.79684207e-02  1.37290843e-02  2.50339489e-02 -3.60205397e-02\n",
      " -4.92924005e-02 -1.51257105e-02 -4.84425686e-02  6.49661645e-02\n",
      " -5.19369692e-02 -3.22292000e-02  7.63612017e-02 -1.37317434e-01\n",
      "  1.76454913e-02  2.84964032e-02 -4.42443378e-02 -4.08117399e-02\n",
      " -6.28238767e-02  1.08337745e-01 -3.33936214e-02 -4.31645364e-02\n",
      " -5.31809330e-02  1.91285256e-02  4.64880541e-02 -5.00249416e-02\n",
      " -5.93597405e-02 -3.17171142e-02 -2.08584089e-02 -2.07601897e-02\n",
      "  2.15868633e-02  7.41538918e-03 -6.69788197e-02  7.33070225e-02\n",
      " -5.92240021e-02  8.28638487e-03  3.35812755e-02  3.57119851e-02\n",
      "  6.71478268e-03  3.45606022e-02  7.06925243e-03 -6.44720197e-02\n",
      "  5.00060841e-02 -1.81446634e-02 -9.14586782e-02 -3.30227800e-02\n",
      "  9.14647430e-02  1.37264868e-02  3.55794579e-02 -1.39514143e-02\n",
      " -5.63571937e-02  4.63781971e-03  5.35785127e-03 -1.38118153e-03\n",
      " -3.96536626e-02  1.42093459e-02 -6.29155487e-02  4.22117151e-02\n",
      "  1.74137577e-03  5.99135272e-02 -1.30140819e-02  9.44604501e-02\n",
      " -4.85079177e-02 -3.77961830e-03 -2.03624681e-01  2.03518686e-03\n",
      " -3.11783962e-02 -9.39972058e-04 -7.35909715e-02  2.52734814e-02\n",
      " -1.85041316e-02  7.12737292e-02  8.88846219e-02  9.34030414e-02\n",
      " -7.47089181e-03 -6.66723922e-02  7.08035603e-02 -6.93363398e-02\n",
      "  3.72662246e-02 -1.79751385e-02 -5.19381538e-02 -7.82708898e-02\n",
      " -6.83369786e-02 -6.63840100e-02  3.83139290e-02  4.25541028e-02\n",
      "  4.39657383e-02 -3.98182273e-02 -5.71763888e-02  2.55728159e-02\n",
      "  4.00999859e-02 -8.80818069e-03 -4.20922190e-02 -8.06469768e-02\n",
      " -7.13873282e-02 -6.66663051e-02  3.14590707e-02  4.67961509e-33\n",
      " -8.02346691e-02 -9.14912671e-03 -8.00382812e-03 -3.66544425e-02\n",
      " -1.00813538e-01 -2.28965888e-03 -3.61441821e-02  7.27769732e-03\n",
      " -2.48578712e-02 -1.61839202e-02 -1.81374922e-02 -1.00511527e-02\n",
      " -8.20064098e-02 -6.43662037e-03 -1.31859668e-02 -2.00740956e-02\n",
      " -7.15505034e-02  5.85352816e-02 -1.06153628e-02  7.33175725e-02\n",
      " -1.55126341e-02 -3.54480781e-02  2.02956498e-02 -5.73074911e-03\n",
      "  1.69443861e-02 -3.63552049e-02  3.28085609e-02  1.00963349e-02\n",
      " -2.43480038e-02  3.96641083e-02  4.54083346e-02 -1.14480117e-02\n",
      " -5.70797585e-02 -3.48400511e-02 -1.44315362e-02 -7.76130799e-03\n",
      "  4.22077253e-02  3.82221229e-02  2.25990713e-02 -2.56645004e-03\n",
      " -1.18879089e-03 -5.93661591e-02 -1.27160817e-01 -1.13444924e-02\n",
      "  4.09548394e-02  2.02995054e-02 -7.44129764e-03 -1.47840120e-02\n",
      "  4.96317856e-02 -6.91381022e-02 -5.33183515e-02  2.50072870e-02\n",
      " -1.39349680e-02  3.17271613e-02  7.68011510e-02  4.76928428e-03\n",
      "  9.34305936e-02 -1.11614233e-02 -1.58343036e-02 -1.09408833e-02\n",
      " -8.73269048e-03 -2.13815160e-02 -2.27431525e-02  6.69615790e-02\n",
      "  6.67220503e-02 -4.68352027e-02 -1.85793303e-02  9.28121246e-03\n",
      "  7.51917530e-03 -8.32174346e-02 -7.34891668e-02 -6.53107017e-02\n",
      "  7.53293280e-03  3.50093320e-02 -8.29219371e-02 -7.06545189e-02\n",
      " -4.11291756e-02  2.45149303e-02  3.25210318e-02  5.83254136e-02\n",
      " -5.98802716e-02 -3.90218087e-02 -5.08028315e-03 -1.32420525e-01\n",
      "  1.02178603e-01  3.26106660e-02  2.39515249e-02 -6.92930222e-02\n",
      "  3.15349475e-02  4.29909714e-02 -1.07068591e-01 -1.04300603e-02\n",
      "  1.02780350e-02  7.82947019e-02 -5.16479947e-02 -7.14460618e-33\n",
      " -3.02090943e-02  6.90772310e-02 -4.88002896e-02  1.18422978e-01\n",
      "  1.83584038e-02 -7.05931755e-03  1.34535888e-02  1.23545431e-01\n",
      "  1.78729706e-02  5.65703660e-02 -3.43707837e-02 -4.33189720e-02\n",
      " -3.50097124e-03  2.90891230e-02  9.60231479e-03  4.07433659e-02\n",
      " -7.12891854e-03  2.78970171e-02 -8.76685902e-02  4.65405732e-02\n",
      "  1.28063699e-02 -1.13074586e-03 -5.24805300e-03  7.04181418e-02\n",
      " -1.26896173e-01  5.34984395e-02  5.69460094e-02 -1.35532720e-02\n",
      " -1.04698678e-02 -5.59775438e-03 -6.43181894e-03 -3.46210301e-02\n",
      " -7.61579499e-02  1.57393858e-01 -4.60953973e-02 -5.30090034e-02\n",
      "  4.23091240e-02 -3.62291150e-02 -2.28072535e-02 -7.39246979e-03\n",
      "  4.40361025e-03 -2.92655313e-03 -1.57629009e-02  6.65430874e-02\n",
      " -5.82686998e-03  2.88600046e-02 -6.44208565e-02 -2.98015121e-02\n",
      " -1.46229882e-02 -1.03000090e-01  4.43608649e-02 -5.24196550e-02\n",
      "  1.70256067e-02 -4.94486131e-02  3.66594829e-02  3.23918946e-02\n",
      "  2.07389519e-02 -9.16035753e-03  1.60192363e-02 -4.52860986e-04\n",
      "  4.09050845e-03  4.33287583e-03  2.09116861e-02 -1.87266078e-02\n",
      " -1.54491095e-02 -1.82642099e-02  8.95997956e-02  1.78745147e-02\n",
      " -9.63140372e-03  2.41727326e-02  1.47490218e-01  6.78449124e-02\n",
      " -4.52523492e-02  2.69128196e-02 -1.25533655e-01  6.43150955e-02\n",
      " -3.35197151e-02  4.08308879e-02  2.28957925e-02 -1.72252394e-03\n",
      " -1.52880680e-02  4.21778336e-02  2.12994590e-02 -1.93985761e-03\n",
      " -6.89763725e-02 -9.53511149e-02  5.21999830e-03  3.24660465e-02\n",
      " -3.38602066e-02 -6.09838963e-02 -3.16624679e-02  5.24509475e-02\n",
      "  2.17930488e-02  3.47086154e-02 -3.96355167e-02 -3.52211629e-08\n",
      " -2.54983939e-02 -9.96224955e-02  1.12772863e-02  3.56359291e-03\n",
      "  5.32220975e-02 -4.71066013e-02 -8.66200477e-02  1.22780390e-02\n",
      "  4.96677719e-02 -3.51702273e-02  1.21939816e-01  2.34969817e-02\n",
      " -1.16927616e-01  7.96642676e-02 -2.05888823e-02 -5.92233278e-02\n",
      "  1.75307896e-02  9.98760164e-02 -2.40188395e-03 -3.89058888e-02\n",
      "  5.69634810e-02 -1.09146256e-02  3.23172547e-02 -6.62292838e-02\n",
      "  3.22820358e-02  5.84488772e-02 -9.97482389e-02  7.90634677e-02\n",
      " -1.63217075e-03 -3.97801697e-02  1.29722646e-02  3.09076961e-02\n",
      "  3.60474028e-02  2.48138849e-02  5.27277067e-02  8.96472111e-03\n",
      "  2.79558450e-02  6.22909628e-02  2.81838942e-02  3.46682407e-02\n",
      " -1.68702807e-02 -2.73347329e-02  4.88276519e-02  1.84639487e-02\n",
      "  4.25729230e-02 -7.54601648e-03  3.61323101e-03  2.42078546e-02\n",
      " -9.39822290e-03 -4.86294134e-03 -5.60014173e-02  3.21849622e-02\n",
      "  4.17101309e-02 -8.08189809e-03  8.99972674e-03  6.91672340e-02\n",
      "  8.48251209e-03 -2.58277263e-02  3.71953398e-02  3.10906838e-03\n",
      "  5.09528145e-02  4.52340357e-02 -4.94257174e-02 -3.19217108e-02]\n",
      "임베딩 차원: (384,)\n"
     ]
    }
   ],
   "source": [
    "from sentence_transformers import SentenceTransformer\n",
    "\n",
    "# 모델 로드\n",
    "model = SentenceTransformer('all-MiniLM-L6-v2')\n",
    "\n",
    "# 임베딩할 문장\n",
    "sentence = \"이것은 임베딩 예제입니다.\"\n",
    "\n",
    "# 문장 임베딩 생성\n",
    "embedding = model.encode(sentence)\n",
    "\n",
    "# 임베딩 출력\n",
    "print(\"임베딩 결과:\", embedding)\n",
    "print(\"임베딩 차원:\", embedding.shape)"
   ]
  },
  {
   "cell_type": "code",
   "execution_count": 8,
   "id": "aa1856fa-9166-47fe-882d-68f7caf7c540",
   "metadata": {},
   "outputs": [
    {
     "name": "stdout",
     "output_type": "stream",
     "text": [
      "벡터 데이터를 컬렉션에 추가했습니다.\n",
      "임베딩 차원: (3, 384)\n"
     ]
    }
   ],
   "source": [
    "client = chromadb.Client()\n",
    "collection = client.create_collection(\"example-collection\")\n",
    "# 임베딩 모델 초기화\n",
    "model = SentenceTransformer('all-MiniLM-L6-v2')\n",
    "documents = [\n",
    "    \"고양이는 작은 육식동물로, 주로 애완동물로 기릅니다. 민첩하고 장난기 있는 행동으로 유명합니다.\",\n",
    "    \"강아지는 충성심이 강하고 친절한 동물로, 흔히 인간의 최고의 친구로 불립니다. 주로 애완동물로 기르고, 동반자로서 유명합니다.\",\n",
    "    \"고양이와 강아지는 전 세계적으로 인기 있는 애완동물로, 각각 독특한 특징을 가지고 있습니다.\"\n",
    "]\n",
    "ids = [\"doc1\", \"doc2\", \"doc3\"]\n",
    "embeddings = model.encode(documents)\n",
    "\n",
    "# 벡터 데이터 추가\n",
    "collection.add(\n",
    "    ids=ids,\n",
    "    documents=documents,\n",
    "    embeddings=embeddings,\n",
    ")\n",
    "print(\"벡터 데이터를 컬렉션에 추가했습니다.\")\n",
    "print(\"임베딩 차원:\", embeddings.shape)"
   ]
  },
  {
   "cell_type": "markdown",
   "id": "93e2f357-5389-47e2-92ec-d390ccbadafa",
   "metadata": {},
   "source": [
    "### 3.2.7 임베딩 데이터 검색"
   ]
  },
  {
   "cell_type": "code",
   "execution_count": 9,
   "id": "3b7130f8-9323-41b5-8a82-159d95c3281e",
   "metadata": {},
   "outputs": [
    {
     "name": "stdout",
     "output_type": "stream",
     "text": [
      "\n",
      "유사한 벡터 검색 결과:\n",
      "{\n",
      "    \"검색된 문서 ID\": [\n",
      "        \"doc1\",\n",
      "        \"doc3\"\n",
      "    ],\n",
      "    \"유사도 거리\": [\n",
      "        1.448470115661621,\n",
      "        1.4485845565795898\n",
      "    ]\n",
      "}\n"
     ]
    }
   ],
   "source": [
    "query_text = \"고양이\"\n",
    "query_embedding = model.encode([query_text])\n",
    "\n",
    "# 벡터 컬렉션에서 유사한 벡터 검색\n",
    "results = collection.query(query_embeddings=query_embedding, n_results=2)\n",
    "\n",
    "formatted_results = {\n",
    "    \"검색된 문서 ID\": results[\"ids\"][0],\n",
    "    \"유사도 거리\": results[\"distances\"][0]\n",
    "}\n",
    "print(\"\\n유사한 벡터 검색 결과:\")\n",
    "print(json.dumps(formatted_results, indent=4, ensure_ascii=False))"
   ]
  },
  {
   "cell_type": "markdown",
   "id": "26998d4a-0b06-42dd-bf17-263938dfbb39",
   "metadata": {},
   "source": [
    "### 3.2.8 크로마의 저장 방식"
   ]
  },
  {
   "cell_type": "code",
   "execution_count": 10,
   "id": "0cc3fe19-c248-449f-b958-d2ec23da7497",
   "metadata": {},
   "outputs": [],
   "source": [
    "from chromadb import PersistentClient\n",
    "\n",
    "client = PersistentClient(path=\"chroma_storage\") # 영구 저장 경로 설정\n",
    "collection = client.get_or_create_collection(\"persistent_collection\")\n",
    "\n",
    "# 컬렉션 생성 및 데이터 추가\n",
    "# 자동으로 디스크 저장됨\n",
    "collection.add(\n",
    "    embeddings=[[0.9, 0.8, 0.7]],\n",
    "    metadatas=[{\"name\": \"persistent_item\"}],\n",
    "    ids=[\"doc3\"]\n",
    ")"
   ]
  },
  {
   "cell_type": "code",
   "execution_count": 12,
   "id": "17ab89b0-a0cd-4a88-93a4-e6403f6498b5",
   "metadata": {},
   "outputs": [
    {
     "name": "stdout",
     "output_type": "stream",
     "text": [
      "\n",
      "저장된 데이터 검색 결과:\n",
      "{\n",
      "    \"검색된 문서 ID\": [\n",
      "        \"doc3\"\n",
      "    ],\n",
      "    \"유사도 거리\": [\n",
      "        0.0\n",
      "    ],\n",
      "    \"메타데이터\": [\n",
      "        {\n",
      "            \"name\": \"persistent_item\"\n",
      "        }\n",
      "    ]\n",
      "}\n"
     ]
    }
   ],
   "source": [
    "# Chroma 클라이언트 재시작 후 데이터를 불러옴\n",
    "client = PersistentClient(path=\"chroma_storage\")\n",
    "collection = client.get_collection(\"persistent_collection\")\n",
    "\n",
    "# 저장된 데이터 확인\n",
    "results = collection.query(\n",
    "    query_embeddings=[[0.9, 0.8, 0.7]],\n",
    "    n_results=1\n",
    ")\n",
    "\n",
    "# 검색 결과 정리\n",
    "formatted_results = {\n",
    "    \"검색된 문서 ID\": results[\"ids\"][0],\n",
    "    \"유사도 거리\": results[\"distances\"][0],\n",
    "    \"메타데이터\": results[\"metadatas\"][0]\n",
    "}\n",
    "\n",
    "print(\"\\n저장된 데이터 검색 결과:\")\n",
    "print(json.dumps(formatted_results, indent=4, ensure_ascii=False))"
   ]
  },
  {
   "cell_type": "markdown",
   "id": "5dd2879c-0d30-488e-9451-d68a4d55b47b",
   "metadata": {},
   "source": [
    "### 3.2.9 임베딩 기반 라마인덱스 답변 생성"
   ]
  },
  {
   "cell_type": "code",
   "execution_count": 36,
   "id": "fa494d51-d2e2-4df5-b94d-459b608947f2",
   "metadata": {},
   "outputs": [],
   "source": [
    "import chromadb\n",
    "from llama_index.core.schema import Document\n",
    "from llama_index.embeddings.huggingface import HuggingFaceEmbedding\n",
    "import os\n",
    "api_key = os.environ.get(\"OPENAI_API_KEY\")\n",
    "\n",
    "# ChromaDB 클라이언트 생성 및 컬렉션 준비\n",
    "client = chromadb.PersistentClient(path=\"./chroma_db\") # 데이터를 저장할 로컬 경로 지정\n",
    "collection = client.get_or_create_collection(\"example-collection\") # 컬렉션 생성 또는 불러오기\n",
    "\n",
    "# Hugging Face 임베딩 모델 설정\n",
    "embed_model = HuggingFaceEmbedding(model_name=\"all-MiniLM-L6-v2\")\n",
    "\n",
    "# 문서 데이터 준비\n",
    "documents = [\n",
    "    \"고양이는 작은 육식동물로, 주로 애완동물로 기릅니다. 민첩하고 장난기 있는 행동으로 유명합니다.\",\n",
    "    \"강아지는 충성심이 강하고 친절한 동물로, 흔히 인간의 최고의 친구로 불립니다. 주로 애완동물로 기르고, 동반자로서 유명합니다.\",\n",
    "    \"고양이와 강아지는 전 세계적으로 인기 있는 애완동물로, 각각 독특한 특징을 가지고 있습니다.\"\n",
    "]\n",
    "ids = [\"doc1\", \"doc2\", \"doc3\"]\n",
    "\n",
    "# 문서를 LlamaIndex의 Document 형식으로 변환\n",
    "nodes = [Document(text=doc, id_=doc_id) for doc, doc_id in zip(documents, ids)]"
   ]
  },
  {
   "cell_type": "code",
   "execution_count": 37,
   "id": "020791c1-17ef-4afb-ab92-b497f3de86ba",
   "metadata": {},
   "outputs": [],
   "source": [
    "import os\n",
    "from llama_index.vector_stores.chroma import ChromaVectorStore\n",
    "from llama_index.core import VectorStoreIndex\n",
    "from llama_index.llms.openai import OpenAI\n",
    "\n",
    "llm = OpenAI(api_key=os.environ.get(\"OPENAI_API_KEY\"))\n",
    "\n",
    "# Chroma 벡터 스토어 생성\n",
    "vector_store = ChromaVectorStore(chroma_collection=collection)\n",
    "\n",
    "# LlamaIndex의 VectorStoreIndex 생성\n",
    "index = VectorStoreIndex.from_documents(nodes, vector_store=vector_store,\n",
    "embed_model= embed_model, llm=llm)"
   ]
  },
  {
   "cell_type": "code",
   "execution_count": 38,
   "id": "b0ea8664-a81e-403d-8133-ac314178df80",
   "metadata": {},
   "outputs": [
    {
     "name": "stdout",
     "output_type": "stream",
     "text": [
      "[질의 결과]\n",
      "고양이는 독립적이고 까다로운 동물로 알려져 있습니다. 주로 자신의 영역을 중시하며 조용하고 신중한 성향을 가지고 있습니다. 일반적으로 강아지보다는 냉정하고 독립적인 성격으로 알려져 있습니다.\n"
     ]
    }
   ],
   "source": [
    "# 쿼리 엔진 생성\n",
    "query_engine = index.as_query_engine()\n",
    "\n",
    "# 질의 수행\n",
    "query_text = \"고양이에 대해 알려줘\"\n",
    "response = query_engine.query(query_text)\n",
    "\n",
    "# 결과 출력\n",
    "print(\"[질의 결과]\")\n",
    "print(response)"
   ]
  },
  {
   "cell_type": "markdown",
   "id": "43a946f1-1fc1-4f83-a7c3-d89a055b7597",
   "metadata": {},
   "source": [
    "### 3.2.10 라마인덱스 기반 답변 생성"
   ]
  },
  {
   "cell_type": "code",
   "execution_count": null,
   "id": "5503053a-49ce-46c8-a789-4eaa652bc1ca",
   "metadata": {},
   "outputs": [],
   "source": [
    "from llama_index.core import Settings\n",
    "print(f\"현재 임베딩 모델: {Settings.embed_model}\")"
   ]
  },
  {
   "cell_type": "code",
   "execution_count": 40,
   "id": "4ea0b603-0ce0-4352-ad15-b665d3bf8fcb",
   "metadata": {},
   "outputs": [],
   "source": [
    "documents = [\n",
    "    \"고양이는 작은 육식동물로, 주로 애완동물로 기릅니다. 민첩하고 장난기 있는 행동으로 유명합니다.\",\n",
    "    \"강아지는 충성심이 강하고 친절한 동물로, 흔히 인간의 최고의 친구로 불립니다. 주로 애완동물로 기르고, 동반자로서 유명합니다.\",\n",
    "    \"고양이와 강아지는 전 세계적으로 인기 있는 애완동물로, 각각 독특한 특징을 가지고 있습니다.\"\n",
    "]\n",
    "ids = [\"doc1\", \"doc2\", \"doc3\"]\n",
    "\n",
    "# 문서를 LlamaIndex의 Document 형식으로 변환\n",
    "nodes = [Document(text=doc, id_=doc_id) for doc, doc_id in zip(documents, ids)]\n",
    "\n",
    "# Chroma 벡터 스토어 생성\n",
    "vector_store = ChromaVectorStore(chroma_collection=collection)\n",
    "\n",
    "# LlamaIndex의 VectorStoreIndex 생성\n",
    "index = VectorStoreIndex.from_documents(nodes, vector_store=vector_store)\n",
    "\n",
    "# 쿼리 엔진 생성 (기본적인 검색 + 답변 생성 기능 활성화)\n",
    "query_engine = index.as_query_engine()"
   ]
  },
  {
   "cell_type": "code",
   "execution_count": 41,
   "id": "ea23483a-e1f3-4d5f-8464-d87dae6c5775",
   "metadata": {},
   "outputs": [
    {
     "name": "stdout",
     "output_type": "stream",
     "text": [
      "[질의 결과]\n",
      "고양이는 작은 육식동물로, 주로 애완동물로 기르며 민첩하고 장난기 있는 행동으로 유명합니다.\n",
      "\n",
      "[검색 문서]\n",
      "1. 고양이는 작은 육식동물로, 주로 애완동물로 기릅니다. 민첩하고 장난기 있는 행동으로 유명합니다.\n",
      "\n",
      "2. 고양이와 강아지는 전 세계적으로 인기 있는 애완동물로, 각각 독특한 특징을 가지고 있습니다.\n",
      "\n"
     ]
    }
   ],
   "source": [
    "query_text = \"고양이에 대해 알려줘\"\n",
    "response = query_engine.query(query_text)\n",
    "\n",
    "# 최종 응답 출력\n",
    "print(\"[질의 결과]\")\n",
    "print(response)\n",
    "\n",
    "# 응답 생성에 사용된 문서 확인\n",
    "print(\"\\n[검색 문서]\")\n",
    "\n",
    "for i, node in enumerate(response.source_nodes, 1):\n",
    "    print(f\"{i}. {node.text}\\n\")"
   ]
  },
  {
   "cell_type": "code",
   "execution_count": null,
   "id": "82d35088-d797-4758-8a66-1071d0d3b394",
   "metadata": {},
   "outputs": [],
   "source": []
  }
 ],
 "metadata": {
  "kernelspec": {
   "display_name": "Python 3 (ipykernel)",
   "language": "python",
   "name": "python3"
  },
  "language_info": {
   "codemirror_mode": {
    "name": "ipython",
    "version": 3
   },
   "file_extension": ".py",
   "mimetype": "text/x-python",
   "name": "python",
   "nbconvert_exporter": "python",
   "pygments_lexer": "ipython3",
   "version": "3.10.12"
  }
 },
 "nbformat": 4,
 "nbformat_minor": 5
}
