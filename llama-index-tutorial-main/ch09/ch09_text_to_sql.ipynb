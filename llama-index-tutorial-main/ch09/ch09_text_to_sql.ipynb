{
 "cells": [
  {
   "cell_type": "code",
   "execution_count": 26,
   "id": "4248a439",
   "metadata": {},
   "outputs": [],
   "source": [
    "import os\n",
    "import sqlite3\n",
    "import tempfile\n",
    "import asyncio\n",
    "\n",
    "from typing import List, Tuple\n",
    "\n",
    "import gradio as gr\n",
    "\n",
    "from llama_index.core import SQLDatabase\n",
    "from llama_index.llms.openai import OpenAI\n",
    "from llama_index.core.agent.workflow import FunctionAgent, ToolCallResult, AgentOutput \n",
    "\n",
    "import nest_asyncio\n",
    "nest_asyncio.apply()"
   ]
  },
  {
   "cell_type": "code",
   "execution_count": null,
   "id": "a53806c9",
   "metadata": {},
   "outputs": [],
   "source": [
    "llm = OpenAI(model=\"gpt-4o\", temperature=0)"
   ]
  },
  {
   "cell_type": "code",
   "execution_count": 30,
   "id": "7cc677b5",
   "metadata": {},
   "outputs": [],
   "source": [
    "####################################\n",
    "# 1. 병원 관련 테이블 DDL 정의\n",
    "####################################\n",
    "\n",
    "hospital_schema = \"\"\"\n",
    "-- 의사 테이블\n",
    "CREATE TABLE doctors (\n",
    "    doctor_id VARCHAR(10) PRIMARY KEY,  -- 의사ID (예: D001)\n",
    "    name VARCHAR(50) NOT NULL,          -- 의사명\n",
    "    specialty VARCHAR(50) NOT NULL,     -- 전공\n",
    "    hospital_name VARCHAR(100) NOT NULL,-- 병원명\n",
    "    office VARCHAR(20) NOT NULL,        -- 진료실\n",
    "    phone VARCHAR(20) NOT NULL,         -- 전화번호\n",
    "    email VARCHAR(100) NOT NULL         -- 이메일\n",
    ");\n",
    "\n",
    "-- 환자 테이블\n",
    "CREATE TABLE patients (\n",
    "    patient_id VARCHAR(10) PRIMARY KEY, -- 환자ID (예: P001)\n",
    "    name VARCHAR(50) NOT NULL,          -- 환자명\n",
    "    birth_date DATE NOT NULL,           -- 생년월일\n",
    "    gender CHAR(1) NOT NULL,            -- 성별 (M/F)\n",
    "    phone VARCHAR(20) NOT NULL,         -- 전화번호\n",
    "    email VARCHAR(100) NOT NULL,        -- 이메일\n",
    "    address VARCHAR(200) NOT NULL,      -- 주소\n",
    "    insurance_number VARCHAR(20) NOT NULL, -- 보험번호\n",
    "    blood_type VARCHAR(5) NOT NULL,     -- 혈액형\n",
    "    allergies TEXT                      -- 알러지\n",
    ");\n",
    "\n",
    "-- 의사 가용 시간 테이블\n",
    "CREATE TABLE availability (\n",
    "    doctor_id VARCHAR(10) NOT NULL,     -- 의사ID\n",
    "    available_date DATE NOT NULL,       -- 날짜\n",
    "    available_time TIME NOT NULL,       -- 시간\n",
    "    status VARCHAR(10) NOT NULL,        -- 예약상태 (가능/불가능)\n",
    "    PRIMARY KEY (doctor_id, available_date, available_time),\n",
    "    FOREIGN KEY (doctor_id) REFERENCES doctors(doctor_id)\n",
    ");\n",
    "\n",
    "-- 예약 테이블\n",
    "CREATE TABLE appointments (\n",
    "    appointment_id VARCHAR(10) PRIMARY KEY, -- 예약ID (예: A0001)\n",
    "    patient_id VARCHAR(10) NOT NULL,     -- 환자ID\n",
    "    doctor_id VARCHAR(10) NOT NULL,      -- 의사ID\n",
    "    appointment_date DATE NOT NULL,      -- 예약날짜\n",
    "    appointment_time TIME NOT NULL,      -- 예약시간\n",
    "    reason TEXT,                         -- 방문이유\n",
    "    status VARCHAR(20) NOT NULL,         -- 상태 (예정됨/완료됨/취소됨)\n",
    "    notes TEXT,                          -- 진료노트\n",
    "    FOREIGN KEY (patient_id) REFERENCES patients(patient_id),\n",
    "    FOREIGN KEY (doctor_id) REFERENCES doctors(doctor_id)\n",
    ");\n",
    "\n",
    "-- 의료 기록 테이블\n",
    "CREATE TABLE medical_records (\n",
    "    record_id VARCHAR(10) PRIMARY KEY,  -- 기록ID (예: M0001)\n",
    "    patient_id VARCHAR(10) NOT NULL,    -- 환자ID\n",
    "    doctor_id VARCHAR(10) NOT NULL,     -- 의사ID\n",
    "    record_date DATE NOT NULL,          -- 기록일자\n",
    "    record_type VARCHAR(20) NOT NULL,   -- 기록유형 (진단/처방/검사)\n",
    "    content TEXT NOT NULL,              -- 내용\n",
    "    notes TEXT,                         -- 메모\n",
    "    FOREIGN KEY (patient_id) REFERENCES patients(patient_id),\n",
    "    FOREIGN KEY (doctor_id) REFERENCES doctors(doctor_id)\n",
    ");\n",
    "\n",
    "-- 처방전 테이블\n",
    "CREATE TABLE prescriptions (\n",
    "    prescription_id VARCHAR(10) PRIMARY KEY, -- 처방ID (예: R0001)\n",
    "    patient_id VARCHAR(10) NOT NULL,     -- 환자ID\n",
    "    doctor_id VARCHAR(10) NOT NULL,      -- 의사ID\n",
    "    prescription_date DATE NOT NULL,     -- 처방일자\n",
    "    medication VARCHAR(100) NOT NULL,    -- 약품명\n",
    "    dosage VARCHAR(50) NOT NULL,         -- 용량\n",
    "    frequency VARCHAR(50) NOT NULL,      -- 빈도\n",
    "    duration VARCHAR(20) NOT NULL,       -- 기간\n",
    "    status VARCHAR(20) NOT NULL,         -- 상태 (발급완료/만료됨)\n",
    "    renewable BOOLEAN NOT NULL,          -- 갱신가능\n",
    "    FOREIGN KEY (patient_id) REFERENCES patients(patient_id),\n",
    "    FOREIGN KEY (doctor_id) REFERENCES doctors(doctor_id)\n",
    ");\n",
    "\n",
    "-- 보험 테이블\n",
    "CREATE TABLE insurance (\n",
    "    insurance_id VARCHAR(10) PRIMARY KEY, -- 보험ID (예: I12345)\n",
    "    patient_id VARCHAR(10) NOT NULL,     -- 환자ID\n",
    "    provider VARCHAR(100) NOT NULL,      -- 보험사\n",
    "    insurance_type VARCHAR(50) NOT NULL, -- 보험유형\n",
    "    coverage_start DATE NOT NULL,        -- 보장시작일\n",
    "    coverage_end DATE NOT NULL,          -- 보장종료일\n",
    "    copay_percentage INT NOT NULL,       -- 자기부담금 비율\n",
    "    FOREIGN KEY (patient_id) REFERENCES patients(patient_id)\n",
    ");\n",
    "\n",
    "-- 시술 보장 범위 테이블\n",
    "CREATE TABLE procedure_coverage (\n",
    "    insurance_id VARCHAR(10) NOT NULL,   -- 보험ID\n",
    "    procedure_code VARCHAR(10) NOT NULL, -- 시술코드\n",
    "    procedure_name VARCHAR(100) NOT NULL,-- 시술명\n",
    "    coverage_rate INT NOT NULL,          -- 보장율\n",
    "    max_coverage INT NOT NULL,           -- 최대보장금액\n",
    "    PRIMARY KEY (insurance_id, procedure_code),\n",
    "    FOREIGN KEY (insurance_id) REFERENCES insurance(insurance_id)\n",
    ");\n",
    "\"\"\"\n"
   ]
  },
  {
   "cell_type": "code",
   "execution_count": 31,
   "id": "073c01ec",
   "metadata": {},
   "outputs": [],
   "source": [
    "# 의사 샘플 데이터\n",
    "sample_doctors = \"\"\"\n",
    "INSERT INTO doctors VALUES('D001', '김지훈', '내과', '서울중앙병원', '301호', '02-123-4567', 'jihoon.kim@hospital.com');\n",
    "INSERT INTO doctors VALUES('D002', '이수진', '소아과', '서울중앙병원', '302호', '02-123-4568', 'sujin.lee@hospital.com');\n",
    "INSERT INTO doctors VALUES('D003', '박준석', '정형외과', '서울중앙병원', '401호', '02-123-4569', 'junseok.park@hospital.com');\n",
    "INSERT INTO doctors VALUES('D004', '최미영', '피부과', '서울중앙병원', '402호', '02-123-4570', 'miyoung.choi@hospital.com');\n",
    "INSERT INTO doctors VALUES('D005', '정태호', '신경과', '서울중앙병원', '501호', '02-123-4571', 'taeho.jung@hospital.com');\n",
    "\"\"\"\n"
   ]
  },
  {
   "cell_type": "code",
   "execution_count": 32,
   "id": "dabb3b8e",
   "metadata": {},
   "outputs": [],
   "source": [
    "# 환자 샘플 데이터\n",
    "sample_patients = \"\"\"\n",
    "INSERT INTO patients VALUES('P001', '홍길동', '1980-05-15', 'M', '010-1234-5678', 'hong@example.com', '서울시 강남구', 'I12345', 'A+', '페니실린');\n",
    "INSERT INTO patients VALUES('P002', '김영희', '1992-08-20', 'F', '010-2345-6789', 'kim@example.com', '서울시 서초구', 'I23456', 'O+', NULL);\n",
    "INSERT INTO patients VALUES('P003', '이철수', '1975-12-10', 'M', '010-3456-7890', 'lee@example.com', '서울시 송파구', 'I34567', 'B-', '계란, 견과류');\n",
    "INSERT INTO patients VALUES('P004', '박미선', '1988-03-25', 'F', '010-4567-8901', 'park@example.com', '서울시 마포구', 'I45678', 'AB+', NULL);\n",
    "INSERT INTO patients VALUES('P005', '정민준', '2000-01-30', 'M', '010-5678-9012', 'jung@example.com', '서울시 영등포구', 'I56789', 'A-', '라텍스');\n",
    "\"\"\"\n"
   ]
  },
  {
   "cell_type": "code",
   "execution_count": 33,
   "id": "9b2a2e8d",
   "metadata": {},
   "outputs": [],
   "source": [
    "# 가용 시간 샘플 데이터\n",
    "sample_availability = \"\"\"\n",
    "INSERT INTO availability VALUES('D001', '2025-04-02', '09:00', '가능');\n",
    "INSERT INTO availability VALUES('D001', '2025-04-02', '10:00', '불가능');\n",
    "INSERT INTO availability VALUES('D001', '2025-04-02', '11:00', '가능');\n",
    "INSERT INTO availability VALUES('D001', '2025-04-02', '14:00', '가능');\n",
    "INSERT INTO availability VALUES('D001', '2025-04-02', '15:00', '불가능');\n",
    "INSERT INTO availability VALUES('D001', '2025-04-03', '09:00', '가능');\n",
    "INSERT INTO availability VALUES('D001', '2025-04-03', '10:00', '가능');\n",
    "INSERT INTO availability VALUES('D002', '2025-04-02', '09:00', '불가능');\n",
    "INSERT INTO availability VALUES('D002', '2025-04-02', '10:00', '가능');\n",
    "INSERT INTO availability VALUES('D002', '2025-04-02', '11:00', '가능');\n",
    "\"\"\"\n"
   ]
  },
  {
   "cell_type": "code",
   "execution_count": 34,
   "id": "857bd6a5",
   "metadata": {},
   "outputs": [],
   "source": [
    "# 예약 샘플 데이터\n",
    "sample_appointments = \"\"\"\n",
    "INSERT INTO appointments VALUES('A0001', 'P001', 'D002', '2025-03-20', '10:00', '열 및 두통', '완료됨', '감기 증상. 안정 권장 및 처방전 발급함.');\n",
    "INSERT INTO appointments VALUES('A0002', 'P002', 'D003', '2025-03-25', '11:00', '무릎 통증', '완료됨', '연골 손상 의심. MRI 검사 예약 완료.');\n",
    "INSERT INTO appointments VALUES('A0003', 'P001', 'D001', '2025-04-05', '09:00', '정기 검진', '예정됨', NULL);\n",
    "INSERT INTO appointments VALUES('A0004', 'P003', 'D005', '2025-03-30', '14:00', '두통 및 어지러움', '취소됨', '환자 요청으로 취소됨');\n",
    "INSERT INTO appointments VALUES('A0005', 'P004', 'D004', '2025-04-06', '15:00', '피부 발진', '예정됨', NULL);\n",
    "\"\"\"\n"
   ]
  },
  {
   "cell_type": "code",
   "execution_count": 35,
   "id": "fa945a47",
   "metadata": {},
   "outputs": [],
   "source": [
    "# 의료 기록 샘플 데이터\n",
    "sample_medical_records = \"\"\"\n",
    "INSERT INTO medical_records VALUES('M0001', 'P001', 'D002', '2025-03-20', '진단', '급성 상기도 감염', '처방전 발급함');\n",
    "INSERT INTO medical_records VALUES('M0002', 'P001', 'D002', '2025-03-20', '처방', '타이레놀 500mg, 하루 3회', '7일분 처방');\n",
    "INSERT INTO medical_records VALUES('M0003', 'P002', 'D003', '2025-03-25', '진단', '무릎 연골 손상 의심', 'MRI 검사 요청함');\n",
    "INSERT INTO medical_records VALUES('M0004', 'P002', 'D003', '2025-03-25', '검사', '무릎 MRI 검사', '다음 주 예약 완료');\n",
    "INSERT INTO medical_records VALUES('M0005', 'P003', 'D001', '2025-03-15', '처방', '디아제팜 5mg, 취침 전 1회', '30일분 처방');\n",
    "\"\"\"\n"
   ]
  },
  {
   "cell_type": "code",
   "execution_count": 36,
   "id": "e563b7eb",
   "metadata": {},
   "outputs": [],
   "source": [
    "# 처방전 샘플 데이터\n",
    "sample_prescriptions = \"\"\"\n",
    "INSERT INTO prescriptions VALUES('R0001', 'P001', 'D002', '2025-03-20', '타이레놀 500mg', '1정', '하루 3회', '7일', '발급완료', TRUE);\n",
    "INSERT INTO prescriptions VALUES('R0002', 'P003', 'D001', '2025-03-15', '디아제팜 5mg', '1정', '취침 전 1회', '30일', '발급완료', FALSE);\n",
    "INSERT INTO prescriptions VALUES('R0003', 'P005', 'D005', '2025-03-10', '아스피린 100mg', '1정', '하루 1회', '90일', '발급완료', TRUE);\n",
    "INSERT INTO prescriptions VALUES('R0004', 'P002', 'D001', '2025-02-25', '암로디핀 5mg', '1정', '하루 1회', '30일', '만료됨', TRUE);\n",
    "INSERT INTO prescriptions VALUES('R0005', 'P004', 'D004', '2025-03-05', '프레드니솔론 크림', '소량', '하루 2회', '14일', '발급완료', FALSE);\n",
    "\"\"\"\n"
   ]
  },
  {
   "cell_type": "code",
   "execution_count": 37,
   "id": "9f8980b4",
   "metadata": {},
   "outputs": [],
   "source": [
    "# 보험 샘플 데이터\n",
    "sample_insurance = \"\"\"\n",
    "INSERT INTO insurance VALUES('I12345', 'P001', '국민건강보험', '기본형', '2024-01-01', '2025-12-31', 20);\n",
    "INSERT INTO insurance VALUES('I23456', 'P002', '한화생명', '프리미엄', '2024-01-01', '2025-12-31', 10);\n",
    "INSERT INTO insurance VALUES('I34567', 'P003', '메리츠화재', '기본형', '2024-01-01', '2025-12-31', 15);\n",
    "INSERT INTO insurance VALUES('I45678', 'P004', '삼성생명', '프리미엄', '2024-01-01', '2025-12-31', 5);\n",
    "INSERT INTO insurance VALUES('I56789', 'P005', '국민건강보험', '기본형', '2024-01-01', '2025-12-31', 20);\n",
    "\"\"\"\n"
   ]
  },
  {
   "cell_type": "code",
   "execution_count": 38,
   "id": "e4b74cb9",
   "metadata": {},
   "outputs": [],
   "source": [
    "# 시술 보장 범위 데이터\n",
    "sample_procedure_coverage = \"\"\"\n",
    "INSERT INTO procedure_coverage VALUES('I12345', 'PC001', '기본 진료', 80, 50000);\n",
    "INSERT INTO procedure_coverage VALUES('I12345', 'PC002', 'X-ray 검사', 70, 100000);\n",
    "INSERT INTO procedure_coverage VALUES('I23456', 'PC001', '기본 진료', 90, 100000);\n",
    "INSERT INTO procedure_coverage VALUES('I23456', 'PC003', 'MRI 검사', 80, 500000);\n",
    "INSERT INTO procedure_coverage VALUES('I34567', 'PC004', 'CT 검사', 75, 300000);\n",
    "\"\"\"\n"
   ]
  },
  {
   "cell_type": "code",
   "execution_count": 39,
   "id": "7f202414",
   "metadata": {},
   "outputs": [],
   "source": [
    "# 전체 DDL과 샘플 데이터 합치기\n",
    "hospital_complete_schema = (hospital_schema + sample_doctors + sample_patients +\n",
    "                              sample_availability + sample_appointments +\n",
    "                              sample_medical_records + sample_prescriptions +\n",
    "                              sample_insurance + sample_procedure_coverage)\n"
   ]
  },
  {
   "cell_type": "code",
   "execution_count": 40,
   "id": "0ca40a67",
   "metadata": {},
   "outputs": [],
   "source": [
    "# 임시 SQLite 데이터베이스 생성\n",
    "def create_hospital_db():\n",
    "    \"\"\"\n",
    "    임시 SQLite 데이터베이스를 생성하고, 스키마 및 샘플 데이터를 로드한 후\n",
    "    SQLDatabase 인스턴스를 반환합니다.\n",
    "    \"\"\"\n",
    "    db_file = os.path.join(tempfile.gettempdir(), \"hospital.db\")\n",
    "    conn = sqlite3.connect(db_file)\n",
    "    cursor = conn.cursor()\n",
    "\n",
    "    # 기존 테이블 삭제\n",
    "    cursor.executescript(\"\"\"\n",
    "    DROP TABLE IF EXISTS procedure_coverage;\n",
    "    DROP TABLE IF EXISTS insurance;\n",
    "    DROP TABLE IF EXISTS prescriptions;\n",
    "    DROP TABLE IF EXISTS medical_records;\n",
    "    DROP TABLE IF EXISTS appointments;\n",
    "    DROP TABLE IF EXISTS availability;\n",
    "    DROP TABLE IF EXISTS patients;\n",
    "    DROP TABLE IF EXISTS doctors;\n",
    "    \"\"\")\n",
    "\n",
    "    # 스키마 및 샘플 데이터 실행\n",
    "    cursor.executescript(hospital_schema)\n",
    "    cursor.executescript(sample_doctors)\n",
    "    cursor.executescript(sample_patients)\n",
    "    cursor.executescript(sample_availability)\n",
    "    cursor.executescript(sample_appointments)\n",
    "    cursor.executescript(sample_medical_records)\n",
    "    cursor.executescript(sample_prescriptions)\n",
    "    cursor.executescript(sample_insurance)\n",
    "    cursor.executescript(sample_procedure_coverage)\n",
    "\n",
    "    conn.commit()\n",
    "    conn.close()\n",
    "\n",
    "    return SQLDatabase.from_uri(f\"sqlite:///{db_file}\")\n"
   ]
  },
  {
   "cell_type": "code",
   "execution_count": 41,
   "id": "1ba26b65",
   "metadata": {},
   "outputs": [
    {
     "name": "stdout",
     "output_type": "stream",
     "text": [
      "데이터베이스가 성공적으로 생성되었습니다.\n",
      "사용 가능한 테이블: ['appointments', 'availability', 'doctors', 'insurance', 'medical_records', 'patients', 'prescriptions', 'procedure_coverage']\n",
      "의사 테이블 샘플: (\"[('D001', '김지훈', '내과', '서울중앙병원', '301호', '02-123-4567', 'jihoon.kim@hospital.com'), ('D002', '이수진', '소아과', '서울중앙병원', '302호', '02-123-4568', 'sujin.lee@hospital.com'), ('D003', '박준석', '정형외과', '서울중앙병원', '401호', '02-123-4569', 'junseok.park@hospital.com')]\", {'result': [('D001', '김지훈', '내과', '서울중앙병원', '301호', '02-123-4567', 'jihoon.kim@hospital.com'), ('D002', '이수진', '소아과', '서울중앙병원', '302호', '02-123-4568', 'sujin.lee@hospital.com'), ('D003', '박준석', '정형외과', '서울중앙병원', '401호', '02-123-4569', 'junseok.park@hospital.com')], 'col_keys': ['doctor_id', 'name', 'specialty', 'hospital_name', 'office', 'phone', 'email']})\n"
     ]
    }
   ],
   "source": [
    "# 데이터베이스 생성 실행\n",
    "db = create_hospital_db()\n",
    "print(\"데이터베이스가 성공적으로 생성되었습니다.\")\n",
    "print(f\"사용 가능한 테이블: {db.get_usable_table_names()}\")\n",
    "\n",
    "# 테이블 내용 확인 예시\n",
    "doctors_example = db.run_sql(\"SELECT * FROM doctors LIMIT 3;\")\n",
    "print(f\"의사 테이블 샘플: {doctors_example}\")\n"
   ]
  },
  {
   "cell_type": "code",
   "execution_count": 42,
   "id": "dfc24c3b",
   "metadata": {},
   "outputs": [],
   "source": [
    "def db_query(sql_query: str) -> str:\n",
    "    \"\"\"병원 DB에 SQL을 날리고, 결과를 문자열로 반환\"\"\"\n",
    "    try:\n",
    "        result = db.run_sql(sql_query)\n",
    "        if not result:\n",
    "            return \"쿼리 결과가 없습니다.\"\n",
    "        return str(result)\n",
    "    except Exception as e:\n",
    "        return f\"[DB 오류] {str(e)}\"\n"
   ]
  },
  {
   "cell_type": "code",
   "execution_count": null,
   "id": "37e35d6d",
   "metadata": {},
   "outputs": [],
   "source": [
    "system_prompt = f\"\"\"당신은 병원 DB 어시스턴트입니다.\n",
    "\n",
    "아래는 병원 DB의 전체 테이블 스키마입니다:\n",
    "------------------------------------------------\n",
    "{hospital_schema}\n",
    "------------------------------------------------\n",
    "\n",
    "[규칙]\n",
    "1) DB 조회가 필요한 질문이면, SQL 쿼리를 작성하고 db_query 함수를 호출하세요.\n",
    "2) 일반 질문(날씨, 잡담 등)은 함수 호출 없이 답변하세요.\n",
    "3) DB 결과를 간단히 요약해 최종 답변을 만드세요.\n",
    "4) 이전 대화 맥락(멀티턴)도 유지하세요.\n",
    "\"\"\"\n"
   ]
  },
  {
   "cell_type": "code",
   "execution_count": 44,
   "id": "f8c6edef",
   "metadata": {},
   "outputs": [],
   "source": [
    "agent = FunctionAgent(\n",
    "    tools=[db_query],         # 등록된 툴 목록 (여기서는 db_query만)\n",
    "    llm=llm,                  # 사용할 LLM\n",
    "    system_prompt=system_prompt,  # 위에서 정의한 시스템 지시문\n",
    "    max_iterations=3,         # 한 번의 user 질문에 최대 3스텝 Reasoning\n",
    "    verbose=True,             # 디버그 로깅\n",
    ")\n"
   ]
  },
  {
   "cell_type": "code",
   "execution_count": 45,
   "id": "2ade4862",
   "metadata": {},
   "outputs": [],
   "source": [
    "async def run_agent_verbose(query: str) -> AgentOutput:\n",
    "    \"\"\"\n",
    "    한 번의 사용자 질의를 agent.run(query)로 처리하며,\n",
    "    중간에 발생하는 ToolCallResult(함수 호출) 이벤트를 콘솔에 찍는다.\n",
    "\n",
    "    반환값:\n",
    "    - AgentOutput: 최종 LLM 답변(문자열)을 감싼 객체\n",
    "                   str(...)로 최종 답변 텍스트를 얻을 수 있다.\n",
    "    \"\"\"\n",
    "    handler = agent.run(query)\n",
    "    async for event in handler.stream_events():\n",
    "        if isinstance(event, ToolCallResult):\n",
    "            print(f\"[ToolCall] name={event.tool_name}, args={event.tool_kwargs}\")\n",
    "            print(f\" -> result: {event.tool_output}\\n\")\n",
    "    result = await handler  # 최종 AgentOutput\n",
    "    return result\n"
   ]
  },
  {
   "cell_type": "code",
   "execution_count": 46,
   "id": "b36f1509",
   "metadata": {},
   "outputs": [
    {
     "name": "stdout",
     "output_type": "stream",
     "text": [
      "[ToolCall] name=db_query, args={'sql_query': \"SELECT specialty FROM doctors WHERE name = '김지훈';\"}\n",
      " -> result: (\"[('내과',)]\", {'result': [('내과',)], 'col_keys': ['specialty']})\n",
      "\n",
      "[Q1] 최종 답변: 김지훈 의사의 전공은 내과입니다.\n",
      "[ToolCall] name=db_query, args={'sql_query': \"SELECT * FROM insurance WHERE patient_id = (SELECT patient_id FROM patients WHERE name = '홍길동')\"}\n",
      " -> result: (\"[('I12345', 'P001', '국민건강보험', '기본형', '2024-01-01', '2025-12-31', 20)]\", {'result': [('I12345', 'P001', '국민건강보험', '기본형', '2024-01-01', '2025-12-31', 20)], 'col_keys': ['insurance_id', 'patient_id', 'provider', 'insurance_type', 'coverage_start', 'coverage_end', 'copay_percentage']})\n",
      "\n",
      "[Q2] 최종 답변: 홍길동 환자는 '국민건강보험'의 '기본형' 보험에 가입되어 있으며, 보장 기간은 2024년 1월 1일부터 2025년 12월 31일까지입니다. 자기부담금 비율은 20%입니다.\n",
      "[Q3] 최종 답변: 죄송하지만, 현재 날씨 정보를 제공할 수 없습니다. 다른 질문이나 도움이 필요하시면 말씀해 주세요!\n",
      "[ToolCall] name=db_query, args={'sql_query': 'SELECT COUNT(*) FROM doctors;'}\n",
      " -> result: ('[(5,)]', {'result': [(5,)], 'col_keys': ['COUNT(*)']})\n",
      "\n",
      "[Q4] 최종 답변: 현재 병원에는 총 5명의 의사가 있습니다.\n",
      "[ToolCall] name=db_query, args={'sql_query': \"SELECT hospital_name FROM doctors WHERE name = '김지훈';\"}\n",
      " -> result: (\"[('서울중앙병원',)]\", {'result': [('서울중앙병원',)], 'col_keys': ['hospital_name']})\n",
      "\n",
      "[Q5] 최종 답변: 김지훈 의사는 서울중앙병원에서 근무하고 있습니다.\n"
     ]
    }
   ],
   "source": [
    "async def test_five_queries():\n",
    "    \"\"\"\n",
    "    5가지 질문을 순차 실행하여 툴 호출 로그 + 최종 답변을 확인.\n",
    "    \"\"\"\n",
    "    queries = [\n",
    "        \"김지훈 의사의 전공은?\",\n",
    "        \"홍길동 환자의 보험은?\",\n",
    "        \"날씨가 궁금해\",\n",
    "        \"의사 몇명 있니?\",\n",
    "        \"김지훈 의사 병원?\"\n",
    "    ]\n",
    "    for i, q in enumerate(queries, start=1):\n",
    "        out: AgentOutput = await run_agent_verbose(q)\n",
    "        print(f\"[Q{i}] 최종 답변: {str(out)}\")\n",
    "\n",
    "# 실제 실행\n",
    "await test_five_queries()\n"
   ]
  },
  {
   "cell_type": "code",
   "execution_count": 47,
   "id": "e94f0880",
   "metadata": {},
   "outputs": [],
   "source": [
    "conversation = [\n",
    "    {\"role\":\"system\", \"content\":system_prompt}\n",
    "]\n",
    "exec_log = \"\"\n",
    "\n",
    "def build_prompt(new_user_msg: str) -> str:\n",
    "    \"\"\"\n",
    "    기존 대화 + 새 사용자 발화 -> 하나의 문자열\n",
    "    ex) \"System: ...\\nUser: ...\\nAssistant: ...\\nUser: new\\nAssistant:\"\n",
    "    \"\"\"\n",
    "    lines = []\n",
    "    for turn in conversation:\n",
    "        r = turn[\"role\"]\n",
    "        c = turn[\"content\"]\n",
    "        if r == \"system\":\n",
    "            lines.append(f\"System: {c}\")\n",
    "        elif r == \"user\":\n",
    "            lines.append(f\"User: {c}\")\n",
    "        elif r == \"assistant\":\n",
    "            lines.append(f\"Assistant: {c}\")\n",
    "    lines.append(f\"User: {new_user_msg}\")\n",
    "    lines.append(\"Assistant:\")\n",
    "    return \"\\n\".join(lines)\n"
   ]
  },
  {
   "cell_type": "code",
   "execution_count": 48,
   "id": "17615914",
   "metadata": {},
   "outputs": [],
   "source": [
    "async def chat_handler(user_text, chat_history):\n",
    "    global exec_log\n",
    "\n",
    "    # 1) 전체 대화 -> 프롬프트\n",
    "    full_prompt = build_prompt(user_text)\n",
    "\n",
    "    # 2) agent.run(...) 비동기 호출 -> 이벤트 스트림\n",
    "    handler = agent.run(full_prompt)\n",
    "    tool_calls_str = \"\"\n",
    "    async for event in handler.stream_events():\n",
    "        if isinstance(event, ToolCallResult):\n",
    "            tool_calls_str += f\"[ToolCall] {event.tool_name}, args={event.tool_kwargs}\\n\"\n",
    "            tool_calls_str += f\" -> result: {event.tool_output}\\n\\n\"\n",
    "\n",
    "    final_out: AgentOutput = await handler\n",
    "    bot_answer = str(final_out)\n",
    "\n",
    "    # 3) 대화 히스토리 업데이트\n",
    "    conversation.append({\"role\":\"user\", \"content\":user_text})\n",
    "    conversation.append({\"role\":\"assistant\", \"content\":bot_answer})\n",
    "\n",
    "    # 4) Gradio UI 업데이트 (type=\"messages\"): [{\"role\":\"user\",\"content\":...}, ...]\n",
    "    chat_history.append({\"role\":\"user\", \"content\":user_text})\n",
    "    chat_history.append({\"role\":\"assistant\", \"content\":bot_answer})\n",
    "\n",
    "    # 5) 실행 로그\n",
    "    turn_log = f\"[User] {user_text}\\n\"\n",
    "    turn_log += tool_calls_str\n",
    "    turn_log += f\"[Assistant] {bot_answer}\\n\"\n",
    "    turn_log += (\"=\"*50) + \"\\n\"\n",
    "    exec_log += turn_log\n",
    "\n",
    "    return \"\", chat_history, exec_log\n"
   ]
  },
  {
   "cell_type": "code",
   "execution_count": 49,
   "id": "4bf4fc57",
   "metadata": {},
   "outputs": [],
   "source": [
    "def clear_all():\n",
    "    global conversation, exec_log\n",
    "    conversation = [{\"role\":\"system\", \"content\":system_prompt}]\n",
    "    exec_log = \"\"\n",
    "    return [], \"\"\n"
   ]
  },
  {
   "cell_type": "code",
   "execution_count": null,
   "id": "1da4fc87",
   "metadata": {},
   "outputs": [
    {
     "name": "stdout",
     "output_type": "stream",
     "text": [
      "Running on local URL:  http://127.0.0.1:7860\n",
      "Running on public URL: https://0ed19451b451615e30.gradio.live\n",
      "\n",
      "This share link expires in 72 hours. For free permanent hosting and GPU upgrades, run `gradio deploy` from Terminal to deploy to Spaces (https://huggingface.co/spaces)\n"
     ]
    },
    {
     "data": {
      "text/html": [
       "<div><iframe src=\"https://0ed19451b451615e30.gradio.live\" width=\"100%\" height=\"500\" allow=\"autoplay; camera; microphone; clipboard-read; clipboard-write;\" frameborder=\"0\" allowfullscreen></iframe></div>"
      ],
      "text/plain": [
       "<IPython.core.display.HTML object>"
      ]
     },
     "metadata": {},
     "output_type": "display_data"
    }
   ],
   "source": [
    "with gr.Blocks(css=\"footer {visibility: hidden}\") as demo:\n",
    "    gr.Markdown(\"## 병원 DB Text-to-SQL (멀티턴) + 실행 로그 (Right)\")\n",
    "\n",
    "    with gr.Row():\n",
    "        with gr.Column(scale=2):\n",
    "            chatbot = gr.Chatbot(label=\"대화창\", height=400, type=\"messages\")\n",
    "            user_inp = gr.Textbox(label=\"질문 입력\", placeholder=\"예) 김지훈 의사 이메일?\")\n",
    "            clr_btn = gr.Button(\"대화 초기화\")\n",
    "        with gr.Column(scale=1):\n",
    "            logs = gr.Textbox(label=\"실행 로그\", lines=20)\n",
    "\n",
    "    user_inp.submit(fn=chat_handler, inputs=[user_inp, chatbot], outputs=[user_inp, chatbot, logs])\n",
    "    clr_btn.click(fn=clear_all, outputs=[chatbot, logs])\n",
    "\n",
    "    gr.Markdown(\"\"\"\n",
    "    **사용 예시:**\n",
    "    - \"김지훈 의사의 이메일 알려줘\"\n",
    "    - \"그 의사의 빈 시간은 언제야?\" (맥락: 김지훈)\n",
    "    - \"날씨 어때?\" (DB 불필요)\n",
    "    - \"김영희 환자 보험번호 알려줘\"\n",
    "   \"\"\")\n",
    "\n",
    "demo.launch(debug=True, share=True)"
   ]
  },
  {
   "cell_type": "code",
   "execution_count": null,
   "id": "82a741cf",
   "metadata": {},
   "outputs": [],
   "source": []
  },
  {
   "cell_type": "code",
   "execution_count": null,
   "id": "ba1a5401",
   "metadata": {},
   "outputs": [],
   "source": []
  },
  {
   "cell_type": "code",
   "execution_count": null,
   "id": "decaad5d",
   "metadata": {},
   "outputs": [],
   "source": []
  },
  {
   "cell_type": "code",
   "execution_count": null,
   "id": "7e8e669b",
   "metadata": {},
   "outputs": [],
   "source": []
  },
  {
   "cell_type": "code",
   "execution_count": null,
   "id": "b34c8652",
   "metadata": {},
   "outputs": [],
   "source": []
  },
  {
   "cell_type": "code",
   "execution_count": null,
   "id": "73340e13",
   "metadata": {},
   "outputs": [],
   "source": []
  },
  {
   "cell_type": "code",
   "execution_count": null,
   "id": "3e0e10f7",
   "metadata": {},
   "outputs": [],
   "source": []
  },
  {
   "cell_type": "code",
   "execution_count": null,
   "id": "a07e7645",
   "metadata": {},
   "outputs": [],
   "source": []
  },
  {
   "cell_type": "code",
   "execution_count": null,
   "id": "9e7ee4cb",
   "metadata": {},
   "outputs": [],
   "source": []
  }
 ],
 "metadata": {
  "kernelspec": {
   "display_name": "py39_test",
   "language": "python",
   "name": "python3"
  },
  "language_info": {
   "codemirror_mode": {
    "name": "ipython",
    "version": 3
   },
   "file_extension": ".py",
   "mimetype": "text/x-python",
   "name": "python",
   "nbconvert_exporter": "python",
   "pygments_lexer": "ipython3",
   "version": "3.9.21"
  }
 },
 "nbformat": 4,
 "nbformat_minor": 5
}
