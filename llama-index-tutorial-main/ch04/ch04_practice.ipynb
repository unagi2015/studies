{
 "cells": [
  {
   "cell_type": "code",
   "execution_count": null,
   "metadata": {},
   "outputs": [],
   "source": [
    "# 데이터 다운로드 \n",
    "import os\n",
    "import urllib.parse\n",
    "import requests\n",
    "import re\n",
    "\n",
    "urls=[ \n",
    "    \"https://raw.githubusercontent.com/llama-index-tutorial/llama-index-tutorial/refs/heads/main/ch04/data/paul_graham_essay.txt\", # 폴 그레이엄 에세이\n",
    "    \"https://raw.githubusercontent.com/llama-index-tutorial/llama-index-tutorial/main/ch04/data/%EB%AF%B8%EA%B5%AD%EC%9D%98%20%ED%86%B5%ED%99%94%EC%A0%95%EC%B1%85%20%EB%B3%80%ED%99%94%EA%B0%80%20%EC%99%B8%EA%B5%AD%EC%9E%90%EB%B3%B8%20%EC%9C%A0%EC%B6%9C%EC%97%90%20%EB%AF%B8%EC%B9%98%EB%8A%94%20%EC%98%81%ED%96%A5_20180528.hwp\", # 미국 통화 정책 변화 파일\n",
    "    \"https://raw.githubusercontent.com/llama-index-tutorial/llama-index-tutorial/refs/heads/main/ch04/data/%EB%B2%94%EC%A3%84%20%EB%B0%9C%EC%83%9D%20%EC%9E%A5%EC%86%8C%EB%B3%84%20%ED%86%B5%EA%B3%84_2023.csv\", # ‘범죄 통계 \n",
    "    \"https://raw.githubusercontent.com/llama-index-tutorial/llama-index-tutorial/main/ch04/data/%EC%9D%B8%EB%AC%B8%ED%95%99%EC%9D%98%20%EC%83%88%EB%A1%9C%EC%9A%B4%20%EC%97%AD%ED%95%A0%EC%97%90%20%EB%8C%80%ED%95%9C%20%EA%B3%A0%EC%B0%B0.pdf\" # 인문학 파일\n",
    "]\n",
    "\n",
    "# 각 파일 다운로드\n",
    "for url in urls:\n",
    "    encoded_filename = url.split(\"/\")[-1]  # URL에서 파일명 추출\n",
    "    decoded_filename = urllib.parse.unquote(encoded_filename) # 한글 파일명 복원\n",
    "    response = requests.get(url)\n",
    "    if response.status_code == 200:\n",
    "# 임시 파일명으로 저장\n",
    "        temp_filename = \"temp_download_file\" + os.path.splitext(decoded_filename)[1] \n",
    "        with open(temp_filename, 'wb') as f:\n",
    "            f.write(response.content)            \n",
    "        os.rename(temp_filename, decoded_filename) # 파일명 변경\n",
    "        print(f\"완료: {decoded_filename} 다운로드 완료\")\n",
    "    else:\n",
    "        print(f\"오류: {url} 다운로드 실패 (상태 코드: {response.status_code})\\n\")\n"
   ]
  },
  {
   "cell_type": "code",
   "execution_count": null,
   "metadata": {},
   "outputs": [],
   "source": []
  },
  {
   "cell_type": "markdown",
   "metadata": {},
   "source": [
    "## PDF 파일 다루기 "
   ]
  },
  {
   "cell_type": "code",
   "execution_count": 6,
   "metadata": {},
   "outputs": [],
   "source": [
    "from llama_index.core import SimpleDirectoryReader\n",
    "\n",
    "reader = SimpleDirectoryReader(input_files=[\"data/인문학의 새로운 역할에 대한 고찰.pdf\"])\n",
    "documents = reader.load_data()\n"
   ]
  },
  {
   "cell_type": "code",
   "execution_count": 2,
   "metadata": {},
   "outputs": [
    {
     "name": "stdout",
     "output_type": "stream",
     "text": [
      "137\n"
     ]
    }
   ],
   "source": [
    "print(len(documents))"
   ]
  },
  {
   "cell_type": "code",
   "execution_count": 3,
   "metadata": {},
   "outputs": [
    {
     "data": {
      "text/plain": [
       "Document(id_='81167921-827a-4bda-9972-739cf91400b3', embedding=None, metadata={'page_label': '4', 'file_name': '인문학의 새로운 역할에 대한 고찰.pdf', 'file_path': 'data\\\\인문학의 새로운 역할에 대한 고찰.pdf', 'file_type': 'application/pdf', 'file_size': 4632243, 'creation_date': '2025-03-08', 'last_modified_date': '2024-09-15'}, excluded_embed_metadata_keys=['file_name', 'file_type', 'file_size', 'creation_date', 'last_modified_date', 'last_accessed_date'], excluded_llm_metadata_keys=['file_name', 'file_type', 'file_size', 'creation_date', 'last_modified_date', 'last_accessed_date'], relationships={}, text='연구요약\\n인간 사회의 전 분야를 쓰나미처럼 휩쓸고 들어오는 디지털화는 개인의 생활 방식, 개인\\n들끼리의 교류 방식, 더 나아가 사회가 작동하는 방식을 총체적이고 근본적으로 변화시키\\n고 있는 상황이다 . 우리는 현재 디지털을 사용하는 선을 넘어서서 디지털 가운데서 살아가\\n고 있다. 디지털이라는 매체가 인간 삶의 전반적 틀을 크게 좌우하는 이러한 상황은 여러 \\n가지 전례 없는 현상들을 낳고 있으며 , 이러한 변화가 긍정적일지 부정적일지는 현재의 우\\n리가 어떻게 대처하느냐에 달려있을 수밖에 없다. 평자에 따라서는 농업혁명 , 산업혁명 이\\n상의 역사적인 전환점이라고도 평가되고 있는 현재 시점은 곧 새로운 사회구조의 원리와 \\n더불어 새로운 방식의 학문이 출현하는 시점인 듯하다 .\\n이 글에서는 먼저 개인정보의 문제와 젠더의 문제에 집중하여 디지털 -빅데이터 시대가 \\n낳은 사회적 변화의 양상을 조망하고자 했다. 인간의 생활 전반이 디지털에서 흔적으로 남\\n고 있는 현실은 그 흔적, 즉 “trace data”를 그 자체로 “상품”으로 간주하려는 경향과 결부\\n되고 있다. 디지털 사회로의 진입이 이미 이루어졌고 후퇴가 불가능할 뿐만 아니라 디지털\\n-빅데이터 사회가 갖는 장점이 매우 큰 것을 고려할 때 “데이터 공동체 ”, 혹은 “연대적인 \\n데이터 저장” 등 현재 사회학에서 제시되고 있는 방법들에 대해 성찰함으로써 개인데이터\\n가 “상품”으로 직진하지 않도록 하기 위한 구체적인 방법을 찾아내기 위해 노력할 필요가 \\n절실해 보인다 .\\n젠더의 경우 디지털 -빅데이터 시대가 사회 진보의 측면에서 가능성과 한계를 동시에 안\\n고 있음을 선명하게 보여주고 있다. 한편으로 디지털 전환 자체가 젠더에 따라 다르게 경험\\n되고 있고, 디지털 세계에서도 기존의 남성중심적인 구조가 재생산되는 경향이 분명한 것\\n이 현실이다 . 그러나 다른 한편으로 빅데이터는 2000년대 이후 정체상태에 머물러 있는 \\n양성평등에 한걸음 더 가까이 갈 수 있는 가능성을 내포하고 있기도 하다. 젠더 격차의 문\\n제를 빅데이터를 통해서 입체적으로 보여줄 수가 있고, 그 결과로 구체적이고 적극적인 개\\n입이 가능하다는 것이 여러 가지 경로를 통해서 드러나고 있는 것이다 . 가령 유엔이 클린턴 \\n재단 등 거대 민간 재단들과 공동설립한 Data2X 의 경우 기존의 데이터들을 모으는 데에서 \\n더 나아가 이 데이터들을 해체함으로써 결핍된 데이터 , 즉 여성에 대한 데이터를 채우는 \\n것을 목표로 삼고 있다. 이와 같이 빅데이터의 입체성은 인간의 사회가 젠더의 측면에서 \\n얼마나 기울어진 운동장인지를 보다 더 명징하게 보여주고 있고, 디지털을 통해 가능해진 \\n과거와 비교할 수 없는 정도로 진전된 국제협력을 통해서 과거보다 더 적극적이고 구체적\\n인 방식의 대응을 가능케 할 가능성을 내포하고 있는 것이다 .\\n디지털화가 내포하고 있는 사회 전반의 변화는 분과학문 단위에서 접근할 수 있는 범위\\n를 넘어서 있다. 이러한 문제적 상황에 대해 인문학과 사회과학 분야가 각각 어떻게 대응하\\n고 있는지를 II부와 III부에서 살펴보았다 . II부에서는 먼저 디지털인문학이 출현함으로써 새', mimetype='text/plain', start_char_idx=None, end_char_idx=None, text_template='{metadata_str}\\n\\n{content}', metadata_template='{key}: {value}', metadata_seperator='\\n')"
      ]
     },
     "execution_count": 3,
     "metadata": {},
     "output_type": "execute_result"
    }
   ],
   "source": [
    "documents[3]"
   ]
  },
  {
   "cell_type": "markdown",
   "metadata": {},
   "source": [
    "### 텍스트 분할하기 "
   ]
  },
  {
   "cell_type": "markdown",
   "metadata": {},
   "source": [
    "#### 1. 토큰 단위 분할 "
   ]
  },
  {
   "cell_type": "code",
   "execution_count": 4,
   "metadata": {},
   "outputs": [],
   "source": [
    "from llama_index.core.node_parser import TokenTextSplitter"
   ]
  },
  {
   "cell_type": "code",
   "execution_count": 5,
   "metadata": {},
   "outputs": [],
   "source": [
    "# TokenTextSplitter 설정하기 \n",
    "splitter = TokenTextSplitter(chunk_size=1024, chunk_overlap=20)\n",
    "\n",
    "# TokenTextSplitter 적용 후 노드에 담기 \n",
    "nodes = splitter.get_nodes_from_documents(documents)\n"
   ]
  },
  {
   "cell_type": "code",
   "execution_count": 6,
   "metadata": {},
   "outputs": [
    {
     "name": "stdout",
     "output_type": "stream",
     "text": [
      "186\n"
     ]
    }
   ],
   "source": [
    "print(len(nodes))"
   ]
  },
  {
   "cell_type": "code",
   "execution_count": 7,
   "metadata": {},
   "outputs": [
    {
     "name": "stdout",
     "output_type": "stream",
     "text": [
      "연구요약\n",
      "인간 사회의 전 분야를 쓰나미처럼 휩쓸고 들어오는 디지털화는 개인의 생활 방식, 개인들끼리의 교류 방식, 더 나아가 사회가 작동하는 방식을 총체적이고 근본적으로 변화시키고 있는 상황이다. 우리는 현재 디지털을 사용하는 선을 넘어서서 디지털 가운데서 살아가고 있다. 디지털이라는 매체가 인간 삶의 전반적 틀을 크게 좌우하는 이러한 상황은 여러 가지 전례 없는 현상들을 낳고 있으며, 이러한 변화가 긍정적일지 부정적일지는 현재의 우리가 어떻게 대처하느냐에 달려있을 수밖에 없다. 평자에 따라서는 농업혁명, 산업혁명 이상의 역사적인 전환점이라고도 평가되고 있는 현재 시점은 곧 새로운 사회구조의 원리와 더불어 새로운 방식의 학문이 출현하는 시점인 듯하다.이 글에서는 먼저 개인정보의 문제와 젠더의 문제에 집중하여 디지털-빅데이터 시대가 낳은 사회적 변화의 양상을 조망하고자 했다. 인간의 생활 전반이 디지털에서 흔적으로 남고 있는 현실은 그 흔적, 즉 “trace data”를 그 자체로 “상품”으로 간주하려는 경향과 결부되고 있다. 디지털 사회로의 진입이 이미 이루어졌고 후퇴가 불가능할 뿐만 아니라 디지털-빅데이터 사회가 갖는 장점이 매우 큰 것을 고려할 때 “데이터 공동체”, 혹은 “연대적인 데이터 저장” 등 현재 사회학에서 제시되고 있는 방법들에 대해 성찰함으로써 개인데이터가 “상품”으로 직진하지 않도록 하기 위한 구체적인 방법을 찾아내기 위해 노력할 필요가 절실해 보인다.젠더의 경우 디지털-빅데이터 시대가 사회 진보의 측면에서 가능성과 한계를 동시에 안고 있음을 선명하게 보여주고 있다. 한편으로 디지털 전환 자체가 젠더에 따라 다르게 경험되고 있고, 디지털 세계에서도 기존의 남성중심적인 구조가 재생산되는 경향이 분명한 것이 현실이다. 그러나 다른 한편으로 빅데이터는 2000년대 이후 정체상태에 머물러 있는 양성평등에 한걸음 더 가까이 갈 수 있는 가능성을 내포하고 있기도 하다. 젠더 격차의 문제를 빅데이터를 통해서 입체적으로 보여줄 수가 있고, 그 결과로 구체적이고 적극적인 개입이 가능하다는 것이 여러 가지 경로를 통해서 드러나고 있는 것이다. 가령\n"
     ]
    }
   ],
   "source": [
    "print(nodes[3].get_content())  "
   ]
  },
  {
   "cell_type": "markdown",
   "metadata": {},
   "source": [
    "#### 2.의미 단위 분할"
   ]
  },
  {
   "cell_type": "code",
   "execution_count": 8,
   "metadata": {},
   "outputs": [],
   "source": [
    "from llama_index.core.node_parser import SemanticSplitterNodeParser\n",
    "from llama_index.embeddings.openai import OpenAIEmbedding\n"
   ]
  },
  {
   "cell_type": "code",
   "execution_count": 9,
   "metadata": {},
   "outputs": [],
   "source": [
    "# embed_model 인스턴스 만들기 \n",
    "embed_model = OpenAIEmbedding()\n",
    "\n",
    "# semantic_splitter 설정하기\n",
    "semantic_splitter = SemanticSplitterNodeParser(\n",
    "    buffer_size=10, \n",
    "    breakpoint_percentile_threshold=95, \n",
    "    embed_model=embed_model\n",
    ")\n",
    "# semantic_splitter 적용 후 노드에 담기\n",
    "nodes_semantic=semantic_splitter.get_nodes_from_documents(documents)\n"
   ]
  },
  {
   "cell_type": "code",
   "execution_count": 10,
   "metadata": {},
   "outputs": [
    {
     "data": {
      "text/plain": [
       "189"
      ]
     },
     "execution_count": 10,
     "metadata": {},
     "output_type": "execute_result"
    }
   ],
   "source": [
    "len(nodes_semantic)"
   ]
  },
  {
   "cell_type": "code",
   "execution_count": 11,
   "metadata": {},
   "outputs": [
    {
     "name": "stdout",
     "output_type": "stream",
     "text": [
      "연구요약\n",
      "인간 사회의 전 분야를 쓰나미처럼 휩쓸고 들어오는 디지털화는 개인의 생활 방식, 개인들끼리의 교류 방식, 더 나아가 사회가 작동하는 방식을 총체적이고 근본적으로 변화시키고 있는 상황이다. 우리는 현재 디지털을 사용하는 선을 넘어서서 디지털 가운데서 살아가고 있다. 디지털이라는 매체가 인간 삶의 전반적 틀을 크게 좌우하는 이러한 상황은 여러 가지 전례 없는 현상들을 낳고 있으며, 이러한 변화가 긍정적일지 부정적일지는 현재의 우리가 어떻게 대처하느냐에 달려있을 수밖에 없다. 평자에 따라서는 농업혁명, 산업혁명 이상의 역사적인 전환점이라고도 평가되고 있는 현재 시점은 곧 새로운 사회구조의 원리와 더불어 새로운 방식의 학문이 출현하는 시점인 듯하다.이 글에서는 먼저 개인정보의 문제와 젠더의 문제에 집중하여 디지털-빅데이터 시대가 낳은 사회적 변화의 양상을 조망하고자 했다. 인간의 생활 전반이 디지털에서 흔적으로 남고 있는 현실은 그 흔적, 즉 “trace data”를 그 자체로 “상품”으로 간주하려는 경향과 결부되고 있다. 디지털 사회로의 진입이 이미 이루어졌고 후퇴가 불가능할 뿐만 아니라 디지털-빅데이터 사회가 갖는 장점이 매우 큰 것을 고려할 때 “데이터 공동체”, 혹은 “연대적인 데이터 저장” 등 현재 사회학에서 제시되고 있는 방법들에 대해 성찰함으로써 개인데이터가 “상품”으로 직진하지 않도록 하기 위한 구체적인 방법을 찾아내기 위해 노력할 필요가 절실해 보인다.젠더의 경우 디지털-빅데이터 시대가 사회 진보의 측면에서 가능성과 한계를 동시에 안고 있음을 선명하게 보여주고 있다. 한편으로 디지털 전환 자체가 젠더에 따라 다르게 경험되고 있고, 디지털 세계에서도 기존의 남성중심적인 구조가 재생산되는 경향이 분명한 것이 현실이다. 그러나 다른 한편으로 빅데이터는 2000년대 이후 정체상태에 머물러 있는 양성평등에 한걸음 더 가까이 갈 수 있는 가능성을 내포하고 있기도 하다. 젠더 격차의 문제를 빅데이터를 통해서 입체적으로 보여줄 수가 있고, 그 결과로 구체적이고 적극적인 개입이 가능하다는 것이 여러 가지 경로를 통해서 드러나고 있는 것이다. 가령 유엔이 클린턴 재단 등 거대 민간 재단들과 공동설립한 Data2X의 경우 기존의 데이터들을 모으는 데에서 더 나아가 이 데이터들을 해체함으로써 결핍된 데이터, 즉 여성에 대한 데이터를 채우는 것을 목표로 삼고 있다. 이와 같이 빅데이터의 입체성은 인간의 사회가 젠더의 측면에서 얼마나 기울어진 운동장인지를 보다 더 명징하게 보여주고 있고, 디지털을 통해 가능해진 과거와 비교할 수 없는 정도로 진전된 국제협력을 통해서 과거보다 더 적극적이고 구체적인 방식의 대응을 가능케 할 가능성을 내포하고 있는 것이다.디지털화가 내포하고 있는 사회 전반의 변화는 분과학문 단위에서 접근할 수 있는 범위를 넘어서 있다. \n"
     ]
    }
   ],
   "source": [
    "print(nodes_semantic[3].get_content()) "
   ]
  },
  {
   "cell_type": "markdown",
   "metadata": {},
   "source": [
    "#### 3.문장 단위 분할 "
   ]
  },
  {
   "cell_type": "code",
   "execution_count": 13,
   "metadata": {},
   "outputs": [],
   "source": [
    "from llama_index.core.node_parser import SentenceSplitter\n",
    "\n",
    "# semantic_splitter 설정하기\n",
    "splitter = SentenceSplitter(\n",
    "    chunk_size=1024,\n",
    "    chunk_overlap=20,\n",
    ")"
   ]
  },
  {
   "cell_type": "code",
   "execution_count": 14,
   "metadata": {},
   "outputs": [],
   "source": [
    "# semantic_splitter 적용 후 노드에 담기 \n",
    "nodes_sentence = splitter.get_nodes_from_documents(documents)\n"
   ]
  },
  {
   "cell_type": "code",
   "execution_count": 15,
   "metadata": {},
   "outputs": [
    {
     "name": "stdout",
     "output_type": "stream",
     "text": [
      "184\n"
     ]
    }
   ],
   "source": [
    "print(len(nodes_sentence)) "
   ]
  },
  {
   "cell_type": "code",
   "execution_count": 16,
   "metadata": {},
   "outputs": [
    {
     "name": "stdout",
     "output_type": "stream",
     "text": [
      "연구요약\n",
      "인간 사회의 전 분야를 쓰나미처럼 휩쓸고 들어오는 디지털화는 개인의 생활 방식, 개인들끼리의 교류 방식, 더 나아가 사회가 작동하는 방식을 총체적이고 근본적으로 변화시키고 있는 상황이다. 우리는 현재 디지털을 사용하는 선을 넘어서서 디지털 가운데서 살아가고 있다. 디지털이라는 매체가 인간 삶의 전반적 틀을 크게 좌우하는 이러한 상황은 여러 가지 전례 없는 현상들을 낳고 있으며, 이러한 변화가 긍정적일지 부정적일지는 현재의 우리가 어떻게 대처하느냐에 달려있을 수밖에 없다. 평자에 따라서는 농업혁명, 산업혁명 이상의 역사적인 전환점이라고도 평가되고 있는 현재 시점은 곧 새로운 사회구조의 원리와 더불어 새로운 방식의 학문이 출현하는 시점인 듯하다.이 글에서는 먼저 개인정보의 문제와 젠더의 문제에 집중하여 디지털-빅데이터 시대가 낳은 사회적 변화의 양상을 조망하고자 했다. 인간의 생활 전반이 디지털에서 흔적으로 남고 있는 현실은 그 흔적, 즉 “trace data”를 그 자체로 “상품”으로 간주하려는 경향과 결부되고 있다. 디지털 사회로의 진입이 이미 이루어졌고 후퇴가 불가능할 뿐만 아니라 디지털-빅데이터 사회가 갖는 장점이 매우 큰 것을 고려할 때 “데이터 공동체”, 혹은 “연대적인 데이터 저장” 등 현재 사회학에서 제시되고 있는 방법들에 대해 성찰함으로써 개인데이터가 “상품”으로 직진하지 않도록 하기 위한 구체적인 방법을 찾아내기 위해 노력할 필요가 절실해 보인다.젠더의 경우 디지털-빅데이터 시대가 사회 진보의 측면에서 가능성과 한계를 동시에 안고 있음을 선명하게 보여주고 있다. 한편으로 디지털 전환 자체가 젠더에 따라 다르게 경험되고 있고, 디지털 세계에서도 기존의 남성중심적인 구조가 재생산되는 경향이 분명한 것이 현실이다. 그러나 다른 한편으로 빅데이터는 2000년대 이후 정체상태에 머물러 있는 양성평등에 한걸음 더 가까이 갈 수 있는 가능성을 내포하고 있기도 하다.\n"
     ]
    }
   ],
   "source": [
    "print(nodes_sentence[3].get_content()) "
   ]
  },
  {
   "cell_type": "markdown",
   "metadata": {},
   "source": [
    "### 인덱싱 "
   ]
  },
  {
   "cell_type": "code",
   "execution_count": 17,
   "metadata": {},
   "outputs": [],
   "source": [
    "from llama_index.core import VectorStoreIndex\n",
    "index = VectorStoreIndex(nodes_sentence) \n"
   ]
  },
  {
   "cell_type": "code",
   "execution_count": 18,
   "metadata": {},
   "outputs": [
    {
     "name": "stdout",
     "output_type": "stream",
     "text": [
      "<llama_index.core.indices.vector_store.base.VectorStoreIndex object at 0x000001AB2A4B5400>\n"
     ]
    }
   ],
   "source": [
    "print(index)"
   ]
  },
  {
   "cell_type": "code",
   "execution_count": 19,
   "metadata": {},
   "outputs": [],
   "source": [
    "query_engine = index.as_query_engine(similarity_top_k=5)"
   ]
  },
  {
   "cell_type": "code",
   "execution_count": 20,
   "metadata": {},
   "outputs": [
    {
     "name": "stdout",
     "output_type": "stream",
     "text": [
      "디지털 인문학은 전통적인 인문학의 방법과 관점을 디지털 기술과 데이터에 적용하여 연구하는 학문으로, 디지털화된 자료를 분석하고 해석함으로써 인문학적인 문제를 탐구하며, 새로운 통찰을 얻고 지식을 확장하는 방식으로 다루는 학문이다.\n"
     ]
    }
   ],
   "source": [
    "response = query_engine.query(\"디지털 인문학은 인문학을 어떤 방식과 관점으로 다루는 학문인지 알려줘\")\n",
    "print(response)\n"
   ]
  },
  {
   "cell_type": "code",
   "execution_count": 21,
   "metadata": {},
   "outputs": [
    {
     "name": "stdout",
     "output_type": "stream",
     "text": [
      "디지털-빅데이터의\n",
      "시대\n",
      "인문사회학의\n",
      "새로운\n",
      "역할에\n",
      "대한\n",
      "고찰\n",
      "22 \n",
      "인쇄술이 활용된 14세기 이래 가장 근본적인 변화를 목도하고 있다고 해도 과언이 아닐 것이다. 가장 단순하게는 일반 문서를 컴퓨터가 읽을 수 있는 형태로 스캔하는 것을 포함하는 디지털화가 “디지털 턴”이라는 용어로 구체화되기에 이르렀지만, 특정한 논점에 대해 입증하거나 반박하는 것을 중시하는 전통적인 인문학은 이러한 변화에 대해 소극적이거나 부정적으로 대응해 왔다. 엄청난 규모로 이루어지고 있는 자료의 디지털화에 대해, 그리고 디지털 데이터에 대한 접근이 용이해진 점에 대해서는 경외감을 보이면서도, 이러한 연구들이 분석적인 측면에서의 기여가 분명하지 않다며 “디지털”, “디지털 인문학” 등에 대해 회의적인 시선을 보내고 있는 것이 인문학자들 대부분이 보이는 태도인 듯하다.그러나 현재까지의 각국의 디지털 인문학 관련 논의의 범위와 깊이는 이 분야에 대해 학계 전체의 체계적인 공동대응이 필요함을 보여주고 있다. 먼저 1장에서는 디지털 인문학과 관련되는 여러 쟁점들을 짚어보게 될 것이다. 이 경우 디지털 인문학 연구가 가장 발전한 미국의 최신 연구 및 관련 논의들을 종합적으로 정리한 새런 블럭(Sharon Block)의 논문을 주로 참고하였다. 이 글은 개인 저자인 블럭의 글이기보다 초기 미국사 연구의 최고 권위지인 “William and Mary Quarterly”가 2018년 10월 개최한 워크숍의 논의 결과들을 정리한 글이기 때문에, 이에 근거하여 미국의 인문학자들이 최근의 디지털인문학 연구경향에 대해 어느 정도의 깊이와 범위로 논의를 전개하고 있는지를 파악할 수 있었다.45) 2장에서는 다시 디지털 인문학 연구의 측면에서 앞서가고 있는 미국과 영국사 분야의 연구 및 고고학 분야의 연구를 살펴봄으로써 그동안의 성과에 대해 가늠해보고자 했다. 3장에서는 영국과 독일을 중심으로 하여 각국의 정부가 어떤 방식으로, 그리고 어느 정도로 디지털인문학 연구를 지원하고 있는지 살펴보고, 4장에서는 이에 근거한 종합을 시도하게 될 것이다.\n"
     ]
    }
   ],
   "source": [
    "print(response.source_nodes[0].get_content())"
   ]
  },
  {
   "cell_type": "markdown",
   "metadata": {},
   "source": [
    "## 텍스트 파일 다루기 "
   ]
  },
  {
   "cell_type": "code",
   "execution_count": 1,
   "metadata": {},
   "outputs": [],
   "source": [
    "from llama_index.core import SimpleDirectoryReader\n",
    "\n",
    "reader = SimpleDirectoryReader(input_files=[\"data/paul_graham_essay.txt\"])\n",
    "documents = reader.load_data()"
   ]
  },
  {
   "cell_type": "code",
   "execution_count": 2,
   "metadata": {},
   "outputs": [
    {
     "name": "stdout",
     "output_type": "stream",
     "text": [
      "1\n"
     ]
    }
   ],
   "source": [
    "print(len(documents))"
   ]
  },
  {
   "cell_type": "code",
   "execution_count": 3,
   "metadata": {},
   "outputs": [
    {
     "name": "stdout",
     "output_type": "stream",
     "text": [
      "[Document(id_='de314f02-5bf9-4f51-b641-fe58876cb7a1', embedding=None, metadata={'file_path': 'data\\\\paul_graham_essay.txt', 'file_name': 'paul_graham_essay.txt', 'file_type': 'text/plain', 'file_size': 75389, 'creation_date': '2025-03-08', 'last_modified_date': '2024-09-25'}, excluded_embed_metadata_keys=['file_name', 'file_type', 'file_size', 'creation_date', 'last_modified_date', 'last_accessed_date'], excluded_llm_metadata_keys=['file_name', 'file_type', 'file_size', 'creation_date', 'last_modified_date', 'last_accessed_date'], relationships={}, metadata_template='{key}: {value}', metadata_separator='\\n', text_resource=MediaResource(embeddings=None, data=None, text='What I Worked On\\r\\n\\r\\nFebruary 2021\\r\\n\\r\\nBefore college the two main things I worked on, outside of school, were writing and programming. I didn\\'t write essays. I wrote what beginning writers were supposed to write then, and probably still are: short stories. My stories were awful. They had hardly any plot, just characters with strong feelings, which I imagined made them deep.\\r\\n\\r\\nThe first programs I tried writing were on the IBM 1401 that our school district used for what was then called \"data processing.\" This was in 9th grade, so I was 13 or 14. The school district\\'s 1401 happened to be in the basement of our junior high school, and my friend Rich Draves and I got permission to use it. It was like a mini Bond villain\\'s lair down there, with all these alien-looking machines — CPU, disk drives, printer, card reader — sitting up on a raised floor under bright fluorescent lights.\\r\\n\\r\\nThe language we used was an early version of Fortran. You had to type programs on punch cards, then stack them in the card reader and press a button to load the program into memory and run it. The result would ordinarily be to print something on the spectacularly loud printer.\\r\\n\\r\\nI was puzzled by the 1401. I couldn\\'t figure out what to do with it. And in retrospect there\\'s not much I could have done with it. The only form of input to programs was data stored on punched cards, and I didn\\'t have any data stored on punched cards. The only other option was to do things that didn\\'t rely on any input, like calculate approximations of pi, but I didn\\'t know enough math to do anything interesting of that type. So I\\'m not surprised I can\\'t remember any programs I wrote, because they can\\'t have done much. My clearest memory is of the moment I learned it was possible for programs not to terminate, when one of mine didn\\'t. On a machine without time-sharing, this was a social as well as a technical error, as the data center manager\\'s expression made clear.\\r\\n\\r\\nWith microcomputers, everything changed. Now you could have a computer sitting right in front of you, on a desk, that could respond to your keystrokes as it was running instead of just churning through a stack of punch cards and then stopping. [1]\\r\\n\\r\\nThe first of my friends to get a microcomputer built it himself. It was sold as a kit by Heathkit. I remember vividly how impressed and envious I felt watching him sitting in front of it, typing programs right into the computer.\\r\\n\\r\\nComputers were expensive in those days and it took me years of nagging before I convinced my father to buy one, a TRS-80, in about 1980. The gold standard then was the Apple II, but a TRS-80 was good enough. This was when I really started programming. I wrote simple games, a program to predict how high my model rockets would fly, and a word processor that my father used to write at least one book. There was only room in memory for about 2 pages of text, so he\\'d write 2 pages at a time and then print them out, but it was a lot better than a typewriter.\\r\\n\\r\\nThough I liked programming, I didn\\'t plan to study it in college. In college I was going to study philosophy, which sounded much more powerful. It seemed, to my naive high school self, to be the study of the ultimate truths, compared to which the things studied in other fields would be mere domain knowledge. What I discovered when I got to college was that the other fields took up so much of the space of ideas that there wasn\\'t much left for these supposed ultimate truths. All that seemed left for philosophy were edge cases that people in other fields felt could safely be ignored.\\r\\n\\r\\nI couldn\\'t have put this into words when I was 18. All I knew at the time was that I kept taking philosophy courses and they kept being boring. So I decided to switch to AI.\\r\\n\\r\\nAI was in the air in the mid 1980s, but there were two things especially that made me want to work on it: a novel by Heinlein called The Moon is a Harsh Mistress, which featured an intelligent computer called Mike, and a PBS documentary that showed Terry Winograd using SHRDLU. I haven\\'t tried rereading The Moon is a Harsh Mistress, so I don\\'t know how well it has aged, but when I read it I was drawn entirely into its world. It seemed only a matter of time before we\\'d have Mike, and when I saw Winograd using SHRDLU, it seemed like that time would be a few years at most. All you had to do was teach SHRDLU more words.\\r\\n\\r\\nThere weren\\'t any classes in AI at Cornell then, not even graduate classes, so I started trying to teach myself. Which meant learning Lisp, since in those days Lisp was regarded as the language of AI. The commonly used programming languages then were pretty primitive, and programmers\\' ideas correspondingly so. The default language at Cornell was a Pascal-like language called PL/I, and the situation was similar elsewhere. Learning Lisp expanded my concept of a program so fast that it was years before I started to have a sense of where the new limits were. This was more like it; this was what I had expected college to do. It wasn\\'t happening in a class, like it was supposed to, but that was ok. For the next couple years I was on a roll. I knew what I was going to do.\\r\\n\\r\\nFor my undergraduate thesis, I reverse-engineered SHRDLU. My God did I love working on that program. It was a pleasing bit of code, but what made it even more exciting was my belief — hard to imagine now, but not unique in 1985 — that it was already climbing the lower slopes of intelligence.\\r\\n\\r\\nI had gotten into a program at Cornell that didn\\'t make you choose a major. You could take whatever classes you liked, and choose whatever you liked to put on your degree. I of course chose \"Artificial Intelligence.\" When I got the actual physical diploma, I was dismayed to find that the quotes had been included, which made them read as scare-quotes. At the time this bothered me, but now it seems amusingly accurate, for reasons I was about to discover.\\r\\n\\r\\nI applied to 3 grad schools: MIT and Yale, which were renowned for AI at the time, and Harvard, which I\\'d visited because Rich Draves went there, and was also home to Bill Woods, who\\'d invented the type of parser I used in my SHRDLU clone. Only Harvard accepted me, so that was where I went.\\r\\n\\r\\nI don\\'t remember the moment it happened, or if there even was a specific moment, but during the first year of grad school I realized that AI, as practiced at the time, was a hoax. By which I mean the sort of AI in which a program that\\'s told \"the dog is sitting on the chair\" translates this into some formal representation and adds it to the list of things it knows.\\r\\n\\r\\nWhat these programs really showed was that there\\'s a subset of natural language that\\'s a formal language. But a very proper subset. It was clear that there was an unbridgeable gap between what they could do and actually understanding natural language. It was not, in fact, simply a matter of teaching SHRDLU more words. That whole way of doing AI, with explicit data structures representing concepts, was not going to work. Its brokenness did, as so often happens, generate a lot of opportunities to write papers about various band-aids that could be applied to it, but it was never going to get us Mike.\\r\\n\\r\\nSo I looked around to see what I could salvage from the wreckage of my plans, and there was Lisp. I knew from experience that Lisp was interesting for its own sake and not just for its association with AI, even though that was the main reason people cared about it at the time. So I decided to focus on Lisp. In fact, I decided to write a book about Lisp hacking. It\\'s scary to think how little I knew about Lisp hacking when I started writing that book. But there\\'s nothing like writing a book about something to help you learn it. The book, On Lisp, wasn\\'t published till 1993, but I wrote much of it in grad school.\\r\\n\\r\\nComputer Science is an uneasy alliance between two halves, theory and systems. The theory people prove things, and the systems people build things. I wanted to build things. I had plenty of respect for theory — indeed, a sneaking suspicion that it was the more admirable of the two halves — but building things seemed so much more exciting.\\r\\n\\r\\nThe problem with systems work, though, was that it didn\\'t last. Any program you wrote today, no matter how good, would be obsolete in a couple decades at best. People might mention your software in footnotes, but no one would actually use it. And indeed, it would seem very feeble work. Only people with a sense of the history of the field would even realize that, in its time, it had been good.\\r\\n\\r\\nThere were some surplus Xerox Dandelions floating around the computer lab at one point. Anyone who wanted one to play around with could have one. I was briefly tempted, but they were so slow by present standards; what was the point? No one else wanted one either, so off they went. That was what happened to systems work.\\r\\n\\r\\nI wanted not just to build things, but to build things that would last.\\r\\n\\r\\nIn this dissatisfied state I went in 1988 to visit Rich Draves at CMU, where he was in grad school. One day I went to visit the Carnegie Institute, where I\\'d spent a lot of time as a kid. While looking at a painting there I realized something that might seem obvious, but was a big surprise to me. There, right on the wall, was something you could make that would last. Paintings didn\\'t become obsolete. Some of the best ones were hundreds of years old.\\r\\n\\r\\nAnd moreover this was something you could make a living doing. Not as easily as you could by writing software, of course, but I thought if you were really industrious and lived really cheaply, it had to be possible to make enough to survive. And as an artist you could be truly independent. You wouldn\\'t have a boss, or even need to get research funding.\\r\\n\\r\\nI had always liked looking at paintings. Could I make them? I had no idea. I\\'d never imagined it was even possible. I knew intellectually that people made art — that it didn\\'t just appear spontaneously — but it was as if the people who made it were a different species. They either lived long ago or were mysterious geniuses doing strange things in profiles in Life magazine. The idea of actually being able to make art, to put that verb before that noun, seemed almost miraculous.\\r\\n\\r\\nThat fall I started taking art classes at Harvard. Grad students could take classes in any department, and my advisor, Tom Cheatham, was very easy going. If he even knew about the strange classes I was taking, he never said anything.\\r\\n\\r\\nSo now I was in a PhD program in computer science, yet planning to be an artist, yet also genuinely in love with Lisp hacking and working away at On Lisp. In other words, like many a grad student, I was working energetically on multiple projects that were not my thesis.\\r\\n\\r\\nI didn\\'t see a way out of this situation. I didn\\'t want to drop out of grad school, but how else was I going to get out? I remember when my friend Robert Morris got kicked out of Cornell for writing the internet worm of 1988, I was envious that he\\'d found such a spectacular way to get out of grad school.\\r\\n\\r\\nThen one day in April 1990 a crack appeared in the wall. I ran into professor Cheatham and he asked if I was far enough along to graduate that June. I didn\\'t have a word of my dissertation written, but in what must have been the quickest bit of thinking in my life, I decided to take a shot at writing one in the 5 weeks or so that remained before the deadline, reusing parts of On Lisp where I could, and I was able to respond, with no perceptible delay \"Yes, I think so. I\\'ll give you something to read in a few days.\"\\r\\n\\r\\nI picked applications of continuations as the topic. In retrospect I should have written about macros and embedded languages. There\\'s a whole world there that\\'s barely been explored. But all I wanted was to get out of grad school, and my rapidly written dissertation sufficed, just barely.\\r\\n\\r\\nMeanwhile I was applying to art schools. I applied to two: RISD in the US, and the Accademia di Belli Arti in Florence, which, because it was the oldest art school, I imagined would be good. RISD accepted me, and I never heard back from the Accademia, so off to Providence I went.\\r\\n\\r\\nI\\'d applied for the BFA program at RISD, which meant in effect that I had to go to college again. This was not as strange as it sounds, because I was only 25, and art schools are full of people of different ages. RISD counted me as a transfer sophomore and said I had to do the foundation that summer. The foundation means the classes that everyone has to take in fundamental subjects like drawing, color, and design.\\r\\n\\r\\nToward the end of the summer I got a big surprise: a letter from the Accademia, which had been delayed because they\\'d sent it to Cambridge England instead of Cambridge Massachusetts, inviting me to take the entrance exam in Florence that fall. This was now only weeks away. My nice landlady let me leave my stuff in her attic. I had some money saved from consulting work I\\'d done in grad school; there was probably enough to last a year if I lived cheaply. Now all I had to do was learn Italian.\\r\\n\\r\\nOnly stranieri (foreigners) had to take this entrance exam. In retrospect it may well have been a way of excluding them, because there were so many stranieri attracted by the idea of studying art in Florence that the Italian students would otherwise have been outnumbered. I was in decent shape at painting and drawing from the RISD foundation that summer, but I still don\\'t know how I managed to pass the written exam. I remember that I answered the essay question by writing about Cezanne, and that I cranked up the intellectual level as high as I could to make the most of my limited vocabulary. [2]\\r\\n\\r\\nI\\'m only up to age 25 and already there are such conspicuous patterns. Here I was, yet again about to attend some august institution in the hopes of learning about some prestigious subject, and yet again about to be disappointed. The students and faculty in the painting department at the Accademia were the nicest people you could imagine, but they had long since arrived at an arrangement whereby the students wouldn\\'t require the faculty to teach anything, and in return the faculty wouldn\\'t require the students to learn anything. And at the same time all involved would adhere outwardly to the conventions of a 19th century atelier. We actually had one of those little stoves, fed with kindling, that you see in 19th century studio paintings, and a nude model sitting as close to it as possible without getting burned. Except hardly anyone else painted her besides me. The rest of the students spent their time chatting or occasionally trying to imitate things they\\'d seen in American art magazines.\\r\\n\\r\\nOur model turned out to live just down the street from me. She made a living from a combination of modelling and making fakes for a local antique dealer. She\\'d copy an obscure old painting out of a book, and then he\\'d take the copy and maltreat it to make it look old. [3]\\r\\n\\r\\nWhile I was a student at the Accademia I started painting still lives in my bedroom at night. These paintings were tiny, because the room was, and because I painted them on leftover scraps of canvas, which was all I could afford at the time. Painting still lives is different from painting people, because the subject, as its name suggests, can\\'t move. People can\\'t sit for more than about 15 minutes at a time, and when they do they don\\'t sit very still. So the traditional m.o. for painting people is to know how to paint a generic person, which you then modify to match the specific person you\\'re painting. Whereas a still life you can, if you want, copy pixel by pixel from what you\\'re seeing. You don\\'t want to stop there, of course, or you get merely photographic accuracy, and what makes a still life interesting is that it\\'s been through a head. You want to emphasize the visual cues that tell you, for example, that the reason the color changes suddenly at a certain point is that it\\'s the edge of an object. By subtly emphasizing such things you can make paintings that are more realistic than photographs not just in some metaphorical sense, but in the strict information-theoretic sense. [4]\\r\\n\\r\\nI liked painting still lives because I was curious about what I was seeing. In everyday life, we aren\\'t consciously aware of much we\\'re seeing. Most visual perception is handled by low-level processes that merely tell your brain \"that\\'s a water droplet\" without telling you details like where the lightest and darkest points are, or \"that\\'s a bush\" without telling you the shape and position of every leaf. This is a feature of brains, not a bug. In everyday life it would be distracting to notice every leaf on every bush. But when you have to paint something, you have to look more closely, and when you do there\\'s a lot to see. You can still be noticing new things after days of trying to paint something people usually take for granted, just as you can after days of trying to write an essay about something people usually take for granted.\\r\\n\\r\\nThis is not the only way to paint. I\\'m not 100% sure it\\'s even a good way to paint. But it seemed a good enough bet to be worth trying.\\r\\n\\r\\nOur teacher, professor Ulivi, was a nice guy. He could see I worked hard, and gave me a good grade, which he wrote down in a sort of passport each student had. But the Accademia wasn\\'t teaching me anything except Italian, and my money was running out, so at the end of the first year I went back to the US.\\r\\n\\r\\nI wanted to go back to RISD, but I was now broke and RISD was very expensive, so I decided to get a job for a year and then return to RISD the next fall. I got one at a company called Interleaf, which made software for creating documents. You mean like Microsoft Word? Exactly. That was how I learned that low end software tends to eat high end software. But Interleaf still had a few years to live yet. [5]\\r\\n\\r\\nInterleaf had done something pretty bold. Inspired by Emacs, they\\'d added a scripting language, and even made the scripting language a dialect of Lisp. Now they wanted a Lisp hacker to write things in it. This was the closest thing I\\'ve had to a normal job, and I hereby apologize to my boss and coworkers, because I was a bad employee. Their Lisp was the thinnest icing on a giant C cake, and since I didn\\'t know C and didn\\'t want to learn it, I never understood most of the software. Plus I was terribly irresponsible. This was back when a programming job meant showing up every day during certain working hours. That seemed unnatural to me, and on this point the rest of the world is coming around to my way of thinking, but at the time it caused a lot of friction. Toward the end of the year I spent much of my time surreptitiously working on On Lisp, which I had by this time gotten a contract to publish.\\r\\n\\r\\nThe good part was that I got paid huge amounts of money, especially by art student standards. In Florence, after paying my part of the rent, my budget for everything else had been $7 a day. Now I was getting paid more than 4 times that every hour, even when I was just sitting in a meeting. By living cheaply I not only managed to save enough to go back to RISD, but also paid off my college loans.\\r\\n\\r\\nI learned some useful things at Interleaf, though they were mostly about what not to do. I learned that it\\'s better for technology companies to be run by product people than sales people (though sales is a real skill and people who are good at it are really good at it), that it leads to bugs when code is edited by too many people, that cheap office space is no bargain if it\\'s depressing, that planned meetings are inferior to corridor conversations, that big, bureaucratic customers are a dangerous source of money, and that there\\'s not much overlap between conventional office hours and the optimal time for hacking, or conventional offices and the optimal place for it.\\r\\n\\r\\nBut the most important thing I learned, and which I used in both Viaweb and Y Combinator, is that the low end eats the high end: that it\\'s good to be the \"entry level\" option, even though that will be less prestigious, because if you\\'re not, someone else will be, and will squash you against the ceiling. Which in turn means that prestige is a danger sign.\\r\\n\\r\\nWhen I left to go back to RISD the next fall, I arranged to do freelance work for the group that did projects for customers, and this was how I survived for the next several years. When I came back to visit for a project later on, someone told me about a new thing called HTML, which was, as he described it, a derivative of SGML. Markup language enthusiasts were an occupational hazard at Interleaf and I ignored him, but this HTML thing later became a big part of my life.\\r\\n\\r\\nIn the fall of 1992 I moved back to Providence to continue at RISD. The foundation had merely been intro stuff, and the Accademia had been a (very civilized) joke. Now I was going to see what real art school was like. But alas it was more like the Accademia than not. Better organized, certainly, and a lot more expensive, but it was now becoming clear that art school did not bear the same relationship to art that medical school bore to medicine. At least not the painting department. The textile department, which my next door neighbor belonged to, seemed to be pretty rigorous. No doubt illustration and architecture were too. But painting was post-rigorous. Painting students were supposed to express themselves, which to the more worldly ones meant to try to cook up some sort of distinctive signature style.\\r\\n\\r\\nA signature style is the visual equivalent of what in show business is known as a \"schtick\": something that immediately identifies the work as yours and no one else\\'s. For example, when you see a painting that looks like a certain kind of cartoon, you know it\\'s by Roy Lichtenstein. So if you see a big painting of this type hanging in the apartment of a hedge fund manager, you know he paid millions of dollars for it. That\\'s not always why artists have a signature style, but it\\'s usually why buyers pay a lot for such work. [6]\\r\\n\\r\\nThere were plenty of earnest students too: kids who \"could draw\" in high school, and now had come to what was supposed to be the best art school in the country, to learn to draw even better. They tended to be confused and demoralized by what they found at RISD, but they kept going, because painting was what they did. I was not one of the kids who could draw in high school, but at RISD I was definitely closer to their tribe than the tribe of signature style seekers.\\r\\n\\r\\nI learned a lot in the color class I took at RISD, but otherwise I was basically teaching myself to paint, and I could do that for free. So in 1993 I dropped out. I hung around Providence for a bit, and then my college friend Nancy Parmet did me a big favor. A rent-controlled apartment in a building her mother owned in New York was becoming vacant. Did I want it? It wasn\\'t much more than my current place, and New York was supposed to be where the artists were. So yes, I wanted it! [7]\\r\\n\\r\\nAsterix comics begin by zooming in on a tiny corner of Roman Gaul that turns out not to be controlled by the Romans. You can do something similar on a map of New York City: if you zoom in on the Upper East Side, there\\'s a tiny corner that\\'s not rich, or at least wasn\\'t in 1993. It\\'s called Yorkville, and that was my new home. Now I was a New York artist — in the strictly technical sense of making paintings and living in New York.\\r\\n\\r\\nI was nervous about money, because I could sense that Interleaf was on the way down. Freelance Lisp hacking work was very rare, and I didn\\'t want to have to program in another language, which in those days would have meant C++ if I was lucky. So with my unerring nose for financial opportunity, I decided to write another book on Lisp. This would be a popular book, the sort of book that could be used as a textbook. I imagined myself living frugally off the royalties and spending all my time painting. (The painting on the cover of this book, ANSI Common Lisp, is one that I painted around this time.)\\r\\n\\r\\nThe best thing about New York for me was the presence of Idelle and Julian Weber. Idelle Weber was a painter, one of the early photorealists, and I\\'d taken her painting class at Harvard. I\\'ve never known a teacher more beloved by her students. Large numbers of former students kept in touch with her, including me. After I moved to New York I became her de facto studio assistant.\\r\\n\\r\\nShe liked to paint on big, square canvases, 4 to 5 feet on a side. One day in late 1994 as I was stretching one of these monsters there was something on the radio about a famous fund manager. He wasn\\'t that much older than me, and was super rich. The thought suddenly occurred to me: why don\\'t I become rich? Then I\\'ll be able to work on whatever I want.\\r\\n\\r\\nMeanwhile I\\'d been hearing more and more about this new thing called the World Wide Web. Robert Morris showed it to me when I visited him in Cambridge, where he was now in grad school at Harvard. It seemed to me that the web would be a big deal. I\\'d seen what graphical user interfaces had done for the popularity of microcomputers. It seemed like the web would do the same for the internet.\\r\\n\\r\\nIf I wanted to get rich, here was the next train leaving the station. I was right about that part. What I got wrong was the idea. I decided we should start a company to put art galleries online. I can\\'t honestly say, after reading so many Y Combinator applications, that this was the worst startup idea ever, but it was up there. Art galleries didn\\'t want to be online, and still don\\'t, not the fancy ones. That\\'s not how they sell. I wrote some software to generate web sites for galleries, and Robert wrote some to resize images and set up an http server to serve the pages. Then we tried to sign up galleries. To call this a difficult sale would be an understatement. It was difficult to give away. A few galleries let us make sites for them for free, but none paid us.\\r\\n\\r\\nThen some online stores started to appear, and I realized that except for the order buttons they were identical to the sites we\\'d been generating for galleries. This impressive-sounding thing called an \"internet storefront\" was something we already knew how to build.\\r\\n\\r\\nSo in the summer of 1995, after I submitted the camera-ready copy of ANSI Common Lisp to the publishers, we started trying to write software to build online stores. At first this was going to be normal desktop software, which in those days meant Windows software. That was an alarming prospect, because neither of us knew how to write Windows software or wanted to learn. We lived in the Unix world. But we decided we\\'d at least try writing a prototype store builder on Unix. Robert wrote a shopping cart, and I wrote a new site generator for stores — in Lisp, of course.\\r\\n\\r\\nWe were working out of Robert\\'s apartment in Cambridge. His roommate was away for big chunks of time, during which I got to sleep in his room. For some reason there was no bed frame or sheets, just a mattress on the floor. One morning as I was lying on this mattress I had an idea that made me sit up like a capital L. What if we ran the software on the server, and let users control it by clicking on links? Then we\\'d never have to write anything to run on users\\' computers. We could generate the sites on the same server we\\'d serve them from. Users wouldn\\'t need anything more than a browser.\\r\\n\\r\\nThis kind of software, known as a web app, is common now, but at the time it wasn\\'t clear that it was even possible. To find out, we decided to try making a version of our store builder that you could control through the browser. A couple days later, on August 12, we had one that worked. The UI was horrible, but it proved you could build a whole store through the browser, without any client software or typing anything into the command line on the server.\\r\\n\\r\\nNow we felt like we were really onto something. I had visions of a whole new generation of software working this way. You wouldn\\'t need versions, or ports, or any of that crap. At Interleaf there had been a whole group called Release Engineering that seemed to be at least as big as the group that actually wrote the software. Now you could just update the software right on the server.\\r\\n\\r\\nWe started a new company we called Viaweb, after the fact that our software worked via the web, and we got $10,000 in seed funding from Idelle\\'s husband Julian. In return for that and doing the initial legal work and giving us business advice, we gave him 10% of the company. Ten years later this deal became the model for Y Combinator\\'s. We knew founders needed something like this, because we\\'d needed it ourselves.\\r\\n\\r\\nAt this stage I had a negative net worth, because the thousand dollars or so I had in the bank was more than counterbalanced by what I owed the government in taxes. (Had I diligently set aside the proper proportion of the money I\\'d made consulting for Interleaf? No, I had not.) So although Robert had his graduate student stipend, I needed that seed funding to live on.\\r\\n\\r\\nWe originally hoped to launch in September, but we got more ambitious about the software as we worked on it. Eventually we managed to build a WYSIWYG site builder, in the sense that as you were creating pages, they looked exactly like the static ones that would be generated later, except that instead of leading to static pages, the links all referred to closures stored in a hash table on the server.\\r\\n\\r\\nIt helped to have studied art, because the main goal of an online store builder is to make users look legit, and the key to looking legit is high production values. If you get page layouts and fonts and colors right, you can make a guy running a store out of his bedroom look more legit than a big company.\\r\\n\\r\\n(If you\\'re curious why my site looks so old-fashioned, it\\'s because it\\'s still made with this software. It may look clunky today, but in 1996 it was the last word in slick.)\\r\\n\\r\\nIn September, Robert rebelled. \"We\\'ve been working on this for a month,\" he said, \"and it\\'s still not done.\" This is funny in retrospect, because he would still be working on it almost 3 years later. But I decided it might be prudent to recruit more programmers, and I asked Robert who else in grad school with him was really good. He recommended Trevor Blackwell, which surprised me at first, because at that point I knew Trevor mainly for his plan to reduce everything in his life to a stack of notecards, which he carried around with him. But Rtm was right, as usual. Trevor turned out to be a frighteningly effective hacker.\\r\\n\\r\\nIt was a lot of fun working with Robert and Trevor. They\\'re the two most independent-minded people I know, and in completely different ways. If you could see inside Rtm\\'s brain it would look like a colonial New England church, and if you could see inside Trevor\\'s it would look like the worst excesses of Austrian Rococo.\\r\\n\\r\\nWe opened for business, with 6 stores, in January 1996. It was just as well we waited a few months, because although we worried we were late, we were actually almost fatally early. There was a lot of talk in the press then about ecommerce, but not many people actually wanted online stores. [8]\\r\\n\\r\\nThere were three main parts to the software: the editor, which people used to build sites and which I wrote, the shopping cart, which Robert wrote, and the manager, which kept track of orders and statistics, and which Trevor wrote. In its time, the editor was one of the best general-purpose site builders. I kept the code tight and didn\\'t have to integrate with any other software except Robert\\'s and Trevor\\'s, so it was quite fun to work on. If all I\\'d had to do was work on this software, the next 3 years would have been the easiest of my life. Unfortunately I had to do a lot more, all of it stuff I was worse at than programming, and the next 3 years were instead the most stressful.\\r\\n\\r\\nThere were a lot of startups making ecommerce software in the second half of the 90s. We were determined to be the Microsoft Word, not the Interleaf. Which meant being easy to use and inexpensive. It was lucky for us that we were poor, because that caused us to make Viaweb even more inexpensive than we realized. We charged $100 a month for a small store and $300 a month for a big one. This low price was a big attraction, and a constant thorn in the sides of competitors, but it wasn\\'t because of some clever insight that we set the price low. We had no idea what businesses paid for things. $300 a month seemed like a lot of money to us.\\r\\n\\r\\nWe did a lot of things right by accident like that. For example, we did what\\'s now called \"doing things that don\\'t scale,\" although at the time we would have described it as \"being so lame that we\\'re driven to the most desperate measures to get users.\" The most common of which was building stores for them. This seemed particularly humiliating, since the whole raison d\\'etre of our software was that people could use it to make their own stores. But anything to get users.\\r\\n\\r\\nWe learned a lot more about retail than we wanted to know. For example, that if you could only have a small image of a man\\'s shirt (and all images were small then by present standards), it was better to have a closeup of the collar than a picture of the whole shirt. The reason I remember learning this was that it meant I had to rescan about 30 images of men\\'s shirts. My first set of scans were so beautiful too.\\r\\n\\r\\nThough this felt wrong, it was exactly the right thing to be doing. Building stores for users taught us about retail, and about how it felt to use our software. I was initially both mystified and repelled by \"business\" and thought we needed a \"business person\" to be in charge of it, but once we started to get users, I was converted, in much the same way I was converted to fatherhood once I had kids. Whatever users wanted, I was all theirs. Maybe one day we\\'d have so many users that I couldn\\'t scan their images for them, but in the meantime there was nothing more important to do.\\r\\n\\r\\nAnother thing I didn\\'t get at the time is that growth rate is the ultimate test of a startup. Our growth rate was fine. We had about 70 stores at the end of 1996 and about 500 at the end of 1997. I mistakenly thought the thing that mattered was the absolute number of users. And that is the thing that matters in the sense that that\\'s how much money you\\'re making, and if you\\'re not making enough, you might go out of business. But in the long term the growth rate takes care of the absolute number. If we\\'d been a startup I was advising at Y Combinator, I would have said: Stop being so stressed out, because you\\'re doing fine. You\\'re growing 7x a year. Just don\\'t hire too many more people and you\\'ll soon be profitable, and then you\\'ll control your own destiny.\\r\\n\\r\\nAlas I hired lots more people, partly because our investors wanted me to, and partly because that\\'s what startups did during the Internet Bubble. A company with just a handful of employees would have seemed amateurish. So we didn\\'t reach breakeven until about when Yahoo bought us in the summer of 1998. Which in turn meant we were at the mercy of investors for the entire life of the company. And since both we and our investors were noobs at startups, the result was a mess even by startup standards.\\r\\n\\r\\nIt was a huge relief when Yahoo bought us. In principle our Viaweb stock was valuable. It was a share in a business that was profitable and growing rapidly. But it didn\\'t feel very valuable to me; I had no idea how to value a business, but I was all too keenly aware of the near-death experiences we seemed to have every few months. Nor had I changed my grad student lifestyle significantly since we started. So when Yahoo bought us it felt like going from rags to riches. Since we were going to California, I bought a car, a yellow 1998 VW GTI. I remember thinking that its leather seats alone were by far the most luxurious thing I owned.\\r\\n\\r\\nThe next year, from the summer of 1998 to the summer of 1999, must have been the least productive of my life. I didn\\'t realize it at the time, but I was worn out from the effort and stress of running Viaweb. For a while after I got to California I tried to continue my usual m.o. of programming till 3 in the morning, but fatigue combined with Yahoo\\'s prematurely aged culture and grim cube farm in Santa Clara gradually dragged me down. After a few months it felt disconcertingly like working at Interleaf.\\r\\n\\r\\nYahoo had given us a lot of options when they bought us. At the time I thought Yahoo was so overvalued that they\\'d never be worth anything, but to my astonishment the stock went up 5x in the next year. I hung on till the first chunk of options vested, then in the summer of 1999 I left. It had been so long since I\\'d painted anything that I\\'d half forgotten why I was doing this. My brain had been entirely full of software and men\\'s shirts for 4 years. But I had done this to get rich so I could paint, I reminded myself, and now I was rich, so I should go paint.\\r\\n\\r\\nWhen I said I was leaving, my boss at Yahoo had a long conversation with me about my plans. I told him all about the kinds of pictures I wanted to paint. At the time I was touched that he took such an interest in me. Now I realize it was because he thought I was lying. My options at that point were worth about $2 million a month. If I was leaving that kind of money on the table, it could only be to go and start some new startup, and if I did, I might take people with me. This was the height of the Internet Bubble, and Yahoo was ground zero of it. My boss was at that moment a billionaire. Leaving then to start a new startup must have seemed to him an insanely, and yet also plausibly, ambitious plan.\\r\\n\\r\\nBut I really was quitting to paint, and I started immediately. There was no time to lose. I\\'d already burned 4 years getting rich. Now when I talk to founders who are leaving after selling their companies, my advice is always the same: take a vacation. That\\'s what I should have done, just gone off somewhere and done nothing for a month or two, but the idea never occurred to me.\\r\\n\\r\\nSo I tried to paint, but I just didn\\'t seem to have any energy or ambition. Part of the problem was that I didn\\'t know many people in California. I\\'d compounded this problem by buying a house up in the Santa Cruz Mountains, with a beautiful view but miles from anywhere. I stuck it out for a few more months, then in desperation I went back to New York, where unless you understand about rent control you\\'ll be surprised to hear I still had my apartment, sealed up like a tomb of my old life. Idelle was in New York at least, and there were other people trying to paint there, even though I didn\\'t know any of them.\\r\\n\\r\\nWhen I got back to New York I resumed my old life, except now I was rich. It was as weird as it sounds. I resumed all my old patterns, except now there were doors where there hadn\\'t been. Now when I was tired of walking, all I had to do was raise my hand, and (unless it was raining) a taxi would stop to pick me up. Now when I walked past charming little restaurants I could go in and order lunch. It was exciting for a while. Painting started to go better. I experimented with a new kind of still life where I\\'d paint one painting in the old way, then photograph it and print it, blown up, on canvas, and then use that as the underpainting for a second still life, painted from the same objects (which hopefully hadn\\'t rotted yet).\\r\\n\\r\\nMeanwhile I looked for an apartment to buy. Now I could actually choose what neighborhood to live in. Where, I asked myself and various real estate agents, is the Cambridge of New York? Aided by occasional visits to actual Cambridge, I gradually realized there wasn\\'t one. Huh.\\r\\n\\r\\nAround this time, in the spring of 2000, I had an idea. It was clear from our experience with Viaweb that web apps were the future. Why not build a web app for making web apps? Why not let people edit code on our server through the browser, and then host the resulting applications for them? [9] You could run all sorts of services on the servers that these applications could use just by making an API call: making and receiving phone calls, manipulating images, taking credit card payments, etc.\\r\\n\\r\\nI got so excited about this idea that I couldn\\'t think about anything else. It seemed obvious that this was the future. I didn\\'t particularly want to start another company, but it was clear that this idea would have to be embodied as one, so I decided to move to Cambridge and start it. I hoped to lure Robert into working on it with me, but there I ran into a hitch. Robert was now a postdoc at MIT, and though he\\'d made a lot of money the last time I\\'d lured him into working on one of my schemes, it had also been a huge time sink. So while he agreed that it sounded like a plausible idea, he firmly refused to work on it.\\r\\n\\r\\nHmph. Well, I\\'d do it myself then. I recruited Dan Giffin, who had worked for Viaweb, and two undergrads who wanted summer jobs, and we got to work trying to build what it\\'s now clear is about twenty companies and several open source projects worth of software. The language for defining applications would of course be a dialect of Lisp. But I wasn\\'t so naive as to assume I could spring an overt Lisp on a general audience; we\\'d hide the parentheses, like Dylan did.\\r\\n\\r\\nBy then there was a name for the kind of company Viaweb was, an \"application service provider,\" or ASP. This name didn\\'t last long before it was replaced by \"software as a service,\" but it was current for long enough that I named this new company after it: it was going to be called Aspra.\\r\\n\\r\\nI started working on the application builder, Dan worked on network infrastructure, and the two undergrads worked on the first two services (images and phone calls). But about halfway through the summer I realized I really didn\\'t want to run a company — especially not a big one, which it was looking like this would have to be. I\\'d only started Viaweb because I needed the money. Now that I didn\\'t need money anymore, why was I doing this? If this vision had to be realized as a company, then screw the vision. I\\'d build a subset that could be done as an open source project.\\r\\n\\r\\nMuch to my surprise, the time I spent working on this stuff was not wasted after all. After we started Y Combinator, I would often encounter startups working on parts of this new architecture, and it was very useful to have spent so much time thinking about it and even trying to write some of it.\\r\\n\\r\\nThe subset I would build as an open source project was the new Lisp, whose parentheses I now wouldn\\'t even have to hide. A lot of Lisp hackers dream of building a new Lisp, partly because one of the distinctive features of the language is that it has dialects, and partly, I think, because we have in our minds a Platonic form of Lisp that all existing dialects fall short of. I certainly did. So at the end of the summer Dan and I switched to working on this new dialect of Lisp, which I called Arc, in a house I bought in Cambridge.\\r\\n\\r\\nThe following spring, lightning struck. I was invited to give a talk at a Lisp conference, so I gave one about how we\\'d used Lisp at Viaweb. Afterward I put a postscript file of this talk online, on paulgraham.com, which I\\'d created years before using Viaweb but had never used for anything. In one day it got 30,000 page views. What on earth had happened? The referring urls showed that someone had posted it on Slashdot. [10]\\r\\n\\r\\nWow, I thought, there\\'s an audience. If I write something and put it on the web, anyone can read it. That may seem obvious now, but it was surprising then. In the print era there was a narrow channel to readers, guarded by fierce monsters known as editors. The only way to get an audience for anything you wrote was to get it published as a book, or in a newspaper or magazine. Now anyone could publish anything.\\r\\n\\r\\nThis had been possible in principle since 1993, but not many people had realized it yet. I had been intimately involved with building the infrastructure of the web for most of that time, and a writer as well, and it had taken me 8 years to realize it. Even then it took me several years to understand the implications. It meant there would be a whole new generation of essays. [11]\\r\\n\\r\\nIn the print era, the channel for publishing essays had been vanishingly small. Except for a few officially anointed thinkers who went to the right parties in New York, the only people allowed to publish essays were specialists writing about their specialties. There were so many essays that had never been written, because there had been no way to publish them. Now they could be, and I was going to write them. [12]\\r\\n\\r\\nI\\'ve worked on several different things, but to the extent there was a turning point where I figured out what to work on, it was when I started publishing essays online. From then on I knew that whatever else I did, I\\'d always write essays too.\\r\\n\\r\\nI knew that online essays would be a marginal medium at first. Socially they\\'d seem more like rants posted by nutjobs on their GeoCities sites than the genteel and beautifully typeset compositions published in The New Yorker. But by this point I knew enough to find that encouraging instead of discouraging.\\r\\n\\r\\nOne of the most conspicuous patterns I\\'ve noticed in my life is how well it has worked, for me at least, to work on things that weren\\'t prestigious. Still life has always been the least prestigious form of painting. Viaweb and Y Combinator both seemed lame when we started them. I still get the glassy eye from strangers when they ask what I\\'m writing, and I explain that it\\'s an essay I\\'m going to publish on my web site. Even Lisp, though prestigious intellectually in something like the way Latin is, also seems about as hip.\\r\\n\\r\\nIt\\'s not that unprestigious types of work are good per se. But when you find yourself drawn to some kind of work despite its current lack of prestige, it\\'s a sign both that there\\'s something real to be discovered there, and that you have the right kind of motives. Impure motives are a big danger for the ambitious. If anything is going to lead you astray, it will be the desire to impress people. So while working on things that aren\\'t prestigious doesn\\'t guarantee you\\'re on the right track, it at least guarantees you\\'re not on the most common type of wrong one.\\r\\n\\r\\nOver the next several years I wrote lots of essays about all kinds of different topics. O\\'Reilly reprinted a collection of them as a book, called Hackers & Painters after one of the essays in it. I also worked on spam filters, and did some more painting. I used to have dinners for a group of friends every thursday night, which taught me how to cook for groups. And I bought another building in Cambridge, a former candy factory (and later, twas said, porn studio), to use as an office.\\r\\n\\r\\nOne night in October 2003 there was a big party at my house. It was a clever idea of my friend Maria Daniels, who was one of the thursday diners. Three separate hosts would all invite their friends to one party. So for every guest, two thirds of the other guests would be people they didn\\'t know but would probably like. One of the guests was someone I didn\\'t know but would turn out to like a lot: a woman called Jessica Livingston. A couple days later I asked her out.\\r\\n\\r\\nJessica was in charge of marketing at a Boston investment bank. This bank thought it understood startups, but over the next year, as she met friends of mine from the startup world, she was surprised how different reality was. And how colorful their stories were. So she decided to compile a book of interviews with startup founders.\\r\\n\\r\\nWhen the bank had financial problems and she had to fire half her staff, she started looking for a new job. In early 2005 she interviewed for a marketing job at a Boston VC firm. It took them weeks to make up their minds, and during this time I started telling her about all the things that needed to be fixed about venture capital. They should make a larger number of smaller investments instead of a handful of giant ones, they should be funding younger, more technical founders instead of MBAs, they should let the founders remain as CEO, and so on.\\r\\n\\r\\nOne of my tricks for writing essays had always been to give talks. The prospect of having to stand up in front of a group of people and tell them something that won\\'t waste their time is a great spur to the imagination. When the Harvard Computer Society, the undergrad computer club, asked me to give a talk, I decided I would tell them how to start a startup. Maybe they\\'d be able to avoid the worst of the mistakes we\\'d made.\\r\\n\\r\\nSo I gave this talk, in the course of which I told them that the best sources of seed funding were successful startup founders, because then they\\'d be sources of advice too. Whereupon it seemed they were all looking expectantly at me. Horrified at the prospect of having my inbox flooded by business plans (if I\\'d only known), I blurted out \"But not me!\" and went on with the talk. But afterward it occurred to me that I should really stop procrastinating about angel investing. I\\'d been meaning to since Yahoo bought us, and now it was 7 years later and I still hadn\\'t done one angel investment.\\r\\n\\r\\nMeanwhile I had been scheming with Robert and Trevor about projects we could work on together. I missed working with them, and it seemed like there had to be something we could collaborate on.\\r\\n\\r\\nAs Jessica and I were walking home from dinner on March 11, at the corner of Garden and Walker streets, these three threads converged. Screw the VCs who were taking so long to make up their minds. We\\'d start our own investment firm and actually implement the ideas we\\'d been talking about. I\\'d fund it, and Jessica could quit her job and work for it, and we\\'d get Robert and Trevor as partners too. [13]\\r\\n\\r\\nOnce again, ignorance worked in our favor. We had no idea how to be angel investors, and in Boston in 2005 there were no Ron Conways to learn from. So we just made what seemed like the obvious choices, and some of the things we did turned out to be novel.\\r\\n\\r\\nThere are multiple components to Y Combinator, and we didn\\'t figure them all out at once. The part we got first was to be an angel firm. In those days, those two words didn\\'t go together. There were VC firms, which were organized companies with people whose job it was to make investments, but they only did big, million dollar investments. And there were angels, who did smaller investments, but these were individuals who were usually focused on other things and made investments on the side. And neither of them helped founders enough in the beginning. We knew how helpless founders were in some respects, because we remembered how helpless we\\'d been. For example, one thing Julian had done for us that seemed to us like magic was to get us set up as a company. We were fine writing fairly difficult software, but actually getting incorporated, with bylaws and stock and all that stuff, how on earth did you do that? Our plan was not only to make seed investments, but to do for startups everything Julian had done for us.\\r\\n\\r\\nYC was not organized as a fund. It was cheap enough to run that we funded it with our own money. That went right by 99% of readers, but professional investors are thinking \"Wow, that means they got all the returns.\" But once again, this was not due to any particular insight on our part. We didn\\'t know how VC firms were organized. It never occurred to us to try to raise a fund, and if it had, we wouldn\\'t have known where to start. [14]\\r\\n\\r\\nThe most distinctive thing about YC is the batch model: to fund a bunch of startups all at once, twice a year, and then to spend three months focusing intensively on trying to help them. That part we discovered by accident, not merely implicitly but explicitly due to our ignorance about investing. We needed to get experience as investors. What better way, we thought, than to fund a whole bunch of startups at once? We knew undergrads got temporary jobs at tech companies during the summer. Why not organize a summer program where they\\'d start startups instead? We wouldn\\'t feel guilty for being in a sense fake investors, because they would in a similar sense be fake founders. So while we probably wouldn\\'t make much money out of it, we\\'d at least get to practice being investors on them, and they for their part would probably have a more interesting summer than they would working at Microsoft.\\r\\n\\r\\nWe\\'d use the building I owned in Cambridge as our headquarters. We\\'d all have dinner there once a week — on tuesdays, since I was already cooking for the thursday diners on thursdays — and after dinner we\\'d bring in experts on startups to give talks.\\r\\n\\r\\nWe knew undergrads were deciding then about summer jobs, so in a matter of days we cooked up something we called the Summer Founders Program, and I posted an announcement on my site, inviting undergrads to apply. I had never imagined that writing essays would be a way to get \"deal flow,\" as investors call it, but it turned out to be the perfect source. [15] We got 225 applications for the Summer Founders Program, and we were surprised to find that a lot of them were from people who\\'d already graduated, or were about to that spring. Already this SFP thing was starting to feel more serious than we\\'d intended.\\r\\n\\r\\nWe invited about 20 of the 225 groups to interview in person, and from those we picked 8 to fund. They were an impressive group. That first batch included reddit, Justin Kan and Emmett Shear, who went on to found Twitch, Aaron Swartz, who had already helped write the RSS spec and would a few years later become a martyr for open access, and Sam Altman, who would later become the second president of YC. I don\\'t think it was entirely luck that the first batch was so good. You had to be pretty bold to sign up for a weird thing like the Summer Founders Program instead of a summer job at a legit place like Microsoft or Goldman Sachs.\\r\\n\\r\\nThe deal for startups was based on a combination of the deal we did with Julian ($10k for 10%) and what Robert said MIT grad students got for the summer ($6k). We invested $6k per founder, which in the typical two-founder case was $12k, in return for 6%. That had to be fair, because it was twice as good as the deal we ourselves had taken. Plus that first summer, which was really hot, Jessica brought the founders free air conditioners. [16]\\r\\n\\r\\nFairly quickly I realized that we had stumbled upon the way to scale startup funding. Funding startups in batches was more convenient for us, because it meant we could do things for a lot of startups at once, but being part of a batch was better for the startups too. It solved one of the biggest problems faced by founders: the isolation. Now you not only had colleagues, but colleagues who understood the problems you were facing and could tell you how they were solving them.\\r\\n\\r\\nAs YC grew, we started to notice other advantages of scale. The alumni became a tight community, dedicated to helping one another, and especially the current batch, whose shoes they remembered being in. We also noticed that the startups were becoming one another\\'s customers. We used to refer jokingly to the \"YC GDP,\" but as YC grows this becomes less and less of a joke. Now lots of startups get their initial set of customers almost entirely from among their batchmates.\\r\\n\\r\\nI had not originally intended YC to be a full-time job. I was going to do three things: hack, write essays, and work on YC. As YC grew, and I grew more excited about it, it started to take up a lot more than a third of my attention. But for the first few years I was still able to work on other things.\\r\\n\\r\\nIn the summer of 2006, Robert and I started working on a new version of Arc. This one was reasonably fast, because it was compiled into Scheme. To test this new Arc, I wrote Hacker News in it. It was originally meant to be a news aggregator for startup founders and was called Startup News, but after a few months I got tired of reading about nothing but startups. Plus it wasn\\'t startup founders we wanted to reach. It was future startup founders. So I changed the name to Hacker News and the topic to whatever engaged one\\'s intellectual curiosity.\\r\\n\\r\\nHN was no doubt good for YC, but it was also by far the biggest source of stress for me. If all I\\'d had to do was select and help founders, life would have been so easy. And that implies that HN was a mistake. Surely the biggest source of stress in one\\'s work should at least be something close to the core of the work. Whereas I was like someone who was in pain while running a marathon not from the exertion of running, but because I had a blister from an ill-fitting shoe. When I was dealing with some urgent problem during YC, there was about a 60% chance it had to do with HN, and a 40% chance it had do with everything else combined. [17]\\r\\n\\r\\nAs well as HN, I wrote all of YC\\'s internal software in Arc. But while I continued to work a good deal in Arc, I gradually stopped working on Arc, partly because I didn\\'t have time to, and partly because it was a lot less attractive to mess around with the language now that we had all this infrastructure depending on it. So now my three projects were reduced to two: writing essays and working on YC.\\r\\n\\r\\nYC was different from other kinds of work I\\'ve done. Instead of deciding for myself what to work on, the problems came to me. Every 6 months there was a new batch of startups, and their problems, whatever they were, became our problems. It was very engaging work, because their problems were quite varied, and the good founders were very effective. If you were trying to learn the most you could about startups in the shortest possible time, you couldn\\'t have picked a better way to do it.\\r\\n\\r\\nThere were parts of the job I didn\\'t like. Disputes between cofounders, figuring out when people were lying to us, fighting with people who maltreated the startups, and so on. But I worked hard even at the parts I didn\\'t like. I was haunted by something Kevin Hale once said about companies: \"No one works harder than the boss.\" He meant it both descriptively and prescriptively, and it was the second part that scared me. I wanted YC to be good, so if how hard I worked set the upper bound on how hard everyone else worked, I\\'d better work very hard.\\r\\n\\r\\nOne day in 2010, when he was visiting California for interviews, Robert Morris did something astonishing: he offered me unsolicited advice. I can only remember him doing that once before. One day at Viaweb, when I was bent over double from a kidney stone, he suggested that it would be a good idea for him to take me to the hospital. That was what it took for Rtm to offer unsolicited advice. So I remember his exact words very clearly. \"You know,\" he said, \"you should make sure Y Combinator isn\\'t the last cool thing you do.\"\\r\\n\\r\\nAt the time I didn\\'t understand what he meant, but gradually it dawned on me that he was saying I should quit. This seemed strange advice, because YC was doing great. But if there was one thing rarer than Rtm offering advice, it was Rtm being wrong. So this set me thinking. It was true that on my current trajectory, YC would be the last thing I did, because it was only taking up more of my attention. It had already eaten Arc, and was in the process of eating essays too. Either YC was my life\\'s work or I\\'d have to leave eventually. And it wasn\\'t, so I would.\\r\\n\\r\\nIn the summer of 2012 my mother had a stroke, and the cause turned out to be a blood clot caused by colon cancer. The stroke destroyed her balance, and she was put in a nursing home, but she really wanted to get out of it and back to her house, and my sister and I were determined to help her do it. I used to fly up to Oregon to visit her regularly, and I had a lot of time to think on those flights. On one of them I realized I was ready to hand YC over to someone else.\\r\\n\\r\\nI asked Jessica if she wanted to be president, but she didn\\'t, so we decided we\\'d try to recruit Sam Altman. We talked to Robert and Trevor and we agreed to make it a complete changing of the guard. Up till that point YC had been controlled by the original LLC we four had started. But we wanted YC to last for a long time, and to do that it couldn\\'t be controlled by the founders. So if Sam said yes, we\\'d let him reorganize YC. Robert and I would retire, and Jessica and Trevor would become ordinary partners.\\r\\n\\r\\nWhen we asked Sam if he wanted to be president of YC, initially he said no. He wanted to start a startup to make nuclear reactors. But I kept at it, and in October 2013 he finally agreed. We decided he\\'d take over starting with the winter 2014 batch. For the rest of 2013 I left running YC more and more to Sam, partly so he could learn the job, and partly because I was focused on my mother, whose cancer had returned.\\r\\n\\r\\nShe died on January 15, 2014. We knew this was coming, but it was still hard when it did.\\r\\n\\r\\nI kept working on YC till March, to help get that batch of startups through Demo Day, then I checked out pretty completely. (I still talk to alumni and to new startups working on things I\\'m interested in, but that only takes a few hours a week.)\\r\\n\\r\\nWhat should I do next? Rtm\\'s advice hadn\\'t included anything about that. I wanted to do something completely different, so I decided I\\'d paint. I wanted to see how good I could get if I really focused on it. So the day after I stopped working on YC, I started painting. I was rusty and it took a while to get back into shape, but it was at least completely engaging. [18]\\r\\n\\r\\nI spent most of the rest of 2014 painting. I\\'d never been able to work so uninterruptedly before, and I got to be better than I had been. Not good enough, but better. Then in November, right in the middle of a painting, I ran out of steam. Up till that point I\\'d always been curious to see how the painting I was working on would turn out, but suddenly finishing this one seemed like a chore. So I stopped working on it and cleaned my brushes and haven\\'t painted since. So far anyway.\\r\\n\\r\\nI realize that sounds rather wimpy. But attention is a zero sum game. If you can choose what to work on, and you choose a project that\\'s not the best one (or at least a good one) for you, then it\\'s getting in the way of another project that is. And at 50 there was some opportunity cost to screwing around.\\r\\n\\r\\nI started writing essays again, and wrote a bunch of new ones over the next few months. I even wrote a couple that weren\\'t about startups. Then in March 2015 I started working on Lisp again.\\r\\n\\r\\nThe distinctive thing about Lisp is that its core is a language defined by writing an interpreter in itself. It wasn\\'t originally intended as a programming language in the ordinary sense. It was meant to be a formal model of computation, an alternative to the Turing machine. If you want to write an interpreter for a language in itself, what\\'s the minimum set of predefined operators you need? The Lisp that John McCarthy invented, or more accurately discovered, is an answer to that question. [19]\\r\\n\\r\\nMcCarthy didn\\'t realize this Lisp could even be used to program computers till his grad student Steve Russell suggested it. Russell translated McCarthy\\'s interpreter into IBM 704 machine language, and from that point Lisp started also to be a programming language in the ordinary sense. But its origins as a model of computation gave it a power and elegance that other languages couldn\\'t match. It was this that attracted me in college, though I didn\\'t understand why at the time.\\r\\n\\r\\nMcCarthy\\'s 1960 Lisp did nothing more than interpret Lisp expressions. It was missing a lot of things you\\'d want in a programming language. So these had to be added, and when they were, they weren\\'t defined using McCarthy\\'s original axiomatic approach. That wouldn\\'t have been feasible at the time. McCarthy tested his interpreter by hand-simulating the execution of programs. But it was already getting close to the limit of interpreters you could test that way — indeed, there was a bug in it that McCarthy had overlooked. To test a more complicated interpreter, you\\'d have had to run it, and computers then weren\\'t powerful enough.\\r\\n\\r\\nNow they are, though. Now you could continue using McCarthy\\'s axiomatic approach till you\\'d defined a complete programming language. And as long as every change you made to McCarthy\\'s Lisp was a discoveredness-preserving transformation, you could, in principle, end up with a complete language that had this quality. Harder to do than to talk about, of course, but if it was possible in principle, why not try? So I decided to take a shot at it. It took 4 years, from March 26, 2015 to October 12, 2019. It was fortunate that I had a precisely defined goal, or it would have been hard to keep at it for so long.\\r\\n\\r\\nI wrote this new Lisp, called Bel, in itself in Arc. That may sound like a contradiction, but it\\'s an indication of the sort of trickery I had to engage in to make this work. By means of an egregious collection of hacks I managed to make something close enough to an interpreter written in itself that could actually run. Not fast, but fast enough to test.\\r\\n\\r\\nI had to ban myself from writing essays during most of this time, or I\\'d never have finished. In late 2015 I spent 3 months writing essays, and when I went back to working on Bel I could barely understand the code. Not so much because it was badly written as because the problem is so convoluted. When you\\'re working on an interpreter written in itself, it\\'s hard to keep track of what\\'s happening at what level, and errors can be practically encrypted by the time you get them.\\r\\n\\r\\nSo I said no more essays till Bel was done. But I told few people about Bel while I was working on it. So for years it must have seemed that I was doing nothing, when in fact I was working harder than I\\'d ever worked on anything. Occasionally after wrestling for hours with some gruesome bug I\\'d check Twitter or HN and see someone asking \"Does Paul Graham still code?\"\\r\\n\\r\\nWorking on Bel was hard but satisfying. I worked on it so intensively that at any given time I had a decent chunk of the code in my head and could write more there. I remember taking the boys to the coast on a sunny day in 2015 and figuring out how to deal with some problem involving continuations while I watched them play in the tide pools. It felt like I was doing life right. I remember that because I was slightly dismayed at how novel it felt. The good news is that I had more moments like this over the next few years.\\r\\n\\r\\nIn the summer of 2016 we moved to England. We wanted our kids to see what it was like living in another country, and since I was a British citizen by birth, that seemed the obvious choice. We only meant to stay for a year, but we liked it so much that we still live there. So most of Bel was written in England.\\r\\n\\r\\nIn the fall of 2019, Bel was finally finished. Like McCarthy\\'s original Lisp, it\\'s a spec rather than an implementation, although like McCarthy\\'s Lisp it\\'s a spec expressed as code.\\r\\n\\r\\nNow that I could write essays again, I wrote a bunch about topics I\\'d had stacked up. I kept writing essays through 2020, but I also started to think about other things I could work on. How should I choose what to do? Well, how had I chosen what to work on in the past? I wrote an essay for myself to answer that question, and I was surprised how long and messy the answer turned out to be. If this surprised me, who\\'d lived it, then I thought perhaps it would be interesting to other people, and encouraging to those with similarly messy lives. So I wrote a more detailed version for others to read, and this is the last sentence of it.\\r\\n\\r\\n\\r\\n\\r\\n\\r\\n\\r\\n\\r\\n\\r\\n\\r\\n\\r\\nNotes\\r\\n\\r\\n[1] My experience skipped a step in the evolution of computers: time-sharing machines with interactive OSes. I went straight from batch processing to microcomputers, which made microcomputers seem all the more exciting.\\r\\n\\r\\n[2] Italian words for abstract concepts can nearly always be predicted from their English cognates (except for occasional traps like polluzione). It\\'s the everyday words that differ. So if you string together a lot of abstract concepts with a few simple verbs, you can make a little Italian go a long way.\\r\\n\\r\\n[3] I lived at Piazza San Felice 4, so my walk to the Accademia went straight down the spine of old Florence: past the Pitti, across the bridge, past Orsanmichele, between the Duomo and the Baptistery, and then up Via Ricasoli to Piazza San Marco. I saw Florence at street level in every possible condition, from empty dark winter evenings to sweltering summer days when the streets were packed with tourists.\\r\\n\\r\\n[4] You can of course paint people like still lives if you want to, and they\\'re willing. That sort of portrait is arguably the apex of still life painting, though the long sitting does tend to produce pained expressions in the sitters.\\r\\n\\r\\n[5] Interleaf was one of many companies that had smart people and built impressive technology, and yet got crushed by Moore\\'s Law. In the 1990s the exponential growth in the power of commodity (i.e. Intel) processors rolled up high-end, special-purpose hardware and software companies like a bulldozer.\\r\\n\\r\\n[6] The signature style seekers at RISD weren\\'t specifically mercenary. In the art world, money and coolness are tightly coupled. Anything expensive comes to be seen as cool, and anything seen as cool will soon become equally expensive.\\r\\n\\r\\n[7] Technically the apartment wasn\\'t rent-controlled but rent-stabilized, but this is a refinement only New Yorkers would know or care about. The point is that it was really cheap, less than half market price.\\r\\n\\r\\n[8] Most software you can launch as soon as it\\'s done. But when the software is an online store builder and you\\'re hosting the stores, if you don\\'t have any users yet, that fact will be painfully obvious. So before we could launch publicly we had to launch privately, in the sense of recruiting an initial set of users and making sure they had decent-looking stores.\\r\\n\\r\\n[9] We\\'d had a code editor in Viaweb for users to define their own page styles. They didn\\'t know it, but they were editing Lisp expressions underneath. But this wasn\\'t an app editor, because the code ran when the merchants\\' sites were generated, not when shoppers visited them.\\r\\n\\r\\n[10] This was the first instance of what is now a familiar experience, and so was what happened next, when I read the comments and found they were full of angry people. How could I claim that Lisp was better than other languages? Weren\\'t they all Turing complete? People who see the responses to essays I write sometimes tell me how sorry they feel for me, but I\\'m not exaggerating when I reply that it has always been like this, since the very beginning. It comes with the territory. An essay must tell readers things they don\\'t already know, and some people dislike being told such things.\\r\\n\\r\\n[11] People put plenty of stuff on the internet in the 90s of course, but putting something online is not the same as publishing it online. Publishing online means you treat the online version as the (or at least a) primary version.\\r\\n\\r\\n[12] There is a general lesson here that our experience with Y Combinator also teaches: Customs continue to constrain you long after the restrictions that caused them have disappeared. Customary VC practice had once, like the customs about publishing essays, been based on real constraints. Startups had once been much more expensive to start, and proportionally rare. Now they could be cheap and common, but the VCs\\' customs still reflected the old world, just as customs about writing essays still reflected the constraints of the print era.\\r\\n\\r\\nWhich in turn implies that people who are independent-minded (i.e. less influenced by custom) will have an advantage in fields affected by rapid change (where customs are more likely to be obsolete).\\r\\n\\r\\nHere\\'s an interesting point, though: you can\\'t always predict which fields will be affected by rapid change. Obviously software and venture capital will be, but who would have predicted that essay writing would be?\\r\\n\\r\\n[13] Y Combinator was not the original name. At first we were called Cambridge Seed. But we didn\\'t want a regional name, in case someone copied us in Silicon Valley, so we renamed ourselves after one of the coolest tricks in the lambda calculus, the Y combinator.\\r\\n\\r\\nI picked orange as our color partly because it\\'s the warmest, and partly because no VC used it. In 2005 all the VCs used staid colors like maroon, navy blue, and forest green, because they were trying to appeal to LPs, not founders. The YC logo itself is an inside joke: the Viaweb logo had been a white V on a red circle, so I made the YC logo a white Y on an orange square.\\r\\n\\r\\n[14] YC did become a fund for a couple years starting in 2009, because it was getting so big I could no longer afford to fund it personally. But after Heroku got bought we had enough money to go back to being self-funded.\\r\\n\\r\\n[15] I\\'ve never liked the term \"deal flow,\" because it implies that the number of new startups at any given time is fixed. This is not only false, but it\\'s the purpose of YC to falsify it, by causing startups to be founded that would not otherwise have existed.\\r\\n\\r\\n[16] She reports that they were all different shapes and sizes, because there was a run on air conditioners and she had to get whatever she could, but that they were all heavier than she could carry now.\\r\\n\\r\\n[17] Another problem with HN was a bizarre edge case that occurs when you both write essays and run a forum. When you run a forum, you\\'re assumed to see if not every conversation, at least every conversation involving you. And when you write essays, people post highly imaginative misinterpretations of them on forums. Individually these two phenomena are tedious but bearable, but the combination is disastrous. You actually have to respond to the misinterpretations, because the assumption that you\\'re present in the conversation means that not responding to any sufficiently upvoted misinterpretation reads as a tacit admission that it\\'s correct. But that in turn encourages more; anyone who wants to pick a fight with you senses that now is their chance.\\r\\n\\r\\n[18] The worst thing about leaving YC was not working with Jessica anymore. We\\'d been working on YC almost the whole time we\\'d known each other, and we\\'d neither tried nor wanted to separate it from our personal lives, so leaving was like pulling up a deeply rooted tree.\\r\\n\\r\\n[19] One way to get more precise about the concept of invented vs discovered is to talk about space aliens. Any sufficiently advanced alien civilization would certainly know about the Pythagorean theorem, for example. I believe, though with less certainty, that they would also know about the Lisp in McCarthy\\'s 1960 paper.\\r\\n\\r\\nBut if so there\\'s no reason to suppose that this is the limit of the language that might be known to them. Presumably aliens need numbers and errors and I/O too. So it seems likely there exists at least one path out of McCarthy\\'s Lisp along which discoveredness is preserved.\\r\\n\\r\\n\\r\\n\\r\\nThanks to Trevor Blackwell, John Collison, Patrick Collison, Daniel Gackle, Ralph Hazell, Jessica Livingston, Robert Morris, and Harj Taggar for reading drafts of this.', path=None, url=None, mimetype=None), image_resource=None, audio_resource=None, video_resource=None, text_template='{metadata_str}\\n\\n{content}')]\n"
     ]
    }
   ],
   "source": [
    "print(documents)"
   ]
  },
  {
   "cell_type": "code",
   "execution_count": 4,
   "metadata": {},
   "outputs": [],
   "source": [
    "from llama_index.embeddings.openai import OpenAIEmbedding\n",
    "from llama_index.llms.openai import OpenAI\n",
    "from llama_index.core import Settings\n",
    "\n",
    "llm = OpenAI(model=\"gpt-4o\", temperature=0.2)\n",
    "embed_model = OpenAIEmbedding()\n",
    "\n",
    "Settings.llm = llm\n",
    "Settings.embed_model = embed_model\n"
   ]
  },
  {
   "cell_type": "code",
   "execution_count": 5,
   "metadata": {},
   "outputs": [],
   "source": [
    "from llama_index.core.node_parser import SemanticSplitterNodeParser\n",
    "\n",
    "semantic_splitter = SemanticSplitterNodeParser(\n",
    "    buffer_size=10, \n",
    "    breakpoint_percentile_threshold=80, \n",
    "    embed_model=embed_model\n",
    ")\n",
    "txt_nodes_semantic=semantic_splitter.get_nodes_from_documents(documents)\n"
   ]
  },
  {
   "cell_type": "code",
   "execution_count": 6,
   "metadata": {},
   "outputs": [
    {
     "name": "stdout",
     "output_type": "stream",
     "text": [
      "노드 개수: 152\n",
      "In fact, I decided to write a book about Lisp hacking. It's scary to think how little I knew about Lisp hacking when I started writing that book. But there's nothing like writing a book about something to help you learn it. The book, On Lisp, wasn't published till 1993, but I wrote much of it in grad school.\n",
      "\n",
      "Computer Science is an uneasy alliance between two halves, theory and systems. The theory people prove things, and the systems people build things. I wanted to build things. \n"
     ]
    }
   ],
   "source": [
    "print(\"노드 개수:\", len(txt_nodes_semantic))\n",
    "print(txt_nodes_semantic[10].get_content())\n"
   ]
  },
  {
   "cell_type": "code",
   "execution_count": 7,
   "metadata": {},
   "outputs": [],
   "source": [
    "from llama_index.core import VectorStoreIndex\n",
    "\n",
    "txt_index = VectorStoreIndex(txt_nodes_semantic)  \n"
   ]
  },
  {
   "cell_type": "code",
   "execution_count": 8,
   "metadata": {},
   "outputs": [
    {
     "name": "stdout",
     "output_type": "stream",
     "text": [
      "프로그래밍에 대한 열정을 가지고 있었으며, 간단한 게임을 만들고 모델 로켓이 얼마나 높이 날아갈지 예측하는 프로그램을 작성했습니다. 또한 아버지가 책을 쓸 때 사용한 워드 프로세서도 만들었는데, 이 프로그램은 한 번에 약 2 페이지의 텍스트만 저장할 수 있었기 때문에 아버지는 2 페이지씩 작성한 후 인쇄했습니다. 프로그래밍을 좋아했지만 대학에서는 철학을 공부할 계획이었으나, 대학에 와서 철학 수업이 지루하다고 느껴 다른 분야에서는 무시해도 되는 가장자리 사례들만 남아 있다고 느꼈습니다.\n"
     ]
    }
   ],
   "source": [
    "#쿼리 엔진 설정하기\n",
    "txt_query_engine = txt_index.as_query_engine(similarity_top_k=5)\n",
    "\n",
    "#쿼리 실행하기\n",
    "txt_response = txt_query_engine.query(\"저자는 유년 시절에 무엇에 열정을 쏟았어? 자세히 설명해 줘\")\n",
    "print(txt_response)\n"
   ]
  },
  {
   "cell_type": "markdown",
   "metadata": {},
   "source": [
    "### 크로마 활용하기 "
   ]
  },
  {
   "cell_type": "code",
   "execution_count": 8,
   "metadata": {},
   "outputs": [],
   "source": [
    "import chromadb\n",
    "from llama_index.core import VectorStoreIndex, SimpleDirectoryReader\n",
    "from llama_index.vector_stores.chroma import ChromaVectorStore\n",
    "from llama_index.core import StorageContext\n",
    "\n",
    "documents = SimpleDirectoryReader(input_files=[\"data/paul_graham_essay.txt\"]).load_data()\n"
   ]
  },
  {
   "cell_type": "code",
   "execution_count": 9,
   "metadata": {},
   "outputs": [],
   "source": [
    "db = chromadb.PersistentClient(path=\"./chroma_db_test\")"
   ]
  },
  {
   "cell_type": "code",
   "execution_count": 10,
   "metadata": {},
   "outputs": [],
   "source": [
    "chroma_collection = db.get_or_create_collection(\"quickstart_v.1\")"
   ]
  },
  {
   "cell_type": "code",
   "execution_count": 11,
   "metadata": {},
   "outputs": [],
   "source": [
    "vector_store = ChromaVectorStore(chroma_collection=chroma_collection)\n",
    "storage_context = StorageContext.from_defaults(vector_store=vector_store)"
   ]
  },
  {
   "cell_type": "code",
   "execution_count": 12,
   "metadata": {},
   "outputs": [],
   "source": [
    "index = VectorStoreIndex.from_documents(\n",
    "    documents, storage_context=storage_context\n",
    ")\n"
   ]
  },
  {
   "cell_type": "code",
   "execution_count": 13,
   "metadata": {},
   "outputs": [
    {
     "name": "stdout",
     "output_type": "stream",
     "text": [
      "저자는 유년 시절에 글쓰기와 프로그래밍에 주력했습니다. 학교 외에서 주로 글쓰기와 프로그래밍을 하며, 9학년 때 IBM 1401 컴퓨터를 사용하여 프로그램을 작성하기도 했습니다. 이후에는 마이크로컴퓨터가 등장하면서 컴퓨터 앞에서 직접 프로그램을 입력할 수 있게 되었고, TRS-80와 Apple II와 같은 컴퓨터를 구입하여 프로그래밍을 시작했습니다. 이렇게 프로그래밍을 통해 유년 시절을 보냈으며, 대학에서는 철학을 전공할 계획이었지만 나중에 인공지능으로 전향하게 되었습니다.\n"
     ]
    }
   ],
   "source": [
    "query_engine = index.as_query_engine()\n",
    "response = query_engine.query(\"저자는 유년 시절에 어떤 작업에 열중했어? 자세히 설명해 줘\")\n",
    "print(response)\n"
   ]
  },
  {
   "cell_type": "markdown",
   "metadata": {},
   "source": [
    "##### chroma에 저장된 임베딩 불러오기"
   ]
  },
  {
   "cell_type": "code",
   "execution_count": 1,
   "metadata": {},
   "outputs": [],
   "source": [
    "# 임베딩 불러오기 \n",
    "\n",
    "import chromadb\n",
    "\n",
    "from llama_index.core import VectorStoreIndex, SimpleDirectoryReader\n",
    "from llama_index.vector_stores.chroma import ChromaVectorStore\n",
    "from llama_index.core import StorageContext\n",
    "\n",
    "# 크로마 클라이언트 초기화\n",
    "db = chromadb.PersistentClient(path=\"./chroma_db_test\")\n",
    "\n",
    "# 컬렉션 호출\n",
    "chroma_collection = db.get_or_create_collection(\"quickstart_v.1\")\n"
   ]
  },
  {
   "cell_type": "code",
   "execution_count": 2,
   "metadata": {},
   "outputs": [],
   "source": [
    "# 벡터 스토어 설정\n",
    "vector_store = ChromaVectorStore(chroma_collection=chroma_collection)\n",
    "storage_context = StorageContext.from_defaults(vector_store=vector_store)\n",
    "\n",
    "# 저장했던 인덱스 로드\n",
    "index = VectorStoreIndex.from_vector_store(\n",
    "    vector_store, storage_context=storage_context\n",
    ")"
   ]
  },
  {
   "cell_type": "code",
   "execution_count": 3,
   "metadata": {},
   "outputs": [
    {
     "name": "stdout",
     "output_type": "stream",
     "text": [
      "프로그래밍은 저자에게 초기에는 IBM 1401에서의 실험과 TRS-80을 통한 게임 및 워드 프로세서 개발을 통해 컴퓨터와 상호작용하고 창의적인 작업을 할 수 있는 수단으로 보였습니다. 이후에는 인공지능 분야로 발을 들여놓게 되었고, Lisp를 통해 프로그래밍을 통해 새로운 아이디어를 탐구하고 새로운 한계를 경험하는 것으로 여겼습니다.\n"
     ]
    }
   ],
   "source": [
    "query_engine = index.as_query_engine()\n",
    "response = query_engine.query(\"저자에게 프로그래밍은 어떤 의미인가요\")\n",
    "print(response)\n"
   ]
  },
  {
   "cell_type": "markdown",
   "metadata": {},
   "source": [
    "## CSV 파일 다루기 "
   ]
  },
  {
   "cell_type": "code",
   "execution_count": 1,
   "metadata": {},
   "outputs": [
    {
     "name": "stdout",
     "output_type": "stream",
     "text": [
      "documents 개수: 1\n",
      "Doc ID: 6b46bd06-e6e3-4169-999f-6e6131e40e88\n",
      "Text: 강력범죄,살인미수,48,66,38,16,6,0,1,4,8,0,0,0,0,0,2,0,2,17,0,0,0,0,2,1,4\n",
      ",3,0,0,0,0,0,0,0,6,0,0,0,0,0,0,0,0,0,0,0,0,0,0,0,0,8,1,7,2,2,0,0,0,0,1\n",
      ",29,4 강력범죄,살인미수등,61,67,45,19,13,1,1,16,40,0,1,3,1,2,0,0,12,13,3,1,1,0,\n",
      "14,1,10,6,1,1,0,0,0,0,1,5,0,0,3,0,0,0,1,0,0,1,0,3,0,0,1,1,14,3,15,1,3,\n",
      "0,3,0,3,1,93,7\n",
      "강력범죄,강도,36,40,29,42,9,1,1,18,42,3,4,13,35,3,0,3,23,45,1,1,...\n"
     ]
    }
   ],
   "source": [
    "from llama_index.core import SimpleDirectoryReader\n",
    "\n",
    "reader = SimpleDirectoryReader(input_files=[\"data/범죄 발생 장소별 통계_2023.csv\"])\n",
    "documents = reader.load_data()\n",
    "\n",
    "print(\"documents 개수:\", len(documents))\n",
    "print(documents[0])\n"
   ]
  },
  {
   "cell_type": "code",
   "execution_count": 2,
   "metadata": {},
   "outputs": [],
   "source": [
    "from llama_index.core import SimpleDirectoryReader\n",
    "from llama_index.readers.file import CSVReader\n",
    "\n",
    "parser = CSVReader()\n",
    "file_extractor = {\".csv\": parser}  \n"
   ]
  },
  {
   "cell_type": "code",
   "execution_count": 3,
   "metadata": {},
   "outputs": [],
   "source": [
    "documents = SimpleDirectoryReader(\n",
    "    input_files=[\"data/범죄 발생 장소별 통계_2023.csv\"], \n",
    "    file_extractor=file_extractor\n",
    ").load_data()\n"
   ]
  },
  {
   "cell_type": "code",
   "execution_count": 4,
   "metadata": {},
   "outputs": [
    {
     "name": "stdout",
     "output_type": "stream",
     "text": [
      "documents 개수: 1\n",
      "Doc ID: 0dc0e4cf-0975-4c57-9886-9fe6772eee78\n",
      "Text: ﻿\"범죄대분류, 범죄중분류, 단독주택_다가구_다중, 아파트, 다세대_연립, 오피스텔_원룸, 기타거주시설_기숙사 등,\n",
      "고속도로, 자동차 전용도로, 일반도로, 통행로_보도_골목길, 백화점, 대형할인점, 슈퍼마켓_소매점, 편의점, 시장_노점,\n",
      "창고_매장창고한정, 무인상점, 기타상점, 숙박업소_호텔_모텔_여관, 목욕탕_찜질방_사우나, 이발소_미용실, 마사지업소,\n",
      "공중위생업소_기타, 음식점, 카페, 주점, 단란_유흥주점_나이트_클럽_카바레, 버스터미널_정류소, 지하철역_전철역, 기차역,\n",
      "여객선터미널, 공항, 버스, 택시, 자가용자동차, 지하철_전철, 기차, 선박, 비행기, 교통수단내_기타, 공연장_극장,\n",
      "체육시설, 공원_놀...\n"
     ]
    }
   ],
   "source": [
    "print(\"documents 개수:\", len(documents))\n",
    "print(documents[0])\n"
   ]
  },
  {
   "cell_type": "code",
   "execution_count": 20,
   "metadata": {},
   "outputs": [],
   "source": [
    "from llama_index.core.node_parser import SemanticSplitterNodeParser\n",
    "from llama_index.embeddings.openai import OpenAIEmbedding\n",
    "\n",
    "embed_model = OpenAIEmbedding()\n",
    "semantic_splitter = SemanticSplitterNodeParser(\n",
    "    buffer_size=10, \n",
    "    breakpoint_percentile_threshold=80, \n",
    "    embed_model=embed_model\n",
    ")\n",
    "csv_nodes_semantic=semantic_splitter.get_nodes_from_documents(documents)\n"
   ]
  },
  {
   "cell_type": "code",
   "execution_count": 21,
   "metadata": {},
   "outputs": [
    {
     "name": "stdout",
     "output_type": "stream",
     "text": [
      "노드 개수: 1\n",
      "﻿\"범죄대분류, 범죄중분류, 단독주택_다가구_다중, 아파트, 다세대_연립, 오피스텔_원룸, 기타거주시설_기숙사 등, 고속도로, 자동차 전용도로, 일반도로, 통행로_보도_골목길, 백화점, 대형할인점, 슈퍼마켓_소매점, 편의점, 시장_노점, 창고_매장창고한정, 무인상점, 기타상점, 숙박업소_호텔_모텔_여관, 목욕탕_찜질방_사우나, 이발소_미용실, 마사지업소, 공중위생업소_기타, 음식점, 카페, 주점, 단란_유흥주점_나이트_클럽_카바레, 버스터미널_정류소, 지하철역_전철역, 기차역, 여객선터미널, 공항, 버스, 택시, 자가용자동차, 지하철_전철, 기차, 선박, 비행기, 교통수단내_기타, 공연장_극장, 체육시설, 공원_놀이시설, 게임장_(PC)방, 기타_(DVD)방_유원지, 어린이집_유치원, 학교, 도서관, 학원, 기타 교육시설, 금융보험기관, 의료기관, 종교시설, 야외_산야, 해안, 폐가_공터, 공중화장실, 관공서, 군사기지_군사시설, 구금장소, 사회복지시설, 기타, 미상\"\n",
      "강력범죄,살인미수,48,66,38,16,6,0,1,4,8,0,0,0,0,0,2,0,2,17,0,0,0,0,2,1,4,3,0,0,0,0,0,0,0,6,0,0,0,0,0,0,0,0,0,0,0,0,0,0,0,0,8,1,7,2,2,0,0,0,0,1,29,4\n",
      "강력범죄,살인미수등,61,67,45,19,13,1,1,16,40,0,1,3,1,2,0,0,12,13,3,1,1,0,14,1,10,6,1,1,0,0,0,0,1,5,0,0,3,0,0,0,1,0,0,1,0,3,0,0,1,1,14,3,15,1,3,0,3,0,3,1,93,7\n",
      "강력범죄,강도,36,40,29,42,9,1,1,18,42,3,4,13,35,3,0,3,23,45,1,1,7,1,7,9,10,15,0,3,0,0,0,0,3,10,0,0,0,0,0,1,1,5,7,1,1,2,0,0,0,12,1,1,19,0,0,3,1,0,0,1,100,3\n",
      "강력범죄,강간,418,680,624,693,69,0,0,20,34,2,3,0,5,2,0,0,28,1592,3,4,18,19,24,41,43,106,1,1,0,0,0,0,4,152,0,0,1,0,5,1,6,15,4,30,0,22,1,5,0,0,15,8,30,2,6,59,1,3,0,3,267,50\n",
      "강력범죄,유사강간,66,113,97,113,17,0,0,9,16,0,0,0,1,1,0,1,9,142,5,1,13,3,6,11,13,47,0,0,0,0,0,1,5,38,0,0,1,1,3,0,4,9,1,10,0,13,0,4,2,0,12,0,7,0,2,15,0,1,5,4,79,7\n",
      "강력범죄,강제추행,438,847,498,435,114,15,4,304,1363,34,58,85,301,87,16,20,462,618,221,35,128,55,1063,156,1153,1174,96,440,6,0,9,516,175,357,566,1,10,12,43,35,204,218,102,113,7,394,14,96,56,19,317,30,229,9,13,63,70,53,44,45,2022,121\n",
      "강력범죄,기타 강간_강제추행등,18,31,28,16,4,0,0,0,2,0,0,0,3,1,0,0,4,21,0,1,1,0,3,1,2,3,1,0,0,0,0,1,0,3,0,0,0,0,0,0,0,3,1,3,0,4,0,1,0,0,0,1,2,0,0,3,0,1,0,2,11,0\n",
      "강력범죄,방화,202,215,161,51,35,1,0,25,71,0,4,4,4,7,9,2,27,27,1,0,1,0,18,7,5,4,2,2,0,0,0,0,0,5,1,0,0,0,0,1,1,10,3,1,0,12,0,4,0,4,10,7,33,0,17,7,13,0,1,6,171,11\n",
      "절도범죄,절도범죄,6109,14565,5884,3078,1023,32,19,6036,16523,2486,8861,8586,8029,2918,842,10847,15401,1442,1583,278,120,169,5418,1535,1873,1112,402,1031,144,12,196,403,875,2843,463,5,75,40,238,168,1657,1287,1657,388,48,1541,255,165,159,2201,1257,549,5878,156,733,468,344,22,22,109,36517,2493\n",
      "폭력범죄,상해,1463,2703,1128,684,260,43,19,1469,2846,17,31,54,125,159,18,7,386,416,49,22,34,58,1303,124,1339,1056,45,57,10,0,8,36,36,66,19,0,25,2,12,17,136,197,80,53,3,443,8,24,17,15,256,57,585,13,74,31,79,14,25,71,4364,225\n",
      "폭력범죄,폭행,6018,18074,7239,2640,798,161,176,9345,15950,126,305,365,1297,790,137,40,2291,1402,229,109,109,186,5204,502,5554,3808,245,718,48,8,69,654,1870,716,365,3,75,4,144,89,609,926,465,234,24,952,58,83,74,88,1157,185,2314,39,171,125,433,83,137,180,21861,1466\n",
      "폭력범죄,체포_감금,72,120,86,62,17,9,1,60,33,0,2,1,7,0,2,1,20,81,3,3,1,4,13,7,9,13,0,1,0,0,1,3,6,100,1,0,1,0,2,2,3,3,8,3,1,4,1,2,0,0,31,4,13,0,0,2,6,0,3,4,162,17\n",
      "폭력범죄,협박,1863,4190,1963,755,219,389,223,2767,1332,15,27,81,267,87,15,8,406,143,4,30,22,21,807,119,475,263,19,27,7,1,4,32,39,55,10,1,7,1,12,12,68,94,61,20,12,137,7,26,11,31,133,28,299,6,20,7,98,6,47,20,4119,988\n",
      "폭력범죄,약취?유인,8,53,15,8,2,1,0,28,51,0,1,0,7,2,0,1,1,17,0,0,1,1,0,1,0,4,3,4,0,0,0,0,0,5,0,0,0,0,0,0,2,13,0,0,7,8,0,0,0,1,7,0,10,0,0,1,1,0,0,2,64,12\n",
      "폭력범죄,폭력행위등,208,461,195,112,63,3,5,396,1045,2,3,7,55,33,7,17,133,165,9,1,17,10,231,72,302,244,5,12,3,0,0,5,3,29,1,0,6,0,3,8,32,114,46,23,1,160,1,8,9,4,35,33,221,11,44,20,41,7,10,11,2120,108\n",
      "폭력범죄,공갈,354,745,204,114,96,1,0,92,196,0,1,8,31,11,1,1,89,63,5,4,11,6,136,61,18,29,7,4,2,1,1,1,1,34,0,0,0,0,1,0,13,39,57,12,0,49,0,7,2,8,20,6,27,2,4,3,13,9,8,3,2800,1499\n",
      "폭력범죄,손괴,2943,7403,3293,1504,393,45,22,4823,7190,39,106,128,356,262,69,400,1852,1550,42,93,52,67,1241,247,945,715,61,127,12,8,16,18,160,96,24,1,15,1,14,19,127,219,229,102,20,154,19,48,37,106,154,140,2465,48,239,112,76,4,12,47,12390,869\n",
      "지능범죄,직무유기,11,20,6,2,3,0,0,14,14,0,0,1,2,3,1,0,3,1,0,0,1,0,3,2,0,1,0,2,1,0,1,1,0,0,2,0,0,0,0,0,1,3,1,0,0,11,3,0,1,1,10,0,13,1,0,0,691,2,41,0,324,93\n",
      "지능범죄,직권남용,19,29,15,6,8,0,0,27,39,2,1,2,5,5,0,0,16,5,0,2,4,5,14,4,11,18,0,2,1,1,2,1,0,0,1,0,0,0,2,0,3,2,1,1,2,13,4,4,1,1,11,1,9,0,0,0,794,4,57,1,504,188\n",
      "지능범죄,증수뢰,1,5,2,1,4,0,0,1,4,0,0,0,0,1,0,0,3,2,0,0,0,0,12,6,3,4,0,0,0,0,0,0,0,1,0,0,1,0,0,0,3,0,0,1,0,14,0,0,2,0,3,1,1,0,0,0,37,1,0,0,120,31\n",
      "지능범죄,통화,1,1,1,1,0,1,0,0,2,1,2,9,10,19,0,0,21,0,1,0,1,0,5,0,0,0,0,0,0,0,0,1,2,0,0,0,0,0,0,0,1,1,1,0,0,0,0,0,0,248,0,0,0,0,0,1,5,0,0,0,68,80\n",
      "지능범죄,문서_인장,201,644,103,85,93,16,11,263,87,138,135,19,217,17,9,1,611,51,1,1,1,6,106,41,138,70,0,4,4,4,34,1,1,11,0,0,3,1,2,4,20,15,25,2,13,46,2,10,8,127,87,29,33,2,4,1,1548,24,7,16,4989,2138\n",
      "지능범죄,유가증권인지,0,3,0,0,0,0,0,0,0,1,0,0,0,1,0,0,7,0,0,0,0,0,0,4,0,0,0,0,0,0,0,0,0,0,1,0,0,0,0,0,0,0,1,0,0,0,0,0,0,9,0,0,0,0,0,0,1,0,0,0,12,7\n",
      "지능범죄,사기,9486,15989,4947,3535,3364,972,180,4296,6392,236,300,476,1646,806,195,300,7828,1516,157,246,84,135,9794,2821,5731,4135,121,335,99,2,48,24,2040,239,56,12,26,4,101,24,1251,129,853,101,41,484,26,144,104,1269,1237,195,1767,313,109,5,1515,143,95,68,158508,90846\n",
      "지능범죄,횡령,543,2179,723,539,243,65,27,3372,8538,356,651,579,1663,552,113,1367,2309,221,132,27,25,58,767,242,349,306,679,1880,90,6,476,1527,845,50,720,10,7,9,116,113,403,1063,316,131,18,329,46,36,30,445,399,61,1735,63,85,829,162,3,9,58,19448,6667\n",
      "지능범죄,배임,45,210,19,28,49,0,0,9,3,3,8,8,9,7,6,0,102,12,1,3,0,0,36,11,3,6,0,1,1,1,2,0,0,2,0,1,1,0,0,1,19,0,0,1,0,20,0,10,2,89,28,13,24,2,1,0,77,0,1,8,2193,523\n",
      "풍속범죄,성풍속범죄,952,3302,1058,704,215,7,0,288,835,35,63,41,132,30,6,22,226,611,132,10,18,40,107,107,82,62,96,497,6,0,7,122,6,24,250,2,1,3,10,16,125,187,637,33,3,299,41,51,24,7,48,5,226,14,3,958,25,81,6,9,4610,2422\n",
      "풍속범죄,도박범죄,804,489,229,133,105,0,0,4,9,0,1,6,2,13,18,1,204,29,3,5,3,25,145,37,29,9,0,2,0,0,1,0,1,4,1,0,0,0,0,0,64,72,451,39,0,0,0,0,2,5,6,1,20,0,2,0,1,24,0,2,2152,684\n",
      "특별경제범죄,특별경제범죄,1528,3655,919,616,573,20,4,695,756,63,109,388,1128,525,74,266,2456,424,96,87,62,88,3380,387,1659,1271,164,107,13,4,7,194,198,19,19,1,2,1,27,30,401,38,150,87,21,95,15,83,41,522,539,91,263,10,22,4,231,7,2,53,22684,11716\n",
      "마약범죄,마약범죄,2886,935,1260,1276,218,10,3,262,479,4,5,22,183,21,3,0,82,1199,8,2,12,13,47,27,65,438,31,30,12,1,39,2,10,171,4,1,1,4,8,6,7,19,24,3,0,7,0,0,1,291,461,9,601,3,50,21,27,8,12,3,3452,694\n",
      "보건범죄,보건범죄,181,296,158,573,91,2,4,195,215,0,10,52,20,409,10,5,491,173,63,68,450,210,1356,91,380,986,0,5,0,0,8,3,0,1,2,0,1,0,3,2,18,12,38,24,1,5,0,3,1,1,1173,6,117,7,10,1,13,1,2,13,2438,424\n",
      "환경범죄,환경범죄,23,23,3,3,7,0,1,72,29,0,1,3,0,5,18,0,36,5,5,0,1,3,4,0,1,0,1,0,0,1,0,0,0,0,0,0,68,1,1,0,2,4,0,0,0,8,0,0,0,1,8,2,495,1188,76,0,7,1,0,1,5118,158\n",
      "교통범죄,교통범죄,113,1807,159,116,74,13430,3926,200239,5462,14,63,33,15,145,15,5,135,63,2,2,1,2,60,5,1,5,27,8,3,6,3,161,7,58,2,1,16,0,52,2,28,59,0,2,2,99,2,2,5,6,42,17,284,29,55,0,95,13,0,3,7857,798\n",
      "노동범죄,노동범죄,6,7,3,5,6,0,0,1,1,0,0,0,3,0,0,0,14,1,0,0,0,0,25,1,3,44,0,0,1,0,0,1,0,0,0,0,14,0,0,0,1,0,1,1,1,0,0,3,2,0,5,0,6,3,0,0,35,0,0,2,1697,53\n",
      "안보범죄,안보범죄,10,34,8,16,10,0,0,1,3,0,0,0,0,1,0,0,1,0,0,0,1,0,2,1,1,3,0,1,0,0,1,0,0,0,0,0,0,0,0,0,0,0,0,0,0,2,0,0,0,5,0,0,0,0,0,0,7,0,0,0,104,34\n",
      "선거범죄,선거범죄,83,18,3,0,15,0,1,8,24,0,0,4,1,2,1,0,16,1,1,0,0,0,58,7,4,5,0,1,0,0,0,3,0,1,0,0,1,0,3,1,5,2,0,0,0,6,0,0,2,31,1,0,17,1,0,0,22,0,0,1,330,71\n",
      "병역범죄,병역범죄,377,501,257,171,78,1,0,6,2,1,2,0,0,1,0,1,3,3,1,1,2,0,7,1,0,0,0,12,3,0,6,0,0,0,0,0,0,0,0,0,3,0,0,0,0,14,3,1,17,0,10,0,25,0,1,0,357,1275,1,46,3818,1609\n",
      "기타범죄,기타범죄,11219,22129,10127,5367,2145,775,452,20080,9509,115,319,595,2607,909,343,267,4513,3061,251,212,872,366,5113,650,2663,2962,166,535,64,32,237,318,362,527,165,11,3801,226,126,74,1040,783,1852,895,681,1918,79,473,315,288,2280,578,4365,15674,380,151,9370,818,170,502,89259,26728\n"
     ]
    }
   ],
   "source": [
    "print(\"노드 개수:\", len(csv_nodes_semantic))\n",
    "print(csv_nodes_semantic[0].get_content())\n"
   ]
  },
  {
   "cell_type": "code",
   "execution_count": 22,
   "metadata": {},
   "outputs": [],
   "source": [
    "from llama_index.core import VectorStoreIndex\n",
    "\n",
    "csv_index = VectorStoreIndex(csv_nodes_semantic)  \n"
   ]
  },
  {
   "cell_type": "code",
   "execution_count": 23,
   "metadata": {},
   "outputs": [
    {
     "name": "stdout",
     "output_type": "stream",
     "text": [
      "절도범죄가 가장 많이 일어난 장소는 \"도로\"이며, 해당 장소에서 절도범죄가 15,401건 발생했습니다.\n"
     ]
    }
   ],
   "source": [
    "csv_query_engine = csv_index.as_query_engine(similarity_top_k=5)\n",
    "\n",
    "csv_response = csv_query_engine.query(\"절도범죄가 가장 많이 일어난 장소는 어디야? 수치도 알려줘\")\n",
    "print(csv_response)\n"
   ]
  },
  {
   "cell_type": "code",
   "execution_count": 24,
   "metadata": {},
   "outputs": [
    {
     "name": "stdout",
     "output_type": "stream",
     "text": [
      "편의점에서 자주 발생하는 범죄는 절도범죄, 폭행, 사기 등이 있습니다. 이 중에서 가장 빈번하게 발생하는 범죄는 절도범죄이며, 해당 범죄 건수는 15,401건입니다.\n"
     ]
    }
   ],
   "source": [
    "csv_response = csv_query_engine.query( \"편의점에서는 자주 벌어지는 범죄는 어떤 것들이 있어? 이 중에서 가장 빈번하게 일어난 범죄와 범죄 건수도 알려줘\" )\n",
    "print(csv_response)"
   ]
  },
  {
   "cell_type": "markdown",
   "metadata": {},
   "source": [
    "## HWP 파일 다루기 "
   ]
  },
  {
   "cell_type": "code",
   "execution_count": 8,
   "metadata": {},
   "outputs": [
    {
     "name": "stdout",
     "output_type": "stream",
     "text": [
      "도큐먼트 개수:  1\n",
      "Doc ID: 41066c48-d1da-4d51-b3b9-4bf2bbd8d4c3\n",
      "Text: \u0002汤捯\u0000\u0000\u0000\u0000\u0002\u0002捤獥\u0000\u0000\u0000\u0000\u0002 氠瑢\u0000\u0000\u0000\u0000    漠杳\u0000\u0000\u0000\u0000    漠杳\u0000\u0000\u0000\u0000    漠杳\u0000\u0000\u0000\u0000    漠杳\u0000\u0000\u0000\u0000\n",
      "2018년 5월 28일(월) 조간   漠杳\u0000\u0000\u0000\u0000   최우진 KDI 거시경제연구부 연구위원  (044-550-4053,\n",
      "wooj.choi@kdi.re.kr)   漠杳\u0000\u0000\u0000\u0000   2018년 5월 25일(금) 09:00   漠杳\u0000\u0000\u0000\u0000   KDI\n",
      "홍보팀(044-550-4030, press@kdi.re.kr)   漠杳\u0000\u0000\u0000\u0000   \u0015桤灧\u0000\u0000\u0000\u0000\u0015  미국의 통화정책 변화가\n",
      "외국자본 유출에 미치는 영향 漠杳\u0000\u0000\u0000\u0000   최우진 거시경제연구부 연구위원   氠瑢\u0000\u0000\u0000\u0000 \u0015湯湷\u0000\u0000\u0000\u0000\u0015  본고는 2018년\n",
      "상반기...\n"
     ]
    }
   ],
   "source": [
    "from llama_index.readers.file import HWPReader\n",
    "\n",
    "reader = HWPReader()\n",
    "documents = reader.load_data(\"data/미국의 통화정책 변화가 외국자본 유출에 미치는 영향_20180528.hwp\")\n",
    "\n",
    "print(\"도큐먼트 개수: \", len(documents)) \n",
    "print(documents[0])\n"
   ]
  },
  {
   "cell_type": "code",
   "execution_count": 9,
   "metadata": {},
   "outputs": [
    {
     "name": "stdout",
     "output_type": "stream",
     "text": [
      "도큐먼트 개수:  1\n",
      "\u0002汤捯\u0000\u0000\u0000\u0000\u0002\u0002捤獥\u0000\u0000\u0000\u0000\u0002\u000b氠瑢\u0000\u0000\u0000\u0000\u000b\n",
      "\u000b漠杳\u0000\u0000\u0000\u0000\u000b\n",
      "\u000b漠杳\u0000\u0000\u0000\u0000\u000b\n",
      "\u000b漠杳\u0000\u0000\u0000\u0000\u000b\n",
      "\u000b漠杳\u0000\u0000\u0000\u0000\u000b\n",
      "2018년 5월 28일(월) 조간\n",
      "\u000b漠杳\u0000\u0000\u0000\u0000\u000b\n",
      "최우진 KDI 거시경제연구부 연구위원\n",
      "(044-550-4053, wooj.choi@kdi.re.kr)\n",
      "\u000b漠杳\u0000\u0000\u0000\u0000\u000b\n",
      "2018년 5월 25일(금) 09:00\n",
      "\u000b漠杳\u0000\u0000\u0000\u0000\u000b\n",
      "KDI 홍보팀(044-550-4030, press@kdi.re.kr)\n",
      "\u000b漠杳\u0000\u0000\u0000\u0000\u000b\n",
      "\u0015桤灧\u0000\u0000\u0000\u0000\u0015\n",
      "미국의 통화정책 변화가 \n",
      "외국자본 유출에 미치는 영향\u000b漠杳\u0000\u0000\u0000\u0000\u000b\n",
      "최우진 거시경제연구부 연구위원\n",
      "\u000b氠瑢\u0000\u0000\u0000\u0000\u000b\u0015湯湷\u0000\u0000\u0000\u0000\u0015\n",
      "본고는 2018년 상반기 『KDI 경제전망』에 수록될 예정임.\n",
      "\n",
      "\u0002汤捯\u0000\u0000\u0000\u0000\u0002\u0002捤獥\u0000\u0000\u0000\u0000\u0002\u0015湯湷\u0000\u0000\u0000\u0000\u0015\u000b漠杳\u0000\u0000\u0000\u0000\u000b연구위원 최우진\n",
      "\u0002汤捯\u0000\u0000\u0000\u0000\u0002미국의 통화정책 변화가 외국자본 유출에 미치는 영향\n",
      "1. 문제제기\u0010潴景\u0000\u0000\u0000\u0000\u0010\u0010潴景\u0000\u0000\u0000\u0000\u0010\u0010慤桥\u0000\u0000\u0000\u0000\u0010\u0010慤桥\u0000\u0000\u0000\u0000\u0010\u0015桤灧\u0000\u0000\u0000\u0000\u0015\n",
      "\u000b漠杳\u0000\u0000\u0000\u0000\u000b\u000b漠杳\u0000\u0000\u0000\u0000\u000b\n",
      "\u0012湯慴\u0000\u0000\u0000\u0000\u0012\n",
      "\u000b漠杳\u0000\u0000\u0000\u0000\u000b\u000b漠杳\u0000\u0000\u0000\u0000\u000b\n",
      "\u0012湯慴\u0000\u0000\u0000\u0000\u0012\n",
      "\u000b漠杳\u0000\u0000\u0000\u0000\u000b\u000b漠杳\u0000\u0000\u0000\u0000\u000b\n",
      "미국의 통화정책 변화가 외국자본 유출에 미치는 영향\n",
      "\u000b漠杳\u0000\u0000\u0000\u0000\u000b\u000b漠杳\u0000\u0000\u0000\u0000\u000b\n",
      "미국의 통화정책 변화가 외국자본 유출에 미치는 영향\n",
      "\u000b漠杳\u0000\u0000\u0000\u0000\u000b 미국의 금리인상이 본격화될 것으로 예상되는 가운데, 신흥국 불안에 따른 국제금융시장의 변동성도 확대되고 있어 급격한 외국자본 유출에 대한 우려가 확대됨.\n",
      "\u000b漠杳\u0000\u0000\u0000\u0000\u000b 2008년 금융위기 이후 ‘제로금리’를 유지하였던 미국의 통화당국은 2015년 12월을 시작으로 현재까지 정책금리를 25bp씩 여섯 차례 인상한 바 있음.\n",
      "\u000b漠杳\u0000\u0000\u0000\u0000\u000b 최근에는 아르헨티나가 자국 경제불안에 따른 대외신뢰도 저하 및 통화가치 하락으로 IMF에 구제금융을 신청하면서 미국의 금리인상에 따른 신흥국의 외국자본 유출 우려가 높아지는 상황\n",
      "\u000b漠杳\u0000\u0000\u0000\u0000\u000b 외국자본 유출은 형태에 따라 실물경제에 미치는 영향이 다르게 나타날 수 있음.\n",
      "\u000b漠杳\u0000\u0000\u0000\u0000\u000b 서브프라임 모기지 사태 직후에는 대규모 증권투자 자금이 유출되었음에도 불구하고  일시적으로 주식시장에서 변동성이 확대된 데 그쳤음.\n",
      "\u000b漠杳\u0000\u0000\u0000\u0000\u000b 리먼 브라더스 부도 시에는 단기 외화차입을 중심으로 대규모 자금이 차환 정지되었고, 이에 따라 국내은행들은 외화유동성 위기를 겪은 바 있음.\n",
      "\u000b漠杳\u0000\u0000\u0000\u0000\u000b 본고에서는 미국 통화정책의 변화가 외국자본 유출에 미치는 영향을 자본형태별로 나누어 분석하고, 이를 바탕으로 정책적 시사점을 제시하고자 함.\n",
      "미국 금리와 주식시장 변동성 지수(VIX)\n",
      "\u000b漠杳\u0000\u0000\u0000\u0000\u000b\n",
      "2. 미국 통화정책의 변화와 외국자본 유출의 관계\n",
      "\u000b漠杳\u0000\u0000\u0000\u0000\u000b 미국 통화정책의 변화와 형태별 외국자본 유출의 관계를 살펴보기 위해 미국 단기 국채금리(1년 만기)의 변동을 통화정책 변화를 반영하는 변수로 설정\n",
      "\u000b漠杳\u0000\u0000\u0000\u0000\u000b 미 연방준비위원회(이하 연준)의 전통적인 통화정책 수단은 연준 정책금리이나 정책금리 변동이 없더라도 구두개입 및 양적완화 등을 통해 통화정책을 수행.\n",
      "\u000b漠杳\u0000\u0000\u0000\u0000\u000b ‘제로금리’인 상황에서는 시장금리의 변화가 통화정책의 기조를 더 정확하게 반영하며 최근 학술 연구들(Gertler and Karadi[2015] 등)에서 이를 반영하는 대표적인 시장금리로서 미국 단기 국채(1년 만기 재무부 채권) 금리를 활용\n",
      "╺ 본문에서도 통화정책의 대리변수로서 이를 사용하였으며, 강건성 검증을 위해 연준 정책금리를 이용할 경우 본문과 비슷하지만 통계적 유의성이 떨어지는 결과를 보임.\n",
      "\u000b漠杳\u0000\u0000\u0000\u0000\u000b 미국 단기 국채금리를 통해 살펴본 결과, 미 연준은 글로벌 금융위기 이후 제로금리 상황에서도 비전통적 수단을 통해 완화적 통화정책 기조를 유지한 후 2014년 4분기부터는 완만한 정상화(긴축) 기조를 걷는 모습\n",
      "\u000b漠杳\u0000\u0000\u0000\u0000\u000b 양적완화는 정책금리가 제로금리 하한에 제약된 상황에서 시중에 대규모 유동성을 공급하였는데, 미국 단기 국채금리는 정책금리의 변동이 없었던 기간(2009년\u001f1분기~2014년\u001f3분기 동안)에도 소폭 하락하며 통화정책 기조가 확장적이었음을 반영\n",
      "\u000b漠杳\u0000\u0000\u0000\u0000\u000b 한편, 2014년 4분기부터는 단기 국채금리가 상승세로 전환되어 미국의 통화정책 기조가 양적완화 축소 및 정책금리 인상 등 긴축적으로 전환되었음을 나타내고 있음.\n",
      "미국 정책금리 및 시장금리 변화\n",
      "\u000b漠杳\u0000\u0000\u0000\u0000\u000b\n",
      "\u000b漠杳\u0000\u0000\u0000\u0000\u000b 한편, 미국 통화정책의 정상화 이후 우리 자본시장에서는 부채성 자금(채권 및 차입 투자)를 중심으로 외국자본 유출이 발생하고 있으나, 외국자본 전체로는 유입 기조를 유지\n",
      "\u000b漠杳\u0000\u0000\u0000\u0000\u000b 리먼 브라더스 사태 기간(2008년 3~4분기) 중, 미국의 통화정책 변화를 반영하는 단기 국채금리가 큰 폭으로 하락했음에도 불구하고 외국자본은 차입투자를 중심으로 단기간에 대규모 유출된 바 있음.\n",
      "╺ 대규모 외화차입 자금이 유출되면서 국내은행들이 외화유동성 위기를 경험\n",
      "\u000b漠杳\u0000\u0000\u0000\u0000\u000b 양적완화 정책을 추진한 기간(2009년 1분기~2014년 3분기) 중 외국자본은 주로 채권투자를 중심으로 유입되었으며 그 규모는 GDP 대비 0.9% 정도를 차지\n",
      "╺ 미국의 완화적 통화정책으로 국제금융시장의 유동성이 확대되었으며 이에 따라 외국자본은 유입기조로 전환되었으나, 선물환 포지션 규제 및 외환건전성 부담금 정책 등으로 은행부문을 통한 차입투자 자금의 유입은 상대적으로 위축된 것으로 판단\n",
      "╺ 2008년 12월 이후 현재까지 직접투자, 주식 및 채권 투자 자금의 형태로 각각 980억달러, 1,870억달러의 외국자본이 유입되었음.\n",
      "\u000b漠杳\u0000\u0000\u0000\u0000\u000b 한편, 미국의 통화정책이 정상화 기조로 변경된 이후(2014년 4분기~)에도 외국자본은 전반적으로 유입되는 모습을 유지하고 있으나, 채권투자와 차입투자 자금은 소폭 유출되는 모습\n",
      "╺ 금리 정상화로 국제투자자들의 단기자금 조달비용이 상승하면서 포트폴리오 재조정 과정에서 부채성 자금을 중심으로 자본이 유출되는 가운데, 중국 주식시장의 변동성 확대 등 단기적으로 국제금융시장에 불안이 확산되는 경우에도 외국자본의 유출이 발생된 바 있음.\n",
      "미국 통화정책 기조 변화와 형태별 외국자본 유출\n",
      "(단위: GDP 대비 % )\n",
      "\u000b氠瑢\u0000\u0000\u0000\u0000\u000b\n",
      "기간\n",
      "통화정책\n",
      "자본유출\n",
      "총투자\n",
      "직접투자\n",
      "증권투자\n",
      "기타\u001f투자\n",
      "채권투자\n",
      "차입투자\n",
      "I\n",
      "서브프라임 모기지 사태\n",
      "(2006 1/4~2008 2/4)\n",
      "완화적\n",
      "(위기)\n",
      "유입\n",
      "-1.5\n",
      "(0.5)\n",
      "-0.2\n",
      "(0.1)\n",
      "-0.3\n",
      "(0.5)\n",
      "-0.8\n",
      "(0.5)\n",
      "-0.9\n",
      "(0.4)\n",
      "-0.8\n",
      "(0.4)\n",
      "II\n",
      "리먼 브라더스 부도\n",
      "(2008 3/4~2008 4/4)\n",
      "완화적\n",
      "(위기)\n",
      "유출\n",
      "2.9\n",
      "(2.9)\n",
      "-0.3\n",
      "(0.1)\n",
      "1.5\n",
      "(0.2)\n",
      "0.9\n",
      "(0.4)\n",
      "1.7\n",
      "(2.8)\n",
      "2.4\n",
      "(3.2)\n",
      "III\n",
      "양적완화 기간\n",
      "(2009 1/4~2014 3/4)\n",
      "완화적\n",
      "유입\n",
      "-0.9\n",
      "(0.7)\n",
      "-0.2\n",
      "(0.1)\n",
      "-0.7\n",
      "(0.7)\n",
      "-0.4\n",
      "(0.3)\n",
      "0.0\n",
      "(0.6)\n",
      "-0.0\n",
      "(0.6)\n",
      "IV\n",
      "금리 정상화 기간\n",
      "(2014 4/4~2017 4/4)\n",
      "긴축적\n",
      "전환\n",
      "유입\n",
      "(부분유출)\n",
      "-0.2\n",
      "(0.8)\n",
      "-0.2\n",
      "(0.1)\n",
      "-0.0\n",
      "(0.6)\n",
      "0.1\n",
      "(0.3)\n",
      "0.0\n",
      "(0.3)\n",
      "0.1\n",
      "(0.3)\n",
      "  주: (+)의 값은 외국자본의 유출을, (-)의 값은 유입을 의미함. 괄호 안은 표준편차를 의미함.\n",
      "자료: 한국은행.\n",
      "\u000b漠杳\u0000\u0000\u0000\u0000\u000b 이와 같은 외국자본 유출입의 결과, 대외채무는 제한적인 수준에서 증가하는 가운데 주식투자의 비중이 상승한 반면 부채성 자금(채권 및 차입 투자)의 비중은 축소된 것으로 나타남.\n",
      "\u000b漠杳\u0000\u0000\u0000\u0000\u000b 전체 대외채무의 증가세는 글로벌 금융위기 이후 대체로 안정적인 모습을 보이며 GDP 대비 70~80% 수준을 유지하고 있음.\n",
      "╺ 이에 따라 2017년 기준 채권시장과 주식시장에서 외국인의 비중은 각각 10%와 34%를 기록하고 있으며 큰 변동을 보이지 않는 모습\n",
      "\u000b漠杳\u0000\u0000\u0000\u0000\u000b 한편, 전체 대외채무 중 외국 증권투자 자금의 비중은 양적완화 기간 중 안정된 모습을 보인 바 있으나, 통화정책 정상화가 시작되며 채권투자 자금이 유출되면서 주식투자의 비중이 상대적으로 확대됨.\n",
      "\u000b漠杳\u0000\u0000\u0000\u0000\u000b 차입투자 자금의 경우 글로벌 금융위기 이후 지속적으로 그 비중이 하락하는 추세를 나타내고 있음.\n",
      "╺ 이에 따라 전체 대외채무 중 차입투자의 비중은 2008년 23.2%에서 2017년 10.2%까지 하락하여 단기 외화차입의 차환정지에 따른 위험은 상당 폭 축소된 모습\n",
      "\u000b漠杳\u0000\u0000\u0000\u0000\u000b 이에 따라 채권투자와 차입투자 등 부채성 자금의 비중은 전반적으로 축소되었으며, 특히 미국의 통화정책 정상화가 시작된 이후 이와 같은 흐름이 강화된 모습\n",
      "╺ 이와 같은 사실은 부채성 자금의 경우 위기 시 신용경색을 통해 국내 금융시장에 상대적으로 더 큰 악영향을 미친다는 점(Tong and Wei, 2011)을 감안할 때, 우리나라의 외환건전성이 개선되었음을 시사\n",
      "대외채무의 추이 및 형태별 비중\n",
      "\u000b氠瑢\u0000\u0000\u0000\u0000\u000b\n",
      "\u0002汤捯\u0000\u0000\u0000\u0000\u0002\u000b漠杳\u0000\u0000\u0000\u0000\u000b\n",
      "\u000b漠杳\u0000\u0000\u0000\u0000\u000b\n",
      "          주: 순대외채무는 외환보유액을 제외한 민간부문의 순대외채무임.\n",
      "        자료: 한국은행.\n",
      "3. 미국의 통화정책 변화가 외국자본 유출에 미치는 영향 분석\n",
      "\u000b漠杳\u0000\u0000\u0000\u0000\u000b 미국 금리인상과 외국자본 유출의 관계를 보다 정교하게 실증분석하기 위해, 우선 한미 금리차와 외국자본 유출간 상관관계를 살펴보고자 함.\n",
      "\u000b漠杳\u0000\u0000\u0000\u0000\u000b 통상적으로 이자율 평형설에 의하면, 다른 요인이 동일한 경우 금리차의 확대는 상대적으로 수익률이 높아진 국가로 자본이 이동할 것임을 의미\n",
      "╺ 이는 한국 금리가 고정된 상태에서 미국 금리가 인상되는 경우, 외국자본이 유출되면서 기대환율 등이 조정되어 두 국가의 채권 수익률이 동일해지는 상태(차익거래 기회가 없어짐)로 회귀한다는 의미임. \n",
      "\u000b漠杳\u0000\u0000\u0000\u0000\u000b 그러나 통화가치의 안정성, 기축통화 여부, 국가 부도 위험 및 경제위기 등도 자본유출의 주요 요인이므로 금리차만으로는 자본유출의 변동을 설명하기는 어려움.\n",
      "\u000b漠杳\u0000\u0000\u0000\u0000\u000b 한미 금리차는 외국자본 유출과 통계적으로 의미 있는 관계를 갖지 않는 것으로 나타남.\n",
      "\u000b漠杳\u0000\u0000\u0000\u0000\u000b 1년 만기 국공채의 시장금리(한국 통화 안정증권 및 미 재무부 채권)의 차이를 분석\n",
      "\u000b漠杳\u0000\u0000\u0000\u0000\u000b 한미 금리차(한국 금리\u001f–\u001f미국 금리)와 외국자본 유출의 추이를 살펴보면, 금리차가 확대되는 시기에 외국자본이 오히려 유출되는 흐름을 나타내었던 것으로 보이나 계수 추정치가 통계적으로 유의하지 않음.\n",
      "╺ 이는 미국 금리의 인상이 오히려 외국자본의 유입을 가져온다고 해석될 수 있어 이자율 평형설로써 예상되는 결과와는 다른 모습\n",
      "\u000b漠杳\u0000\u0000\u0000\u0000\u000b 한편, 글로벌 금융위기 시기를 통제한 경우에는 외국자본이 유입되는 결과를 보이나 역시 계수 추정치가 통계적으로 유의하지 않음.\n",
      "한미 금리차와 외국자본 유출의 관계\n",
      "\u000b漠杳\u0000\u0000\u0000\u0000\u000b  \u000b氠瑢\u0000\u0000\u0000\u0000\u000b\n",
      "(3)\n",
      "(4)\n",
      "총투자\n",
      "총투자\n",
      "한미 금리차\n",
      "(한국–미국)\n",
      "0.01\n",
      "(0.08)\n",
      "-0.03\n",
      "(-0.32)\n",
      "글로벌 \n",
      "금융위기 더미\n",
      "4.60***\n",
      "(8.39)\n",
      "N\n",
      "60\n",
      "60\n",
      "R-sq\n",
      "0.48\n",
      "0.64\n",
      "           주: 회귀분석에서는 실질 GDP 성장률을 통제하였음.\n",
      "         자료: 한국은행; Federal Reserve Bank of St. Louis; Bloomberg.\n",
      "\u000b漠杳\u0000\u0000\u0000\u0000\u000b 한편, 한국과 미국 금융시장의 구조적 차이를 반영하기 위해 모형을 재설정하여 분석을 시도한 결과에서도, 미국의 금리인상이 외국자본의 유출에 미치는 영향은 미미한 것으로 나타남.\n",
      "\u000b漠杳\u0000\u0000\u0000\u0000\u000b 원화와 미 달러화 표시 자산들의 수익률이 단순 비교될 수 없다는 점에서, 한미 금리차가 아닌 각국 금리를 독립적인 설명변수로 사용하였음.\n",
      "╺ 이 외에도 한국의 실질 GDP 성장률, 1인당 GDP 수준, 물가상승률, 정치/지정학적 위험 지수 및 글로벌 금융위기 더미 등을 통제변수로 사용\n",
      "╺ 한편, 국제금융시장의 변동성 확대에 따라 나타날 수 있는 외국자본의 유출 가능성을 평가하기 위해 미국 주식시장의 변동성 지수(Volatility Index: VIX)를 추가적으로 고려\n",
      "\u000b漠杳\u0000\u0000\u0000\u0000\u000b 실증분석 결과, 미국의 금리인상은 주로 부채성 자금(차입 및 채권 투자)을 중심으로 외국자본 유출을 유발할 가능성이 있으나 그 규모는 통상적인 수준임.\n",
      "╺ 자본유출은 변동성이 매우 크고 대규모 유출의 경우에도 분기를 넘어 이어가는 경우가 드물기 때문에 1분기를 기준으로 유출 가능 규모를 추산\n",
      "╺ 분석 결과는 미 연준이 정책금리를 25bp 인상할 경우, 미국의 단기 국채금리가 37.5bp 상승하며 이로 인해 우리 자본시장으로부터 유출되는 외국자본의 규모는 GDP 대비 0.38%(전체 외국자본 대비 0.52%)에 불과함.\n",
      "* 연준의 기준금리 25bp 인상에 따른 미국 단기 국채금리 상승폭은 금리 정상화 기간중에는 기준금리 상승폭과 비슷한 수준이나 전체 분석기간 중에는 37.5bp로 추산됨.\n",
      "* 금리 정상화 기간 중 통상적인 외국자본 유출 규모는 GDP 대비 0.79% 정도임.\n",
      "금리인상과 외국자본 유출\n",
      "\u000b氠瑢\u0000\u0000\u0000\u0000\u000b\n",
      "(1)\n",
      "(2)\n",
      "(3)\n",
      "(4)\n",
      "(5)\n",
      "(6)\n",
      "총자본\n",
      "직접투자\n",
      "증권투자\n",
      "기타투자\n",
      "채권투자\n",
      "차입투자\n",
      "미국 금리인상\n",
      "0.38*\n",
      "(1.90)\n",
      "-0.13**\n",
      "(-2.30)\n",
      "-0.24\n",
      "(-1.08)\n",
      "0.39*\n",
      "(1.82)\n",
      "0.76***\n",
      "(5.52)\n",
      "0.65***\n",
      "(7.00)\n",
      "한국 금리인상\n",
      "-0.25\n",
      "(-0.27)\n",
      "-0.02\n",
      "(-0.12)\n",
      "0.16\n",
      "(0.15)\n",
      "-0.89 \n",
      "(-1.53)\n",
      "-0.39 \n",
      "(-0.50)\n",
      "-0.80 \n",
      "(-1.23)\n",
      "VIX\n",
      "0.11 \n",
      "(0.93)\n",
      "0.01 \n",
      "(0.72)\n",
      "-0.11  \n",
      "(-0.79)\n",
      "-0.09 \n",
      "(-1.57)\n",
      "0.20*\n",
      "(1.99)\n",
      "0.18*** \n",
      "(2.74)\n",
      "정치/지정학적 위험\n",
      "0.10* \n",
      "(1.96)\n",
      "-0.01 \n",
      "(-0.51)\n",
      "0.03 \n",
      "(0.45)\n",
      "0.08***\n",
      "(2.74)\n",
      "0.08 \n",
      "(1.20)\n",
      "0.09 \n",
      "(1.44)\n",
      "N\n",
      "60\n",
      "60\n",
      "60\n",
      "60\n",
      "60\n",
      "60\n",
      "R-sq\n",
      "0.71\n",
      "0.22\n",
      "0.30\n",
      "0.47\n",
      "0.63\n",
      "0.73\n",
      "  주:\tʐ\u0000Ā\u0000\u0000\u0000\t1) Iacoviello and Caldara의 Geopolitical Risk를 정치/지정학적 위험 지수로 활용함.\n",
      "\tࣨ\u0000Ā\u0000\u0000\u0000\t2) 계수의 추정값이 제시된 독립변수들 외에도 한국의 실질 GDP 성장률, 1인당 GDP 수준, 물가상승률 및 글로벌 금융위기 더미가 회귀식에 포함되었으나 본문의 내용에 포함되지 않기에 표에서 생략하였음.\n",
      "자료: 한국은행, Federal Reserve Bank of St. Louis; Bloomberg.\n",
      "\u000b漠杳\u0000\u0000\u0000\u0000\u000b 국제금융시장의 변동성(VIX)이 확대되거나 정치/지정학적 위험이 높아지는 경우에도 외국자본의 유출 가능성이 있으나 현재 우려할 만한 수준은 아님.\n",
      "\u000b漠杳\u0000\u0000\u0000\u0000\u000b 국제금융시장의 변동성(VIX)이 확대될 경우 차입투자의 유출이 발생할 수 있음.\n",
      "╺ VIX 지수가 통상적인 수준(7.20, 1단위 표준편차)으로 확대되는 경우 외국 차입투자 자금의 유출은 GDP 대비 0.18%(전체 외국자본 대비 0.24%) 수준으로 나타남.\n",
      "╺ 2018년 5월 17일 현재, VIX 지수는 13.4를 기록하고 있어 우려할 만한 수준은 아닌 것으로 평가됨.\n",
      "\u000b漠杳\u0000\u0000\u0000\u0000\u000b 최근 일부 신흥국의 통화가치 급락 등을 고려할 때 미국의 금리인상이 빠르게 진행되면서 국제금융시장의 변동성이 동시에 급격히 확대되고, 이에 따라 외국자본이 비교적 큰 폭으로 유출될 가능성을 배제할 수는 없음.\n",
      "╺ 예를 들어 미 연준 금리가 단기간에 인상(50bp)되고 동시에 불확실성 확산에 따른 국제금융시장의 변동성(VIX) 상승폭이 글로벌 금융위기의 당시 상승폭(58.2)의 절반(29.0, 통상적인 수준의 4배)으로 확대되는 경우, 산술적으로 차입 자금을 중심으로 최대 240억달러(2008년 4분기 당시 유출 자금의 48%)까지 유출 가능\n",
      "\u000b漠杳\u0000\u0000\u0000\u0000\u000b 그러나 현재 외환보유액의 규모를 감안할 때, 앞의 예외적인 상황에서 발생가능한 외국자본 유출은 충분히 감내할 수 있는 정도로 평가됨.\n",
      "╺ 현재 우리 경제는 3,984억달러 규모의 외환보유액이 있으며, 이는 단기채무의 3.2배, 그리고 전체 부채성 자금 규모를 상회하는 수준임.\n",
      "╺ 위와 같이 예외적인 상황(연준 금리 50bp 인상 및 VIX 지수 29 상승)을 가정하여 계산된 자본 유출이 발생한다 하더라도 이는 외환보유액의 6% 수준으로 우리 경제가 충분히 감내할 수 있을 것으로 판단됨.\n",
      "\u000b漠杳\u0000\u0000\u0000\u0000\u000b 한편, 정치/지정학적 위험의 경우에는 채권투자를 중심으로 GDP 대비 0.10%(전체 외국자본 대비 0.13%) 규모의 유출이 발생하는 것으로 추정됨.\n",
      "╺ 남북 정상회담 등으로 지정학적 위험이 다소 완화됨에 따라 국제금융시장의 변동성 확대 등에 따른 채권투자의 유출을 일정 부분 완충시킬 가능성을 시사\n",
      "4. 요약과 시사점\n",
      "\u000b漠杳\u0000\u0000\u0000\u0000\u000b 미국의 금리인상이 본격화될 것으로 예상되는 가운데, 신흥국 불안에 따라 국제금융시장의 변동성도 확대되고 있어 급격한 외국자본의 유출에 대한 우려가 확대됨.\n",
      "\u000b漠杳\u0000\u0000\u0000\u0000\u000b 외국자본 유출은 그 형태에 따라 실물경제에 반영되는 모습이 다르게 나타날 수 있어, 미국 금리인상이 형태별 외국자본 유출에 미치는 영향을 살펴볼 필요가 있음.\n",
      "\u000b漠杳\u0000\u0000\u0000\u0000\u000b 미국 금리의 인상은 부채성 자금(채권 및 차입 투자)을 중심으로 외국자본을 유출시킬 가능성이 있으나, 그 규모는 우리 경제의 규모와 외환보유액 등 외환건전성 상황을 감안할 때 미미한 것으로 평가됨.\n",
      "\u000b漠杳\u0000\u0000\u0000\u0000\u000b 실증분석 결과, 미국의 통화정책 변화에 따른 금리인상은 주로 차입투자와 채권투자 자금을 중심으로 외국자본의 유출을 유발할 수 있으나 이는 GDP 대비 0.38% 정도로 미미한 수준이라고 평가할 수 있음.\n",
      "\u000b漠杳\u0000\u0000\u0000\u0000\u000b 현재 우리 경제는 3,984억달러 규모의 외환보유액을 보유하고 있는바, 이는 단기채무의 3.2배의 규모로서 통상적인 수준을 넘어서는 금리인상 충격에 따른 자본유출을 충분히 감내할 수 있는 수준\n",
      "\u000b漠杳\u0000\u0000\u0000\u0000\u000b 한편, 국제금융시장의 변동성(VIX)이 증가하는 경우 차입투자 자금을 중심으로 외국자본 유출에 영향을 미칠 가능성이 있음.\n",
      "\u000b漠杳\u0000\u0000\u0000\u0000\u000b 특히, 최근 신흥국 전반에서 외국자본 유출 가능성이 확대되고 있다는 점을 고려할 때 변동성이 급격히 확대되는 상황에 대한 면밀한 모니터링을 요함.\n",
      "\u000b漠杳\u0000\u0000\u0000\u0000\u000b 아울러 단기 외채 비율 점검 등 현재 양호한 외환건전성을 지속적으로 유지하기 위한 노력이 필요\n"
     ]
    }
   ],
   "source": [
    "from llama_index.core import SimpleDirectoryReader\n",
    "\n",
    "reader = SimpleDirectoryReader(input_files=[\"data/미국의 통화정책 변화가 외국자본 유출에 미치는 영향_20180528.hwp\"], encoding='euc-kr' )\n",
    "documents = reader.load_data()\n",
    "\n",
    "print(\"도큐먼트 개수: \", len(documents)) \n",
    "print(documents[0].get_content())\n"
   ]
  },
  {
   "cell_type": "code",
   "execution_count": 10,
   "metadata": {},
   "outputs": [],
   "source": [
    "from llama_index.embeddings.openai import OpenAIEmbedding\n",
    "from llama_index.llms.openai import OpenAI\n",
    "from llama_index.core import Settings\n",
    "\n",
    "llm = OpenAI(model=\"gpt-4o\", temperature=0.2)\n",
    "embed_model = OpenAIEmbedding()\n",
    "\n",
    "Settings.llm = llm\n",
    "Settings.embed_model = embed_model\n"
   ]
  },
  {
   "cell_type": "code",
   "execution_count": 11,
   "metadata": {},
   "outputs": [],
   "source": [
    "from llama_index.core.node_parser import SemanticSplitterNodeParser\n",
    "\n",
    "semantic_splitter = SemanticSplitterNodeParser(\n",
    "    buffer_size=10, \n",
    "    breakpoint_percentile_threshold=80, \n",
    "    embed_model=embed_model\n",
    ")\n",
    "hwp_nodes_semantic=semantic_splitter.get_nodes_from_documents(documents)\n"
   ]
  },
  {
   "cell_type": "code",
   "execution_count": 12,
   "metadata": {},
   "outputs": [
    {
     "name": "stdout",
     "output_type": "stream",
     "text": [
      "노드의 개수: 13\n",
      "漠杳\u0000\u0000\u0000\u0000\u000b 한편, 정치/지정학적 위험의 경우에는 채권투자를 중심으로 GDP 대비 0.10%(전체 외국자본 대비 0.13%) 규모의 유출이 발생하는 것으로 추정됨.\n",
      "╺ 남북 정상회담 등으로 지정학적 위험이 다소 완화됨에 따라 국제금융시장의 변동성 확대 등에 따른 채권투자의 유출을 일정 부분 완충시킬 가능성을 시사\n",
      "4. 요약과 시사점\n",
      "\u000b漠杳\u0000\u0000\u0000\u0000\u000b 미국의 금리인상이 본격화될 것으로 예상되는 가운데, 신흥국 불안에 따라 국제금융시장의 변동성도 확대되고 있어 급격한 외국자본의 유출에 대한 우려가 확대됨.\n",
      "\u000b漠杳\u0000\u0000\u0000\u0000\u000b 외국자본 유출은 그 형태에 따라 실물경제에 반영되는 모습이 다르게 나타날 수 있어, 미국 금리인상이 형태별 외국자본 유출에 미치는 영향을 살펴볼 필요가 있음.\n",
      "\u000b漠杳\u0000\u0000\u0000\u0000\u000b 미국 금리의 인상은 부채성 자금(채권 및 차입 투자)을 중심으로 외국자본을 유출시킬 가능성이 있으나, 그 규모는 우리 경제의 규모와 외환보유액 등 외환건전성 상황을 감안할 때 미미한 것으로 평가됨.\n",
      "\u000b漠杳\u0000\u0000\u0000\u0000\u000b 실증분석 결과, 미국의 통화정책 변화에 따른 금리인상은 주로 차입투자와 채권투자 자금을 중심으로 외국자본의 유출을 유발할 수 있으나 이는 GDP 대비 0.38% 정도로 미미한 수준이라고 평가할 수 있음.\n",
      "\u000b\n"
     ]
    }
   ],
   "source": [
    "print(\"노드의 개수:\", len(hwp_nodes_semantic))\n",
    "print(hwp_nodes_semantic[11].get_content())\n"
   ]
  },
  {
   "cell_type": "code",
   "execution_count": 13,
   "metadata": {},
   "outputs": [
    {
     "name": "stdout",
     "output_type": "stream",
     "text": [
      "미국 금리가 인상되면 한국 금융 시장에서는 주로 부채성 자금, 즉 채권 및 차입 투자를 중심으로 외국자본의 유출이 발생할 가능성이 있습니다. 그러나 이러한 자본 유출의 규모는 한국 경제의 규모와 외환보유액 등을 고려할 때 상대적으로 미미한 수준으로 평가됩니다. 외국자본 유출은 그 형태에 따라 실물경제에 미치는 영향이 다르게 나타날 수 있으며, 미국 금리 인상은 특히 차입투자와 채권투자 자금을 중심으로 외국자본의 유출을 유발할 수 있습니다. 다만, 전체 외국자본 유출은 GDP 대비 0.38% 정도로 미미한 수준으로 평가됩니다.\n"
     ]
    }
   ],
   "source": [
    "from llama_index.core import VectorStoreIndex\n",
    "\n",
    "hwp_index = VectorStoreIndex(hwp_nodes_semantic)  \n",
    "\n",
    "hwp_query_engine = hwp_index.as_query_engine(similarity_top_k=5)\n",
    "\n",
    "hwp_response = hwp_query_engine.query(\"미국 금리가 올라가면 한국 금융 시장은 어떤 영향을 받아? 한국어로 정리해 줘\")\n",
    "print(hwp_response)\n"
   ]
  },
  {
   "cell_type": "code",
   "execution_count": 50,
   "metadata": {},
   "outputs": [
    {
     "name": "stdout",
     "output_type": "stream",
     "text": [
      "소스노드의 수:  5\n",
      "Louis; Bloomberg.\n",
      "\u000b漠杳\u0000\u0000\u0000\u0000\u000b 한편, 한국과 미국 금융시장의 구조적 차이를 반영하기 위해 모형을 재설정하여 분석을 시도한 결과에서도, 미국의 금리인상이 외국자본의 유출에 미치는 영향은 미미한 것으로 나타남.\n",
      "\u000b漠杳\u0000\u0000\u0000\u0000\u000b 원화와 미 달러화 표시 자산들의 수익률이 단순 비교될 수 없다는 점에서, 한미 금리차가 아닌 각국 금리를 독립적인 설명변수로 사용하였음.\n",
      "\n"
     ]
    }
   ],
   "source": [
    "print(\"소스노드의 수: \", len(hwp_response.source_nodes))\n",
    "print(hwp_response.source_nodes[0].get_content())\n"
   ]
  },
  {
   "cell_type": "code",
   "execution_count": null,
   "metadata": {},
   "outputs": [],
   "source": []
  },
  {
   "cell_type": "code",
   "execution_count": null,
   "metadata": {},
   "outputs": [],
   "source": []
  },
  {
   "cell_type": "code",
   "execution_count": null,
   "metadata": {},
   "outputs": [],
   "source": []
  }
 ],
 "metadata": {
  "kernelspec": {
   "display_name": "ch04_env",
   "language": "python",
   "name": "python3"
  },
  "language_info": {
   "codemirror_mode": {
    "name": "ipython",
    "version": 3
   },
   "file_extension": ".py",
   "mimetype": "text/x-python",
   "name": "python",
   "nbconvert_exporter": "python",
   "pygments_lexer": "ipython3",
   "version": "3.11.9"
  }
 },
 "nbformat": 4,
 "nbformat_minor": 2
}
