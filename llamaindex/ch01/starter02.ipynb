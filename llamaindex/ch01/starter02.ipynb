{
 "cells": [
  {
   "cell_type": "code",
   "execution_count": 1,
   "id": "8734a1a9",
   "metadata": {},
   "outputs": [
    {
     "name": "stderr",
     "output_type": "stream",
     "text": [
      "[nltk_data] Downloading package punkt_tab to /Users/mk/repo/llamaindex\n",
      "[nltk_data]     /ch01/ch01_env/lib/python3.11/site-\n",
      "[nltk_data]     packages/llama_index/core/_static/nltk_cache...\n",
      "[nltk_data]   Package punkt_tab is already up-to-date!\n",
      "/Users/mk/repo/llamaindex/ch01/ch01_env/lib/python3.11/site-packages/tqdm/auto.py:21: TqdmWarning: IProgress not found. Please update jupyter and ipywidgets. See https://ipywidgets.readthedocs.io/en/stable/user_install.html\n",
      "  from .autonotebook import tqdm as notebook_tqdm\n"
     ]
    },
    {
     "name": "stdout",
     "output_type": "stream",
     "text": [
      "Loaded 1 documents\n",
      "Response: The writer’s childhood was marked by an early interest in both writing and programming. Initially, he focused on short stories, which he considered awful. At age 13 or 14, he used a school district’s IBM 1401 computer for programming, primarily using Fortran. He was puzzled by the machine and struggled to find productive uses for it. A memorable event was when one of his programs failed to terminate, causing concern for the data center manager. Later, he acquired a microcomputer kit from Heathkit, which greatly impressed him. Eventually, his father purchased a TRS-80, allowing him to write simple games, predict rocket trajectories, and create a word processor. He initially intended to study philosophy in college, believing it to be the study of ultimate truths, but found it boring and switched to AI after being influenced by a Heinlein novel and a PBS documentary.\n",
      "Response text: The writer’s childhood was marked by an early interest in both writing and programming. Initially, he focused on short stories, which he considered awful. At age 13 or 14, he used a school district’s IBM 1401 computer for programming, primarily using Fortran. He was puzzled by the machine and struggled to find productive uses for it. A memorable event was when one of his programs failed to terminate, causing concern for the data center manager. Later, he acquired a microcomputer kit from Heathkit, which greatly impressed him. Eventually, his father purchased a TRS-80, allowing him to write simple games, predict rocket trajectories, and create a word processor. He initially intended to study philosophy in college, believing it to be the study of ultimate truths, but found it boring and switched to AI after being influenced by a Heinlein novel and a PBS documentary.\n"
     ]
    }
   ],
   "source": [
    "from llama_index.core import VectorStoreIndex, SimpleDirectoryReader, Settings\n",
    "from llama_index.embeddings.huggingface import HuggingFaceEmbedding\n",
    "from llama_index.llms.ollama import Ollama\n",
    "\n",
    "# Set lightweight embedding model\n",
    "Settings.embed_model = HuggingFaceEmbedding(model_name=\"sentence-transformers/all-MiniLM-L6-v2\")\n",
    "\n",
    "# Option A — rely on default local Ollama base URL:\n",
    "Settings.llm = Ollama(model=\"gemma3:4b\", request_timeout=360.0)\n",
    "\n",
    "# Option B — explicitly set base_url (use if Ollama runs on a non-default host/port):\n",
    "# Settings.llm = Ollama(model=\"gemma3:4b\", base_url=\"http://localhost:11434\", request_timeout=360.0)\n",
    "\n",
    "# Load documents\n",
    "documents = SimpleDirectoryReader(\"data\").load_data()\n",
    "print(f\"Loaded {len(documents)} documents\")  # Debug: Check document count\n",
    "\n",
    "# Create index\n",
    "index = VectorStoreIndex.from_documents(documents)\n",
    "query_engine = index.as_query_engine(response_mode=\"compact\")  # Try compact mode\n",
    "response = query_engine.query(\"Explain childhood of writer\")\n",
    "print(\"Response:\", response)  # Debug: Inspect full response object\n",
    "print(\"Response text:\", response.response)  # Print response text"
   ]
  }
 ],
 "metadata": {
  "kernelspec": {
   "display_name": "ch01_env",
   "language": "python",
   "name": "python3"
  },
  "language_info": {
   "codemirror_mode": {
    "name": "ipython",
    "version": 3
   },
   "file_extension": ".py",
   "mimetype": "text/x-python",
   "name": "python",
   "nbconvert_exporter": "python",
   "pygments_lexer": "ipython3",
   "version": "3.11.9"
  }
 },
 "nbformat": 4,
 "nbformat_minor": 5
}
